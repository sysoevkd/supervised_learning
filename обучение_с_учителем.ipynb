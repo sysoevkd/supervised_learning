{
 "cells": [
  {
   "cell_type": "code",
   "execution_count": 1,
   "metadata": {},
   "outputs": [
    {
     "name": "stderr",
     "output_type": "stream",
     "text": [
      "Matplotlib is building the font cache; this may take a moment.\n"
     ]
    }
   ],
   "source": [
    "import pandas as pd\n",
    "import numpy as np\n",
    "import matplotlib.pyplot as plt\n",
    "import seaborn as sns\n",
    "import phik\n",
    "from phik.report import plot_correlation_matrix\n",
    "\n",
    "from sklearn.model_selection import train_test_split\n",
    "from sklearn.pipeline import Pipeline\n",
    "from sklearn.preprocessing import OneHotEncoder, OrdinalEncoder, StandardScaler, MinMaxScaler, RobustScaler\n",
    "from sklearn.compose import ColumnTransformer\n",
    "from sklearn.impute import SimpleImputer\n",
    "from sklearn.model_selection import RandomizedSearchCV\n",
    "\n",
    "from sklearn.linear_model import LogisticRegression\n",
    "from sklearn.neighbors import KNeighborsClassifier\n",
    "from sklearn.tree import DecisionTreeClassifier\n",
    "from sklearn.svm import SVC\n",
    "\n",
    "from sklearn.metrics import roc_auc_score, accuracy_score, f1_score, make_scorer, precision_score, recall_score\n",
    "\n",
    "import shap"
   ]
  },
  {
   "cell_type": "code",
   "execution_count": 2,
   "metadata": {},
   "outputs": [
    {
     "name": "stdout",
     "output_type": "stream",
     "text": [
      "Requirement already satisfied: phik in /Users/sysoevkd/opt/anaconda3/lib/python3.9/site-packages (0.12.4)\n",
      "Requirement already satisfied: pandas>=0.25.1 in /Users/sysoevkd/opt/anaconda3/lib/python3.9/site-packages (from phik) (1.4.2)\n",
      "Requirement already satisfied: numpy>=1.18.0 in /Users/sysoevkd/opt/anaconda3/lib/python3.9/site-packages (from phik) (1.26.4)\n",
      "Requirement already satisfied: joblib>=0.14.1 in /Users/sysoevkd/opt/anaconda3/lib/python3.9/site-packages (from phik) (1.4.2)\n",
      "Requirement already satisfied: scipy>=1.5.2 in /Users/sysoevkd/opt/anaconda3/lib/python3.9/site-packages (from phik) (1.11.4)\n",
      "Requirement already satisfied: matplotlib>=2.2.3 in /Users/sysoevkd/opt/anaconda3/lib/python3.9/site-packages (from phik) (3.9.2)\n",
      "Requirement already satisfied: python-dateutil>=2.7 in /Users/sysoevkd/opt/anaconda3/lib/python3.9/site-packages (from matplotlib>=2.2.3->phik) (2.8.2)\n",
      "Requirement already satisfied: packaging>=20.0 in /Users/sysoevkd/opt/anaconda3/lib/python3.9/site-packages (from matplotlib>=2.2.3->phik) (21.3)\n",
      "Requirement already satisfied: importlib-resources>=3.2.0 in /Users/sysoevkd/opt/anaconda3/lib/python3.9/site-packages (from matplotlib>=2.2.3->phik) (6.4.0)\n",
      "Requirement already satisfied: contourpy>=1.0.1 in /Users/sysoevkd/opt/anaconda3/lib/python3.9/site-packages (from matplotlib>=2.2.3->phik) (1.2.1)\n",
      "Requirement already satisfied: fonttools>=4.22.0 in /Users/sysoevkd/opt/anaconda3/lib/python3.9/site-packages (from matplotlib>=2.2.3->phik) (4.25.0)\n",
      "Requirement already satisfied: kiwisolver>=1.3.1 in /Users/sysoevkd/opt/anaconda3/lib/python3.9/site-packages (from matplotlib>=2.2.3->phik) (1.3.2)\n",
      "Requirement already satisfied: pyparsing>=2.3.1 in /Users/sysoevkd/opt/anaconda3/lib/python3.9/site-packages (from matplotlib>=2.2.3->phik) (3.0.4)\n",
      "Requirement already satisfied: cycler>=0.10 in /Users/sysoevkd/opt/anaconda3/lib/python3.9/site-packages (from matplotlib>=2.2.3->phik) (0.11.0)\n",
      "Requirement already satisfied: pillow>=8 in /Users/sysoevkd/opt/anaconda3/lib/python3.9/site-packages (from matplotlib>=2.2.3->phik) (9.0.1)\n",
      "Requirement already satisfied: zipp>=3.1.0 in /Users/sysoevkd/opt/anaconda3/lib/python3.9/site-packages (from importlib-resources>=3.2.0->matplotlib>=2.2.3->phik) (3.7.0)\n",
      "Requirement already satisfied: pytz>=2020.1 in /Users/sysoevkd/opt/anaconda3/lib/python3.9/site-packages (from pandas>=0.25.1->phik) (2021.3)\n",
      "Requirement already satisfied: six>=1.5 in /Users/sysoevkd/opt/anaconda3/lib/python3.9/site-packages (from python-dateutil>=2.7->matplotlib>=2.2.3->phik) (1.16.0)\n"
     ]
    }
   ],
   "source": [
    "!pip install phik"
   ]
  },
  {
   "cell_type": "code",
   "execution_count": 3,
   "metadata": {},
   "outputs": [
    {
     "name": "stdout",
     "output_type": "stream",
     "text": [
      "Requirement already satisfied: shap in /Users/sysoevkd/opt/anaconda3/lib/python3.9/site-packages (0.46.0)\n",
      "Requirement already satisfied: slicer==0.0.8 in /Users/sysoevkd/opt/anaconda3/lib/python3.9/site-packages (from shap) (0.0.8)\n",
      "Requirement already satisfied: packaging>20.9 in /Users/sysoevkd/opt/anaconda3/lib/python3.9/site-packages (from shap) (21.3)\n",
      "Requirement already satisfied: tqdm>=4.27.0 in /Users/sysoevkd/opt/anaconda3/lib/python3.9/site-packages (from shap) (4.64.0)\n",
      "Requirement already satisfied: cloudpickle in /Users/sysoevkd/opt/anaconda3/lib/python3.9/site-packages (from shap) (2.0.0)\n",
      "Requirement already satisfied: pandas in /Users/sysoevkd/opt/anaconda3/lib/python3.9/site-packages (from shap) (1.4.2)\n",
      "Requirement already satisfied: scipy in /Users/sysoevkd/opt/anaconda3/lib/python3.9/site-packages (from shap) (1.11.4)\n",
      "Requirement already satisfied: numba in /Users/sysoevkd/opt/anaconda3/lib/python3.9/site-packages (from shap) (0.60.0)\n",
      "Requirement already satisfied: scikit-learn in /Users/sysoevkd/opt/anaconda3/lib/python3.9/site-packages (from shap) (1.5.2)\n",
      "Requirement already satisfied: numpy in /Users/sysoevkd/opt/anaconda3/lib/python3.9/site-packages (from shap) (1.26.4)\n",
      "Requirement already satisfied: pyparsing!=3.0.5,>=2.0.2 in /Users/sysoevkd/opt/anaconda3/lib/python3.9/site-packages (from packaging>20.9->shap) (3.0.4)\n",
      "Requirement already satisfied: llvmlite<0.44,>=0.43.0dev0 in /Users/sysoevkd/opt/anaconda3/lib/python3.9/site-packages (from numba->shap) (0.43.0)\n",
      "Requirement already satisfied: python-dateutil>=2.8.1 in /Users/sysoevkd/opt/anaconda3/lib/python3.9/site-packages (from pandas->shap) (2.8.2)\n",
      "Requirement already satisfied: pytz>=2020.1 in /Users/sysoevkd/opt/anaconda3/lib/python3.9/site-packages (from pandas->shap) (2021.3)\n",
      "Requirement already satisfied: six>=1.5 in /Users/sysoevkd/opt/anaconda3/lib/python3.9/site-packages (from python-dateutil>=2.8.1->pandas->shap) (1.16.0)\n",
      "Requirement already satisfied: threadpoolctl>=3.1.0 in /Users/sysoevkd/opt/anaconda3/lib/python3.9/site-packages (from scikit-learn->shap) (3.5.0)\n",
      "Requirement already satisfied: joblib>=1.2.0 in /Users/sysoevkd/opt/anaconda3/lib/python3.9/site-packages (from scikit-learn->shap) (1.4.2)\n"
     ]
    }
   ],
   "source": [
    "!pip install shap"
   ]
  },
  {
   "cell_type": "code",
   "execution_count": 4,
   "metadata": {},
   "outputs": [
    {
     "name": "stdout",
     "output_type": "stream",
     "text": [
      "Requirement already satisfied: scikit-learn in /Users/sysoevkd/opt/anaconda3/lib/python3.9/site-packages (1.5.2)\n",
      "Requirement already satisfied: matplotlib in /Users/sysoevkd/opt/anaconda3/lib/python3.9/site-packages (3.9.2)\n",
      "Requirement already satisfied: numpy in /Users/sysoevkd/opt/anaconda3/lib/python3.9/site-packages (1.26.4)\n",
      "Collecting numpy\n",
      "  Using cached numpy-2.0.2-cp39-cp39-macosx_10_9_x86_64.whl (21.2 MB)\n",
      "Requirement already satisfied: seaborn in /Users/sysoevkd/opt/anaconda3/lib/python3.9/site-packages (0.13.2)\n",
      "Requirement already satisfied: shap in /Users/sysoevkd/opt/anaconda3/lib/python3.9/site-packages (0.46.0)\n",
      "Requirement already satisfied: joblib>=1.2.0 in /Users/sysoevkd/opt/anaconda3/lib/python3.9/site-packages (from scikit-learn) (1.4.2)\n",
      "Requirement already satisfied: threadpoolctl>=3.1.0 in /Users/sysoevkd/opt/anaconda3/lib/python3.9/site-packages (from scikit-learn) (3.5.0)\n",
      "Requirement already satisfied: scipy>=1.6.0 in /Users/sysoevkd/opt/anaconda3/lib/python3.9/site-packages (from scikit-learn) (1.11.4)\n",
      "Requirement already satisfied: contourpy>=1.0.1 in /Users/sysoevkd/opt/anaconda3/lib/python3.9/site-packages (from matplotlib) (1.2.1)\n",
      "Requirement already satisfied: fonttools>=4.22.0 in /Users/sysoevkd/opt/anaconda3/lib/python3.9/site-packages (from matplotlib) (4.25.0)\n",
      "Requirement already satisfied: pillow>=8 in /Users/sysoevkd/opt/anaconda3/lib/python3.9/site-packages (from matplotlib) (9.0.1)\n",
      "Requirement already satisfied: packaging>=20.0 in /Users/sysoevkd/opt/anaconda3/lib/python3.9/site-packages (from matplotlib) (21.3)\n",
      "Requirement already satisfied: importlib-resources>=3.2.0 in /Users/sysoevkd/opt/anaconda3/lib/python3.9/site-packages (from matplotlib) (6.4.0)\n",
      "Requirement already satisfied: kiwisolver>=1.3.1 in /Users/sysoevkd/opt/anaconda3/lib/python3.9/site-packages (from matplotlib) (1.3.2)\n",
      "Requirement already satisfied: pyparsing>=2.3.1 in /Users/sysoevkd/opt/anaconda3/lib/python3.9/site-packages (from matplotlib) (3.0.4)\n",
      "Requirement already satisfied: python-dateutil>=2.7 in /Users/sysoevkd/opt/anaconda3/lib/python3.9/site-packages (from matplotlib) (2.8.2)\n",
      "Requirement already satisfied: cycler>=0.10 in /Users/sysoevkd/opt/anaconda3/lib/python3.9/site-packages (from matplotlib) (0.11.0)\n",
      "Requirement already satisfied: pandas>=1.2 in /Users/sysoevkd/opt/anaconda3/lib/python3.9/site-packages (from seaborn) (1.4.2)\n",
      "Requirement already satisfied: numba in /Users/sysoevkd/opt/anaconda3/lib/python3.9/site-packages (from shap) (0.60.0)\n",
      "Requirement already satisfied: tqdm>=4.27.0 in /Users/sysoevkd/opt/anaconda3/lib/python3.9/site-packages (from shap) (4.64.0)\n",
      "Requirement already satisfied: cloudpickle in /Users/sysoevkd/opt/anaconda3/lib/python3.9/site-packages (from shap) (2.0.0)\n",
      "Requirement already satisfied: slicer==0.0.8 in /Users/sysoevkd/opt/anaconda3/lib/python3.9/site-packages (from shap) (0.0.8)\n",
      "Requirement already satisfied: zipp>=3.1.0 in /Users/sysoevkd/opt/anaconda3/lib/python3.9/site-packages (from importlib-resources>=3.2.0->matplotlib) (3.7.0)\n",
      "Requirement already satisfied: pytz>=2020.1 in /Users/sysoevkd/opt/anaconda3/lib/python3.9/site-packages (from pandas>=1.2->seaborn) (2021.3)\n",
      "Requirement already satisfied: six>=1.5 in /Users/sysoevkd/opt/anaconda3/lib/python3.9/site-packages (from python-dateutil>=2.7->matplotlib) (1.16.0)\n",
      "Requirement already satisfied: llvmlite<0.44,>=0.43.0dev0 in /Users/sysoevkd/opt/anaconda3/lib/python3.9/site-packages (from numba->shap) (0.43.0)\n",
      "Note: you may need to restart the kernel to use updated packages.\n"
     ]
    }
   ],
   "source": [
    "pip install --upgrade scikit-learn matplotlib numpy seaborn shap"
   ]
  },
  {
   "cell_type": "markdown",
   "metadata": {},
   "source": [
    "### Введение\n",
    "В проекте предстоит проанализировать характеристики пользователей и их активность, чтобы предсказать вероятность её снижения, а также разбить пользователей на группы, для привлечения каждой из которых будет придумана своя стратегия. Для этого предстоит:\n",
    "\n",
    "1. Выполнить предобработку\n",
    "2. Добавить новые признаки\n",
    "3. Провести анализ зависимостей признаков\n",
    "4. Выбрать модель, наиболее подходящую для решения задачи и гиперпараметры к ней\n",
    "5. Проанализировать вклад каждого признака на целевой\n",
    "6. Разделить пользователей на сегменты и продумать стратегию для каждого"
   ]
  },
  {
   "cell_type": "markdown",
   "metadata": {
    "id": "H6cQIZr3ElW1"
   },
   "source": [
    "## Загрузка данных\n"
   ]
  },
  {
   "cell_type": "code",
   "execution_count": 5,
   "metadata": {},
   "outputs": [
    {
     "ename": "FileNotFoundError",
     "evalue": "[Errno 2] No such file or directory: '/datasets/market_file.csv'",
     "output_type": "error",
     "traceback": [
      "\u001b[0;31m---------------------------------------------------------------------------\u001b[0m",
      "\u001b[0;31mFileNotFoundError\u001b[0m                         Traceback (most recent call last)",
      "Input \u001b[0;32mIn [5]\u001b[0m, in \u001b[0;36m<cell line: 1>\u001b[0;34m()\u001b[0m\n\u001b[0;32m----> 1\u001b[0m market_file \u001b[38;5;241m=\u001b[39m \u001b[43mpd\u001b[49m\u001b[38;5;241;43m.\u001b[39;49m\u001b[43mread_csv\u001b[49m\u001b[43m(\u001b[49m\u001b[38;5;124;43m'\u001b[39;49m\u001b[38;5;124;43m/datasets/market_file.csv\u001b[39;49m\u001b[38;5;124;43m'\u001b[39;49m\u001b[43m)\u001b[49m\n\u001b[1;32m      2\u001b[0m market_money \u001b[38;5;241m=\u001b[39m pd\u001b[38;5;241m.\u001b[39mread_csv(\u001b[38;5;124m'\u001b[39m\u001b[38;5;124m/datasets/market_money.csv\u001b[39m\u001b[38;5;124m'\u001b[39m)\n\u001b[1;32m      3\u001b[0m market_time \u001b[38;5;241m=\u001b[39m pd\u001b[38;5;241m.\u001b[39mread_csv(\u001b[38;5;124m'\u001b[39m\u001b[38;5;124m/datasets/market_time.csv\u001b[39m\u001b[38;5;124m'\u001b[39m)\n",
      "File \u001b[0;32m~/opt/anaconda3/lib/python3.9/site-packages/pandas/util/_decorators.py:311\u001b[0m, in \u001b[0;36mdeprecate_nonkeyword_arguments.<locals>.decorate.<locals>.wrapper\u001b[0;34m(*args, **kwargs)\u001b[0m\n\u001b[1;32m    305\u001b[0m \u001b[38;5;28;01mif\u001b[39;00m \u001b[38;5;28mlen\u001b[39m(args) \u001b[38;5;241m>\u001b[39m num_allow_args:\n\u001b[1;32m    306\u001b[0m     warnings\u001b[38;5;241m.\u001b[39mwarn(\n\u001b[1;32m    307\u001b[0m         msg\u001b[38;5;241m.\u001b[39mformat(arguments\u001b[38;5;241m=\u001b[39marguments),\n\u001b[1;32m    308\u001b[0m         \u001b[38;5;167;01mFutureWarning\u001b[39;00m,\n\u001b[1;32m    309\u001b[0m         stacklevel\u001b[38;5;241m=\u001b[39mstacklevel,\n\u001b[1;32m    310\u001b[0m     )\n\u001b[0;32m--> 311\u001b[0m \u001b[38;5;28;01mreturn\u001b[39;00m \u001b[43mfunc\u001b[49m\u001b[43m(\u001b[49m\u001b[38;5;241;43m*\u001b[39;49m\u001b[43margs\u001b[49m\u001b[43m,\u001b[49m\u001b[43m \u001b[49m\u001b[38;5;241;43m*\u001b[39;49m\u001b[38;5;241;43m*\u001b[39;49m\u001b[43mkwargs\u001b[49m\u001b[43m)\u001b[49m\n",
      "File \u001b[0;32m~/opt/anaconda3/lib/python3.9/site-packages/pandas/io/parsers/readers.py:680\u001b[0m, in \u001b[0;36mread_csv\u001b[0;34m(filepath_or_buffer, sep, delimiter, header, names, index_col, usecols, squeeze, prefix, mangle_dupe_cols, dtype, engine, converters, true_values, false_values, skipinitialspace, skiprows, skipfooter, nrows, na_values, keep_default_na, na_filter, verbose, skip_blank_lines, parse_dates, infer_datetime_format, keep_date_col, date_parser, dayfirst, cache_dates, iterator, chunksize, compression, thousands, decimal, lineterminator, quotechar, quoting, doublequote, escapechar, comment, encoding, encoding_errors, dialect, error_bad_lines, warn_bad_lines, on_bad_lines, delim_whitespace, low_memory, memory_map, float_precision, storage_options)\u001b[0m\n\u001b[1;32m    665\u001b[0m kwds_defaults \u001b[38;5;241m=\u001b[39m _refine_defaults_read(\n\u001b[1;32m    666\u001b[0m     dialect,\n\u001b[1;32m    667\u001b[0m     delimiter,\n\u001b[0;32m   (...)\u001b[0m\n\u001b[1;32m    676\u001b[0m     defaults\u001b[38;5;241m=\u001b[39m{\u001b[38;5;124m\"\u001b[39m\u001b[38;5;124mdelimiter\u001b[39m\u001b[38;5;124m\"\u001b[39m: \u001b[38;5;124m\"\u001b[39m\u001b[38;5;124m,\u001b[39m\u001b[38;5;124m\"\u001b[39m},\n\u001b[1;32m    677\u001b[0m )\n\u001b[1;32m    678\u001b[0m kwds\u001b[38;5;241m.\u001b[39mupdate(kwds_defaults)\n\u001b[0;32m--> 680\u001b[0m \u001b[38;5;28;01mreturn\u001b[39;00m \u001b[43m_read\u001b[49m\u001b[43m(\u001b[49m\u001b[43mfilepath_or_buffer\u001b[49m\u001b[43m,\u001b[49m\u001b[43m \u001b[49m\u001b[43mkwds\u001b[49m\u001b[43m)\u001b[49m\n",
      "File \u001b[0;32m~/opt/anaconda3/lib/python3.9/site-packages/pandas/io/parsers/readers.py:575\u001b[0m, in \u001b[0;36m_read\u001b[0;34m(filepath_or_buffer, kwds)\u001b[0m\n\u001b[1;32m    572\u001b[0m _validate_names(kwds\u001b[38;5;241m.\u001b[39mget(\u001b[38;5;124m\"\u001b[39m\u001b[38;5;124mnames\u001b[39m\u001b[38;5;124m\"\u001b[39m, \u001b[38;5;28;01mNone\u001b[39;00m))\n\u001b[1;32m    574\u001b[0m \u001b[38;5;66;03m# Create the parser.\u001b[39;00m\n\u001b[0;32m--> 575\u001b[0m parser \u001b[38;5;241m=\u001b[39m \u001b[43mTextFileReader\u001b[49m\u001b[43m(\u001b[49m\u001b[43mfilepath_or_buffer\u001b[49m\u001b[43m,\u001b[49m\u001b[43m \u001b[49m\u001b[38;5;241;43m*\u001b[39;49m\u001b[38;5;241;43m*\u001b[39;49m\u001b[43mkwds\u001b[49m\u001b[43m)\u001b[49m\n\u001b[1;32m    577\u001b[0m \u001b[38;5;28;01mif\u001b[39;00m chunksize \u001b[38;5;129;01mor\u001b[39;00m iterator:\n\u001b[1;32m    578\u001b[0m     \u001b[38;5;28;01mreturn\u001b[39;00m parser\n",
      "File \u001b[0;32m~/opt/anaconda3/lib/python3.9/site-packages/pandas/io/parsers/readers.py:933\u001b[0m, in \u001b[0;36mTextFileReader.__init__\u001b[0;34m(self, f, engine, **kwds)\u001b[0m\n\u001b[1;32m    930\u001b[0m     \u001b[38;5;28mself\u001b[39m\u001b[38;5;241m.\u001b[39moptions[\u001b[38;5;124m\"\u001b[39m\u001b[38;5;124mhas_index_names\u001b[39m\u001b[38;5;124m\"\u001b[39m] \u001b[38;5;241m=\u001b[39m kwds[\u001b[38;5;124m\"\u001b[39m\u001b[38;5;124mhas_index_names\u001b[39m\u001b[38;5;124m\"\u001b[39m]\n\u001b[1;32m    932\u001b[0m \u001b[38;5;28mself\u001b[39m\u001b[38;5;241m.\u001b[39mhandles: IOHandles \u001b[38;5;241m|\u001b[39m \u001b[38;5;28;01mNone\u001b[39;00m \u001b[38;5;241m=\u001b[39m \u001b[38;5;28;01mNone\u001b[39;00m\n\u001b[0;32m--> 933\u001b[0m \u001b[38;5;28mself\u001b[39m\u001b[38;5;241m.\u001b[39m_engine \u001b[38;5;241m=\u001b[39m \u001b[38;5;28;43mself\u001b[39;49m\u001b[38;5;241;43m.\u001b[39;49m\u001b[43m_make_engine\u001b[49m\u001b[43m(\u001b[49m\u001b[43mf\u001b[49m\u001b[43m,\u001b[49m\u001b[43m \u001b[49m\u001b[38;5;28;43mself\u001b[39;49m\u001b[38;5;241;43m.\u001b[39;49m\u001b[43mengine\u001b[49m\u001b[43m)\u001b[49m\n",
      "File \u001b[0;32m~/opt/anaconda3/lib/python3.9/site-packages/pandas/io/parsers/readers.py:1217\u001b[0m, in \u001b[0;36mTextFileReader._make_engine\u001b[0;34m(self, f, engine)\u001b[0m\n\u001b[1;32m   1213\u001b[0m     mode \u001b[38;5;241m=\u001b[39m \u001b[38;5;124m\"\u001b[39m\u001b[38;5;124mrb\u001b[39m\u001b[38;5;124m\"\u001b[39m\n\u001b[1;32m   1214\u001b[0m \u001b[38;5;66;03m# error: No overload variant of \"get_handle\" matches argument types\u001b[39;00m\n\u001b[1;32m   1215\u001b[0m \u001b[38;5;66;03m# \"Union[str, PathLike[str], ReadCsvBuffer[bytes], ReadCsvBuffer[str]]\"\u001b[39;00m\n\u001b[1;32m   1216\u001b[0m \u001b[38;5;66;03m# , \"str\", \"bool\", \"Any\", \"Any\", \"Any\", \"Any\", \"Any\"\u001b[39;00m\n\u001b[0;32m-> 1217\u001b[0m \u001b[38;5;28mself\u001b[39m\u001b[38;5;241m.\u001b[39mhandles \u001b[38;5;241m=\u001b[39m \u001b[43mget_handle\u001b[49m\u001b[43m(\u001b[49m\u001b[43m  \u001b[49m\u001b[38;5;66;43;03m# type: ignore[call-overload]\u001b[39;49;00m\n\u001b[1;32m   1218\u001b[0m \u001b[43m    \u001b[49m\u001b[43mf\u001b[49m\u001b[43m,\u001b[49m\n\u001b[1;32m   1219\u001b[0m \u001b[43m    \u001b[49m\u001b[43mmode\u001b[49m\u001b[43m,\u001b[49m\n\u001b[1;32m   1220\u001b[0m \u001b[43m    \u001b[49m\u001b[43mencoding\u001b[49m\u001b[38;5;241;43m=\u001b[39;49m\u001b[38;5;28;43mself\u001b[39;49m\u001b[38;5;241;43m.\u001b[39;49m\u001b[43moptions\u001b[49m\u001b[38;5;241;43m.\u001b[39;49m\u001b[43mget\u001b[49m\u001b[43m(\u001b[49m\u001b[38;5;124;43m\"\u001b[39;49m\u001b[38;5;124;43mencoding\u001b[39;49m\u001b[38;5;124;43m\"\u001b[39;49m\u001b[43m,\u001b[49m\u001b[43m \u001b[49m\u001b[38;5;28;43;01mNone\u001b[39;49;00m\u001b[43m)\u001b[49m\u001b[43m,\u001b[49m\n\u001b[1;32m   1221\u001b[0m \u001b[43m    \u001b[49m\u001b[43mcompression\u001b[49m\u001b[38;5;241;43m=\u001b[39;49m\u001b[38;5;28;43mself\u001b[39;49m\u001b[38;5;241;43m.\u001b[39;49m\u001b[43moptions\u001b[49m\u001b[38;5;241;43m.\u001b[39;49m\u001b[43mget\u001b[49m\u001b[43m(\u001b[49m\u001b[38;5;124;43m\"\u001b[39;49m\u001b[38;5;124;43mcompression\u001b[39;49m\u001b[38;5;124;43m\"\u001b[39;49m\u001b[43m,\u001b[49m\u001b[43m \u001b[49m\u001b[38;5;28;43;01mNone\u001b[39;49;00m\u001b[43m)\u001b[49m\u001b[43m,\u001b[49m\n\u001b[1;32m   1222\u001b[0m \u001b[43m    \u001b[49m\u001b[43mmemory_map\u001b[49m\u001b[38;5;241;43m=\u001b[39;49m\u001b[38;5;28;43mself\u001b[39;49m\u001b[38;5;241;43m.\u001b[39;49m\u001b[43moptions\u001b[49m\u001b[38;5;241;43m.\u001b[39;49m\u001b[43mget\u001b[49m\u001b[43m(\u001b[49m\u001b[38;5;124;43m\"\u001b[39;49m\u001b[38;5;124;43mmemory_map\u001b[39;49m\u001b[38;5;124;43m\"\u001b[39;49m\u001b[43m,\u001b[49m\u001b[43m \u001b[49m\u001b[38;5;28;43;01mFalse\u001b[39;49;00m\u001b[43m)\u001b[49m\u001b[43m,\u001b[49m\n\u001b[1;32m   1223\u001b[0m \u001b[43m    \u001b[49m\u001b[43mis_text\u001b[49m\u001b[38;5;241;43m=\u001b[39;49m\u001b[43mis_text\u001b[49m\u001b[43m,\u001b[49m\n\u001b[1;32m   1224\u001b[0m \u001b[43m    \u001b[49m\u001b[43merrors\u001b[49m\u001b[38;5;241;43m=\u001b[39;49m\u001b[38;5;28;43mself\u001b[39;49m\u001b[38;5;241;43m.\u001b[39;49m\u001b[43moptions\u001b[49m\u001b[38;5;241;43m.\u001b[39;49m\u001b[43mget\u001b[49m\u001b[43m(\u001b[49m\u001b[38;5;124;43m\"\u001b[39;49m\u001b[38;5;124;43mencoding_errors\u001b[39;49m\u001b[38;5;124;43m\"\u001b[39;49m\u001b[43m,\u001b[49m\u001b[43m \u001b[49m\u001b[38;5;124;43m\"\u001b[39;49m\u001b[38;5;124;43mstrict\u001b[39;49m\u001b[38;5;124;43m\"\u001b[39;49m\u001b[43m)\u001b[49m\u001b[43m,\u001b[49m\n\u001b[1;32m   1225\u001b[0m \u001b[43m    \u001b[49m\u001b[43mstorage_options\u001b[49m\u001b[38;5;241;43m=\u001b[39;49m\u001b[38;5;28;43mself\u001b[39;49m\u001b[38;5;241;43m.\u001b[39;49m\u001b[43moptions\u001b[49m\u001b[38;5;241;43m.\u001b[39;49m\u001b[43mget\u001b[49m\u001b[43m(\u001b[49m\u001b[38;5;124;43m\"\u001b[39;49m\u001b[38;5;124;43mstorage_options\u001b[39;49m\u001b[38;5;124;43m\"\u001b[39;49m\u001b[43m,\u001b[49m\u001b[43m \u001b[49m\u001b[38;5;28;43;01mNone\u001b[39;49;00m\u001b[43m)\u001b[49m\u001b[43m,\u001b[49m\n\u001b[1;32m   1226\u001b[0m \u001b[43m\u001b[49m\u001b[43m)\u001b[49m\n\u001b[1;32m   1227\u001b[0m \u001b[38;5;28;01massert\u001b[39;00m \u001b[38;5;28mself\u001b[39m\u001b[38;5;241m.\u001b[39mhandles \u001b[38;5;129;01mis\u001b[39;00m \u001b[38;5;129;01mnot\u001b[39;00m \u001b[38;5;28;01mNone\u001b[39;00m\n\u001b[1;32m   1228\u001b[0m f \u001b[38;5;241m=\u001b[39m \u001b[38;5;28mself\u001b[39m\u001b[38;5;241m.\u001b[39mhandles\u001b[38;5;241m.\u001b[39mhandle\n",
      "File \u001b[0;32m~/opt/anaconda3/lib/python3.9/site-packages/pandas/io/common.py:789\u001b[0m, in \u001b[0;36mget_handle\u001b[0;34m(path_or_buf, mode, encoding, compression, memory_map, is_text, errors, storage_options)\u001b[0m\n\u001b[1;32m    784\u001b[0m \u001b[38;5;28;01melif\u001b[39;00m \u001b[38;5;28misinstance\u001b[39m(handle, \u001b[38;5;28mstr\u001b[39m):\n\u001b[1;32m    785\u001b[0m     \u001b[38;5;66;03m# Check whether the filename is to be opened in binary mode.\u001b[39;00m\n\u001b[1;32m    786\u001b[0m     \u001b[38;5;66;03m# Binary mode does not support 'encoding' and 'newline'.\u001b[39;00m\n\u001b[1;32m    787\u001b[0m     \u001b[38;5;28;01mif\u001b[39;00m ioargs\u001b[38;5;241m.\u001b[39mencoding \u001b[38;5;129;01mand\u001b[39;00m \u001b[38;5;124m\"\u001b[39m\u001b[38;5;124mb\u001b[39m\u001b[38;5;124m\"\u001b[39m \u001b[38;5;129;01mnot\u001b[39;00m \u001b[38;5;129;01min\u001b[39;00m ioargs\u001b[38;5;241m.\u001b[39mmode:\n\u001b[1;32m    788\u001b[0m         \u001b[38;5;66;03m# Encoding\u001b[39;00m\n\u001b[0;32m--> 789\u001b[0m         handle \u001b[38;5;241m=\u001b[39m \u001b[38;5;28;43mopen\u001b[39;49m\u001b[43m(\u001b[49m\n\u001b[1;32m    790\u001b[0m \u001b[43m            \u001b[49m\u001b[43mhandle\u001b[49m\u001b[43m,\u001b[49m\n\u001b[1;32m    791\u001b[0m \u001b[43m            \u001b[49m\u001b[43mioargs\u001b[49m\u001b[38;5;241;43m.\u001b[39;49m\u001b[43mmode\u001b[49m\u001b[43m,\u001b[49m\n\u001b[1;32m    792\u001b[0m \u001b[43m            \u001b[49m\u001b[43mencoding\u001b[49m\u001b[38;5;241;43m=\u001b[39;49m\u001b[43mioargs\u001b[49m\u001b[38;5;241;43m.\u001b[39;49m\u001b[43mencoding\u001b[49m\u001b[43m,\u001b[49m\n\u001b[1;32m    793\u001b[0m \u001b[43m            \u001b[49m\u001b[43merrors\u001b[49m\u001b[38;5;241;43m=\u001b[39;49m\u001b[43merrors\u001b[49m\u001b[43m,\u001b[49m\n\u001b[1;32m    794\u001b[0m \u001b[43m            \u001b[49m\u001b[43mnewline\u001b[49m\u001b[38;5;241;43m=\u001b[39;49m\u001b[38;5;124;43m\"\u001b[39;49m\u001b[38;5;124;43m\"\u001b[39;49m\u001b[43m,\u001b[49m\n\u001b[1;32m    795\u001b[0m \u001b[43m        \u001b[49m\u001b[43m)\u001b[49m\n\u001b[1;32m    796\u001b[0m     \u001b[38;5;28;01melse\u001b[39;00m:\n\u001b[1;32m    797\u001b[0m         \u001b[38;5;66;03m# Binary mode\u001b[39;00m\n\u001b[1;32m    798\u001b[0m         handle \u001b[38;5;241m=\u001b[39m \u001b[38;5;28mopen\u001b[39m(handle, ioargs\u001b[38;5;241m.\u001b[39mmode)\n",
      "\u001b[0;31mFileNotFoundError\u001b[0m: [Errno 2] No such file or directory: '/datasets/market_file.csv'"
     ]
    }
   ],
   "source": [
    "market_file = pd.read_csv('/datasets/market_file.csv')\n",
    "market_money = pd.read_csv('/datasets/market_money.csv')\n",
    "market_time = pd.read_csv('/datasets/market_time.csv')\n",
    "money =  pd.read_csv('/datasets/money.csv', sep=';', decimal=',')"
   ]
  },
  {
   "cell_type": "code",
   "execution_count": null,
   "metadata": {},
   "outputs": [],
   "source": [
    "market_file.head()"
   ]
  },
  {
   "cell_type": "code",
   "execution_count": null,
   "metadata": {},
   "outputs": [],
   "source": [
    "market_money.head()"
   ]
  },
  {
   "cell_type": "code",
   "execution_count": null,
   "metadata": {},
   "outputs": [],
   "source": [
    "market_time.head()"
   ]
  },
  {
   "cell_type": "code",
   "execution_count": null,
   "metadata": {},
   "outputs": [],
   "source": [
    "money.head()"
   ]
  },
  {
   "cell_type": "markdown",
   "metadata": {},
   "source": [
    "## Предобработка данных"
   ]
  },
  {
   "cell_type": "code",
   "execution_count": null,
   "metadata": {},
   "outputs": [],
   "source": [
    "df_list = [market_file, market_money, market_time, money]"
   ]
  },
  {
   "cell_type": "code",
   "execution_count": null,
   "metadata": {},
   "outputs": [],
   "source": [
    "for i in df_list:\n",
    "    print(i.info(), '\\n')"
   ]
  },
  {
   "cell_type": "markdown",
   "metadata": {},
   "source": [
    "Типы данных в порядке, пропусков нет. Изменим названия признаков"
   ]
  },
  {
   "cell_type": "code",
   "execution_count": null,
   "metadata": {},
   "outputs": [],
   "source": [
    "def rename_col(df):\n",
    "        df.columns = df.columns.str.lower()\n",
    "        df.columns = df.columns.str.replace(' ', '_')"
   ]
  },
  {
   "cell_type": "code",
   "execution_count": null,
   "metadata": {},
   "outputs": [],
   "source": [
    "rename_col(market_file)\n",
    "rename_col(market_money)\n",
    "rename_col(market_time)\n",
    "rename_col(money)"
   ]
  },
  {
   "cell_type": "markdown",
   "metadata": {},
   "source": [
    "Проверим дубликаты"
   ]
  },
  {
   "cell_type": "code",
   "execution_count": null,
   "metadata": {},
   "outputs": [],
   "source": [
    "for i in df_list:\n",
    "    print(i.duplicated().sum())"
   ]
  },
  {
   "cell_type": "code",
   "execution_count": null,
   "metadata": {},
   "outputs": [],
   "source": [
    "for i in df_list:\n",
    "    for j in i.select_dtypes('object'):\n",
    "        print(j, i[j].unique(), '\\n')\n",
    "    "
   ]
  },
  {
   "cell_type": "markdown",
   "metadata": {},
   "source": [
    "Есть ошибка в признаке 'тип_сервиса' и 'период'"
   ]
  },
  {
   "cell_type": "code",
   "execution_count": null,
   "metadata": {},
   "outputs": [],
   "source": [
    "market_file.loc[market_file['тип_сервиса'] == 'стандартт', 'тип_сервиса'] = 'стандарт'"
   ]
  },
  {
   "cell_type": "code",
   "execution_count": null,
   "metadata": {},
   "outputs": [],
   "source": [
    "market_time.loc[market_time['период'] == 'предыдцщий_месяц', 'период'] = 'предыдущий_месяц'"
   ]
  },
  {
   "cell_type": "markdown",
   "metadata": {},
   "source": [
    "## Исследовательский анализ данных"
   ]
  },
  {
   "cell_type": "code",
   "execution_count": null,
   "metadata": {
    "scrolled": false
   },
   "outputs": [],
   "source": [
    "for i in df_list:\n",
    "    display(i.describe())"
   ]
  },
  {
   "cell_type": "markdown",
   "metadata": {},
   "source": [
    "Замечен выброс в признаке 'выручка'"
   ]
  },
  {
   "cell_type": "markdown",
   "metadata": {},
   "source": [
    "#### Построим графики "
   ]
  },
  {
   "cell_type": "code",
   "execution_count": null,
   "metadata": {},
   "outputs": [],
   "source": [
    "def num_hist(df, lst):\n",
    "    for i in lst:\n",
    "        fig, axes = plt.subplots(nrows=1, ncols=2, figsize=(12, 5))\n",
    "        \n",
    "        df[i].plot(kind='hist', bins=15, ax=axes[0])\n",
    "        axes[0].set_title(f'Гистограмма {df[i].name}')\n",
    "        axes[0].set_xlabel(df[i].name)\n",
    "        axes[0].set_ylabel('Частота')\n",
    "\n",
    "        df[i].plot(kind='box', ax=axes[1])\n",
    "        axes[1].set_title(f'Boxplot {df[i].name}')\n",
    "        \n",
    "        plt.tight_layout()\n",
    "        plt.show()"
   ]
  },
  {
   "cell_type": "code",
   "execution_count": null,
   "metadata": {},
   "outputs": [],
   "source": [
    "def cat_bar(df, lst):\n",
    "     for i in lst:\n",
    "        plt.figure()\n",
    "        df[i].value_counts().plot(kind='bar')\n",
    "        plt.title(df[i].name)\n",
    "        plt.xlabel(df[i].name)\n",
    "        plt.ylabel('Частота')\n",
    "        plt.show()"
   ]
  },
  {
   "cell_type": "code",
   "execution_count": null,
   "metadata": {},
   "outputs": [],
   "source": [
    "market_file_num = market_file.select_dtypes(exclude='object').columns\n",
    "market_file_cat = market_file.select_dtypes('object').columns\n",
    "market_money_num = market_money.select_dtypes(exclude='object').columns\n",
    "market_money_cat = market_money.select_dtypes('object').columns\n",
    "market_time_num = market_time.select_dtypes(exclude='object').columns\n",
    "market_time_cat = market_time.select_dtypes('object').columns\n",
    "money_num = money.select_dtypes(exclude='object').columns\n",
    "money_cat = money.select_dtypes('object').columns"
   ]
  },
  {
   "cell_type": "code",
   "execution_count": null,
   "metadata": {
    "scrolled": false
   },
   "outputs": [],
   "source": [
    "num_hist(market_file, market_file_num)"
   ]
  },
  {
   "cell_type": "markdown",
   "metadata": {},
   "source": [
    "Нормальное распределение имеет. только признак 'ошибка_сервиса', выбросов нет"
   ]
  },
  {
   "cell_type": "code",
   "execution_count": null,
   "metadata": {},
   "outputs": [],
   "source": [
    "cat_bar(market_file, market_file_cat)"
   ]
  },
  {
   "cell_type": "markdown",
   "metadata": {},
   "source": [
    "В целевой переменной имеется небольшой дисбаланс классов"
   ]
  },
  {
   "cell_type": "code",
   "execution_count": null,
   "metadata": {
    "scrolled": false
   },
   "outputs": [],
   "source": [
    "num_hist(market_money, market_money_num)"
   ]
  },
  {
   "cell_type": "markdown",
   "metadata": {},
   "source": [
    "Удалим выброс в выручке"
   ]
  },
  {
   "cell_type": "code",
   "execution_count": null,
   "metadata": {},
   "outputs": [],
   "source": [
    "market_money = market_money.query('выручка < 80000')"
   ]
  },
  {
   "cell_type": "code",
   "execution_count": null,
   "metadata": {},
   "outputs": [],
   "source": [
    "num_hist(market_money, market_money_num)"
   ]
  },
  {
   "cell_type": "code",
   "execution_count": null,
   "metadata": {},
   "outputs": [],
   "source": [
    "cat_bar(market_money, market_money_cat)"
   ]
  },
  {
   "cell_type": "markdown",
   "metadata": {},
   "source": [
    "Периоды распределены равномерно"
   ]
  },
  {
   "cell_type": "code",
   "execution_count": null,
   "metadata": {},
   "outputs": [],
   "source": [
    "num_hist(market_time, market_time_num)"
   ]
  },
  {
   "cell_type": "code",
   "execution_count": null,
   "metadata": {},
   "outputs": [],
   "source": [
    "cat_bar(market_time, market_time_cat)"
   ]
  },
  {
   "cell_type": "markdown",
   "metadata": {},
   "source": [
    "Периоды распределены равномерно"
   ]
  },
  {
   "cell_type": "code",
   "execution_count": null,
   "metadata": {},
   "outputs": [],
   "source": [
    "num_hist(money, money_num)"
   ]
  },
  {
   "cell_type": "markdown",
   "metadata": {},
   "source": [
    "Прибыль имеет нормальное распределение. Аномалий нет"
   ]
  },
  {
   "cell_type": "markdown",
   "metadata": {},
   "source": [
    "## Объединение таблиц"
   ]
  },
  {
   "cell_type": "markdown",
   "metadata": {},
   "source": [
    "Просуммируем занчения в market_money и market_time для одинаковых id и присоединим к market_file по id"
   ]
  },
  {
   "cell_type": "code",
   "execution_count": null,
   "metadata": {},
   "outputs": [],
   "source": [
    "df = market_file.\\\n",
    "merge(market_money.query('период == \"препредыдущий_месяц\"').pivot_table(index='id', \n",
    "                                                                      values='выручка', aggfunc='sum').reset_index().\\\n",
    "     rename(columns={'выручка': 'выручка_препред'}))\n",
    "df = df.\\\n",
    "merge(market_money.query('период == \"предыдущий_месяц\"').pivot_table(index='id', \n",
    "                                                                      values='выручка', aggfunc='sum').reset_index().\\\n",
    "     rename(columns={'выручка': 'выручка_пред'}))\n",
    "df = df.\\\n",
    "merge(market_money.query('период == \"текущий_месяц\"').pivot_table(index='id', \n",
    "                                                                      values='выручка', aggfunc='sum').reset_index().\\\n",
    "     rename(columns={'выручка': 'выручка_текущий'}))\n",
    "df = df.\\\n",
    "merge(market_time.query('период == \"предыдущий_месяц\"').pivot_table(index='id', \n",
    "                                                                      values='минут', aggfunc='sum').reset_index().\\\n",
    "     rename(columns={'минут': 'минут_пред'}))\n",
    "df = df.\\\n",
    "merge(market_time.query('период == \"текущий_месяц\"').pivot_table(index='id', \n",
    "                                                                      values='минут', aggfunc='sum').reset_index().\\\n",
    "     rename(columns={'минут': 'минут_текущий'}))"
   ]
  },
  {
   "cell_type": "markdown",
   "metadata": {},
   "source": [
    "<div class=\"alert alert-success\">\n",
    "<font size=\"5\"><b>Комментарий ревьюера</b></font>\n",
    "\n",
    "\n",
    "\n",
    "Успех 👍:\n",
    "\n",
    "\n",
    "\n",
    " \n",
    "\n",
    "- правильно что использован pivot_table,  наверное самый оптимальный метод для  задачи что то повернуть\n",
    "\n",
    "\n",
    " "
   ]
  },
  {
   "cell_type": "code",
   "execution_count": null,
   "metadata": {
    "scrolled": false
   },
   "outputs": [],
   "source": [
    "df.head()"
   ]
  },
  {
   "cell_type": "markdown",
   "metadata": {},
   "source": [
    "Удалим из данных пользователей, которые не совершали покупки ни в одном из месяцев"
   ]
  },
  {
   "cell_type": "code",
   "execution_count": null,
   "metadata": {},
   "outputs": [],
   "source": [
    "df = df.query('выручка_препред != 0 and выручка_текущий !=0 and выручка_пред != 0')"
   ]
  },
  {
   "cell_type": "markdown",
   "metadata": {},
   "source": [
    "## Корреляционный анализ"
   ]
  },
  {
   "cell_type": "code",
   "execution_count": null,
   "metadata": {},
   "outputs": [],
   "source": [
    "cor = df.drop('id', axis=1).corr(method='spearman')"
   ]
  },
  {
   "cell_type": "code",
   "execution_count": null,
   "metadata": {},
   "outputs": [],
   "source": [
    "plt.figure(figsize=(10, 8))\n",
    "sns.heatmap(cor, annot=True, cmap='coolwarm');\n",
    "plt.title('Кореляционная матрица')\n",
    "plt.show()"
   ]
  },
  {
   "cell_type": "markdown",
   "metadata": {},
   "source": [
    "Построим матрицы отдельно для пользователей со снижающейся и с прежней активностью"
   ]
  },
  {
   "cell_type": "code",
   "execution_count": null,
   "metadata": {},
   "outputs": [],
   "source": [
    "cor_lower = df.drop('id', axis=1).query('покупательская_активность == \"Снизилась\"').corr(method='spearman')"
   ]
  },
  {
   "cell_type": "code",
   "execution_count": null,
   "metadata": {},
   "outputs": [],
   "source": [
    "plt.figure(figsize=(10, 8))\n",
    "sns.heatmap(cor_lower, annot=True, cmap='coolwarm');\n",
    "plt.title('Кореляционная матрица')\n",
    "plt.show()"
   ]
  },
  {
   "cell_type": "code",
   "execution_count": null,
   "metadata": {},
   "outputs": [],
   "source": [
    "cor_stable = df.drop('id', axis=1).query('покупательская_активность != \"Снизилась\"').corr(method='spearman')"
   ]
  },
  {
   "cell_type": "code",
   "execution_count": null,
   "metadata": {},
   "outputs": [],
   "source": [
    "plt.figure(figsize=(10, 8))\n",
    "sns.heatmap(cor_stable, annot=True, cmap='coolwarm');\n",
    "plt.title('Кореляционная матрица')\n",
    "plt.show()"
   ]
  },
  {
   "cell_type": "code",
   "execution_count": null,
   "metadata": {
    "scrolled": false
   },
   "outputs": [],
   "source": [
    "phik_matrix = df.drop('id', axis=1).phik_matrix(interval_cols=df.drop('id', axis=1).select_dtypes(exclude='object').columns)\n",
    "\n",
    "plot_correlation_matrix(phik_matrix.values, \n",
    "                        x_labels=phik_matrix.columns, \n",
    "                        y_labels=phik_matrix.index, \n",
    "                        vmin=-1, vmax=1, title=\"Phik матрица\", figsize=(15, 10))\n",
    "\n",
    "plt.show()"
   ]
  },
  {
   "cell_type": "markdown",
   "metadata": {},
   "source": [
    "За исключением выручки и минут в разные периоды, значительной зависимости между признаками не наблюдается. Мультиколлинеарности нет"
   ]
  },
  {
   "cell_type": "markdown",
   "metadata": {},
   "source": [
    "## Использование пайплайнов"
   ]
  },
  {
   "cell_type": "markdown",
   "metadata": {},
   "source": [
    "Сначала разделим выборку"
   ]
  },
  {
   "cell_type": "code",
   "execution_count": null,
   "metadata": {},
   "outputs": [],
   "source": [
    "X_train, X_test, y_train, y_test = train_test_split(\n",
    "    df.drop(['покупательская_активность', 'id'], axis=1),\n",
    "    df['покупательская_активность'],\n",
    "    test_size = 0.2, \n",
    "    random_state = 42,\n",
    "    stratify = df['покупательская_активность'])"
   ]
  },
  {
   "cell_type": "code",
   "execution_count": null,
   "metadata": {},
   "outputs": [],
   "source": [
    "for i in df.select_dtypes('object'):\n",
    "    print(i, df[i].unique())"
   ]
  },
  {
   "cell_type": "code",
   "execution_count": null,
   "metadata": {},
   "outputs": [],
   "source": [
    "ohe_columns = ['разрешить_сообщать', 'популярная_категория']\n",
    "ord_columns = ['тип_сервиса']\n",
    "num_columns = X_train.select_dtypes(exclude='object').columns"
   ]
  },
  {
   "cell_type": "markdown",
   "metadata": {},
   "source": [
    "Создадим пайплайны"
   ]
  },
  {
   "cell_type": "code",
   "execution_count": null,
   "metadata": {},
   "outputs": [],
   "source": [
    "ohe_pipe = Pipeline(\n",
    "    [\n",
    "     ('ohe', OneHotEncoder(drop='first', handle_unknown='ignore'))\n",
    "    ]\n",
    "    )\n",
    "\n",
    "ord_pipe = Pipeline(\n",
    "    [\n",
    "     ('ord',  OrdinalEncoder(\n",
    "                categories=[\n",
    "                    ['стандарт', 'премиум'],\n",
    "                ], \n",
    "                handle_unknown='use_encoded_value', unknown_value=np.nan\n",
    "            )\n",
    "        )\n",
    "    ]\n",
    ")"
   ]
  },
  {
   "cell_type": "code",
   "execution_count": null,
   "metadata": {},
   "outputs": [],
   "source": [
    "data_preprocessor = ColumnTransformer(\n",
    "    [('ohe', ohe_pipe, ohe_columns),\n",
    "     ('ord', ord_pipe, ord_columns),\n",
    "     ('num', MinMaxScaler(), num_columns)\n",
    "    ], \n",
    "    remainder='passthrough'\n",
    ")"
   ]
  },
  {
   "cell_type": "code",
   "execution_count": null,
   "metadata": {},
   "outputs": [],
   "source": [
    "pipe_final = Pipeline([\n",
    "    ('preprocessor', data_preprocessor),\n",
    "    ('models', LogisticRegression(random_state=42))\n",
    "])"
   ]
  },
  {
   "cell_type": "code",
   "execution_count": null,
   "metadata": {},
   "outputs": [],
   "source": [
    "param_distributions = [\n",
    "    {\n",
    "        'preprocessor__num': [MinMaxScaler(), StandardScaler()],\n",
    "        'models': [LogisticRegression(random_state=42)],\n",
    "        'models__C': [0.01, 0.1, 1, 10], \n",
    "        'models__penalty': ['l1', 'l2'],\n",
    "        'models__solver': ['liblinear']\n",
    "    },\n",
    "    {\n",
    "        'preprocessor__num': [MinMaxScaler(), StandardScaler()],\n",
    "        'models': [DecisionTreeClassifier(random_state=42)],\n",
    "        'models__max_depth': range(2, 12),\n",
    "        'models__min_samples_split': range(2, 10)\n",
    "    },\n",
    "    {\n",
    "        'preprocessor__num': [MinMaxScaler(), StandardScaler()],\n",
    "        'models': [SVC()],\n",
    "        'models__C': [0.01, 0.1, 1, 10],  \n",
    "        'models__kernel': ['linear', 'rbf'],\n",
    "    },\n",
    "     {\n",
    "        'preprocessor__num': [MinMaxScaler(), StandardScaler()],\n",
    "        'models': [KNeighborsClassifier()],\n",
    "        'models__n_neighbors': [2, 3, 5, 10, 100, 1000],  \n",
    "    }\n",
    "]"
   ]
  },
  {
   "cell_type": "code",
   "execution_count": null,
   "metadata": {},
   "outputs": [],
   "source": [
    "recall_scorer = make_scorer(recall_score, pos_label='Снизилась')"
   ]
  },
  {
   "cell_type": "code",
   "execution_count": null,
   "metadata": {},
   "outputs": [],
   "source": [
    "random_search = RandomizedSearchCV(\n",
    "    pipe_final, \n",
    "    param_distributions=param_distributions,\n",
    "    n_iter=100, \n",
    "    cv=5, \n",
    "    scoring=recall_scorer, \n",
    "    n_jobs=-1, \n",
    "    random_state=35\n",
    ")"
   ]
  },
  {
   "cell_type": "code",
   "execution_count": null,
   "metadata": {},
   "outputs": [],
   "source": [
    "%%time\n",
    "random_search.fit(X_train, y_train)"
   ]
  },
  {
   "cell_type": "code",
   "execution_count": null,
   "metadata": {},
   "outputs": [],
   "source": [
    "random_search.classes_"
   ]
  },
  {
   "cell_type": "code",
   "execution_count": null,
   "metadata": {},
   "outputs": [],
   "source": [
    "random_search.best_params_"
   ]
  },
  {
   "cell_type": "code",
   "execution_count": null,
   "metadata": {},
   "outputs": [],
   "source": [
    "f'Метрика roc_auc у лучшей модели - {random_search.best_score_}'"
   ]
  },
  {
   "cell_type": "markdown",
   "metadata": {},
   "source": [
    "Лучше всего себя показала модель логистической регрессии с l1 регуляризацией и параметром C, равным 0.01"
   ]
  },
  {
   "cell_type": "code",
   "execution_count": null,
   "metadata": {},
   "outputs": [],
   "source": [
    "model = random_search.best_estimator_.named_steps['models']"
   ]
  },
  {
   "cell_type": "code",
   "execution_count": null,
   "metadata": {},
   "outputs": [],
   "source": [
    "X_test_transformed = random_search.best_estimator_.named_steps['preprocessor'].transform(X_test)"
   ]
  },
  {
   "cell_type": "code",
   "execution_count": null,
   "metadata": {},
   "outputs": [],
   "source": [
    "y_pred = model.predict(X_test_transformed)"
   ]
  },
  {
   "cell_type": "code",
   "execution_count": null,
   "metadata": {},
   "outputs": [],
   "source": [
    "accuracy_score(y_test, y_pred)"
   ]
  },
  {
   "cell_type": "code",
   "execution_count": null,
   "metadata": {},
   "outputs": [],
   "source": [
    "recall_score(y_test, y_pred, pos_label='Снизилась')"
   ]
  },
  {
   "cell_type": "markdown",
   "metadata": {},
   "source": [
    "Метрики хорошие"
   ]
  },
  {
   "cell_type": "markdown",
   "metadata": {},
   "source": [
    "## Анализ важности признаков"
   ]
  },
  {
   "cell_type": "markdown",
   "metadata": {},
   "source": [
    "Построим график SHAP"
   ]
  },
  {
   "cell_type": "code",
   "execution_count": null,
   "metadata": {},
   "outputs": [],
   "source": [
    "feature_names = random_search.best_estimator_.named_steps['preprocessor'].get_feature_names_out()\n",
    "feature_names"
   ]
  },
  {
   "cell_type": "code",
   "execution_count": null,
   "metadata": {},
   "outputs": [],
   "source": [
    "explainer = shap.LinearExplainer(model, X_test_transformed, feature_names=feature_names)\n",
    "shap_values = explainer(X_test_transformed)\n",
    "shap.plots.bar(shap_values, max_display=17)"
   ]
  },
  {
   "cell_type": "markdown",
   "metadata": {},
   "source": [
    "Наибольшее влияние имеют признаки \"страниц за визит\", \"средний_просмотр_категорий_за_визит\" и \"минут\". Нулевое влияние имеют выручка за текущий месяц, \"маркет_актив\" за текущий месяц и \"разрешить_сообщать\", а также категориальные признаки"
   ]
  },
  {
   "cell_type": "markdown",
   "metadata": {},
   "source": [
    "1. Можно сделать вывод, что маркетинговая активность в последний месяц перестала влиять на пользовательскую, поэтому имеет смысл пересмотреть стратегию\n",
    "2. Больше всего на пользовательскую влияют факторы, задерживающие их на сайте. Можно улучшить рекомендательную систему, что поможет повышать активность"
   ]
  },
  {
   "cell_type": "markdown",
   "metadata": {},
   "source": [
    "## Сегментация покупателей"
   ]
  },
  {
   "cell_type": "markdown",
   "metadata": {},
   "source": [
    "Добавим новые столбцы, по которым будут составляться категории: вероятность снижения активности и прибыль"
   ]
  },
  {
   "cell_type": "code",
   "execution_count": null,
   "metadata": {},
   "outputs": [],
   "source": [
    "model.classes_"
   ]
  },
  {
   "cell_type": "code",
   "execution_count": null,
   "metadata": {},
   "outputs": [],
   "source": [
    "df_transformed = random_search.best_estimator_.named_steps['preprocessor'].\\\n",
    "transform(df.drop(['id', 'покупательская_активность'], axis=1))"
   ]
  },
  {
   "cell_type": "code",
   "execution_count": null,
   "metadata": {},
   "outputs": [],
   "source": [
    "proba = model.predict_proba(df_transformed)"
   ]
  },
  {
   "cell_type": "code",
   "execution_count": null,
   "metadata": {},
   "outputs": [],
   "source": [
    "df['вероятность_снижения_активности'] = proba[:, 1]"
   ]
  },
  {
   "cell_type": "code",
   "execution_count": null,
   "metadata": {},
   "outputs": [],
   "source": [
    "df = df.merge(money)"
   ]
  },
  {
   "cell_type": "code",
   "execution_count": null,
   "metadata": {},
   "outputs": [],
   "source": [
    "df.head()"
   ]
  },
  {
   "cell_type": "code",
   "execution_count": null,
   "metadata": {},
   "outputs": [],
   "source": [
    "def num_hist_group(df1, df2, lst):\n",
    "    for i in lst:\n",
    "        fig, axes = plt.subplots(nrows=1, ncols=2, figsize=(12, 5))\n",
    "        \n",
    "        df1[i].plot(kind='hist', bins=15, ax=axes[0], alpha=0.7)\n",
    "        axes[0].set_title(f'Гистограмма {df1[i].name} группы')\n",
    "        axes[0].set_xlabel(df1[i].name)\n",
    "        axes[0].set_ylabel('Частота')\n",
    "\n",
    "        df2[i].plot(kind='hist', bins=15, ax=axes[1], alpha=0.7)\n",
    "        axes[1].set_title(f'Гистограмма {df2[i].name}')\n",
    "        axes[1].set_xlabel(df2[i].name)\n",
    "        axes[1].set_ylabel('Частота')\n",
    "        \n",
    "        plt.tight_layout()\n",
    "        plt.show()"
   ]
  },
  {
   "cell_type": "code",
   "execution_count": null,
   "metadata": {},
   "outputs": [],
   "source": [
    "\n",
    "\n",
    "def cat_bar_group(df1, df2, lst):\n",
    "    for i in lst:\n",
    "        fig, axes = plt.subplots(nrows=1, ncols=2, figsize=(12, 5))\n",
    "        \n",
    "        df1[i].value_counts().plot(kind='bar', ax=axes[0])\n",
    "        axes[0].set_title(f'{df1[i].name} группы')\n",
    "        axes[0].set_xlabel(df1[i].name)\n",
    "        axes[0].set_ylabel('Частота')\n",
    "\n",
    "        df2[i].value_counts().plot(kind='bar', ax=axes[1])\n",
    "        axes[1].set_title(f'общий {df2[i].name}')\n",
    "        axes[1].set_xlabel(df2[i].name)\n",
    "        axes[1].set_ylabel('Частота')\n",
    "        \n",
    "        plt.tight_layout()\n",
    "        plt.show()\n"
   ]
  },
  {
   "cell_type": "markdown",
   "metadata": {},
   "source": [
    "Выделим сегменты\n",
    "1. Группа клиентов с высокой долей покупок по акции и высокой вероятностью снижения покупательской активности.\n",
    "\n"
   ]
  },
  {
   "cell_type": "code",
   "execution_count": null,
   "metadata": {
    "scrolled": true
   },
   "outputs": [],
   "source": [
    "group1 = df.query('акционные_покупки > 0.85 and вероятность_снижения_активности > 0.7')"
   ]
  },
  {
   "cell_type": "code",
   "execution_count": null,
   "metadata": {},
   "outputs": [],
   "source": [
    "group1.describe()"
   ]
  },
  {
   "cell_type": "code",
   "execution_count": null,
   "metadata": {},
   "outputs": [],
   "source": [
    "df_num = df.select_dtypes(exclude='object')\n",
    "df_cat = df.select_dtypes('object')"
   ]
  },
  {
   "cell_type": "code",
   "execution_count": null,
   "metadata": {},
   "outputs": [],
   "source": [
    "num_hist_group(group1, df, df_num)"
   ]
  },
  {
   "cell_type": "code",
   "execution_count": null,
   "metadata": {
    "scrolled": true
   },
   "outputs": [],
   "source": [
    "cat_bar_group(group1, df, df_cat)"
   ]
  },
  {
   "cell_type": "markdown",
   "metadata": {},
   "source": [
    "Можно заметить, что пользователи группы просматривают меньше страниц и товаров, когда пользуютя сайтом. Завлечь их можно с помощью увеличения интересного предложения, например, в категории \"товары для детей\", так как она является самой популярной у группы"
   ]
  },
  {
   "cell_type": "markdown",
   "metadata": {},
   "source": [
    "2. Группа клиентов, которые покупают только технику, то есть товары с длинным жизненным циклом."
   ]
  },
  {
   "cell_type": "code",
   "execution_count": null,
   "metadata": {},
   "outputs": [],
   "source": [
    "group2 = df.query('популярная_категория == \"Техника для красоты и здоровья\"')"
   ]
  },
  {
   "cell_type": "code",
   "execution_count": null,
   "metadata": {},
   "outputs": [],
   "source": [
    "group2.describe()"
   ]
  },
  {
   "cell_type": "code",
   "execution_count": null,
   "metadata": {
    "scrolled": true
   },
   "outputs": [],
   "source": [
    "num_hist_group(group2, df, df_num)"
   ]
  },
  {
   "cell_type": "code",
   "execution_count": null,
   "metadata": {
    "scrolled": true
   },
   "outputs": [],
   "source": [
    "cat_bar(group2, df, df_cat)"
   ]
  },
  {
   "cell_type": "markdown",
   "metadata": {},
   "source": [
    "Эта группа заинтересована в том, чтобы продолжать активность. Однако не так много из пользователей этой группы имеют тип сервиса \"премиум\". Может быть полезным продвигать этот тип."
   ]
  },
  {
   "cell_type": "markdown",
   "metadata": {},
   "source": [
    "3. Группа клиентов с высокой вероятностью снижения покупательской активности и наиболее высокой прибыльностью. Проанализируем в чем отличие  между ними и клиентами с высокой заинтересованностью"
   ]
  },
  {
   "cell_type": "code",
   "execution_count": null,
   "metadata": {},
   "outputs": [],
   "source": [
    "df['прибыль'].quantile(0.7)"
   ]
  },
  {
   "cell_type": "code",
   "execution_count": null,
   "metadata": {},
   "outputs": [],
   "source": [
    "group3 = df.query('вероятность_снижения_активности > 0.7 and прибыль >= 4.3')"
   ]
  },
  {
   "cell_type": "code",
   "execution_count": null,
   "metadata": {},
   "outputs": [],
   "source": [
    "group3_ct = df.query('вероятность_снижения_активности < 0.4 and прибыль >= 4.3')"
   ]
  },
  {
   "cell_type": "code",
   "execution_count": null,
   "metadata": {},
   "outputs": [],
   "source": [
    "group3.describe()"
   ]
  },
  {
   "cell_type": "code",
   "execution_count": null,
   "metadata": {
    "scrolled": true
   },
   "outputs": [],
   "source": [
    "num_hist_group(group3, group3_ct, df_num)"
   ]
  },
  {
   "cell_type": "code",
   "execution_count": null,
   "metadata": {
    "scrolled": true
   },
   "outputs": [],
   "source": [
    "cat_bar_group(group3, group3_ct, df_cat)"
   ]
  },
  {
   "cell_type": "markdown",
   "metadata": {},
   "source": [
    "Можно заметить, что больше всего прибыли приносят пользователи, покупающие товары для детей и косметику с аксесуарами. Пользователи этой группы также просматривают меньше товаров, посещая сайт. Вероятно, пользователи этой группы не смогли найти подходящие для них товары, либо цена их неустраивала. Следует расширить предложение в этих категориях, ведь пользователей, предпочитающих покупать домашний текстиль куда больше устраивают условия"
   ]
  },
  {
   "cell_type": "markdown",
   "metadata": {},
   "source": [
    "## Общий вывод\n"
   ]
  },
  {
   "cell_type": "markdown",
   "metadata": {},
   "source": [
    "Требовалось обучить модель, рассчитывающую вероятность снижения активности у пользователей.\n",
    "\n",
    "Для этого в данные были добавлены новые признаки из смежных таблиц, показывающие прибыль и время пребывания на сайте в текущий и предыдущие месяцы.\n",
    "\n",
    "Кореляционный анализ показал, что данные подходят для обучения модели.\n",
    "\n",
    "Для того, чтобы найти подходящую модель, были перебраны модели логистической регрессии, k ближайшиз соседей, опорных векторов и дерево решений с разными параметрами регуляризации, другими гиперпараметрами и алгоритмами масштабирования данных.\n",
    "\n",
    "Наиболее подходящей для задачи оказалась модель логистической регрессии с l1-регуляризацией и параметром C=0.01. \n",
    "\n",
    "После предсказаний вероятности снижения активности, пользователи были разделены по сегментам, связанных схожими значениями определенных характеристик. Был сделан вывод, что пользователей определенных групп можно привлечь более выгодными условиями продажи их любимых категорий товаров."
   ]
  }
 ],
 "metadata": {
  "ExecuteTimeLog": [
   {
    "duration": 48,
    "start_time": "2024-07-29T11:19:27.469Z"
   },
   {
    "duration": 784,
    "start_time": "2024-07-29T11:20:23.420Z"
   },
   {
    "duration": 313,
    "start_time": "2024-07-29T11:20:26.808Z"
   },
   {
    "duration": 17,
    "start_time": "2024-07-29T11:20:34.525Z"
   },
   {
    "duration": 7,
    "start_time": "2024-07-29T11:20:41.327Z"
   },
   {
    "duration": 7,
    "start_time": "2024-07-29T11:20:48.275Z"
   },
   {
    "duration": 6,
    "start_time": "2024-07-29T11:20:59.076Z"
   },
   {
    "duration": 80,
    "start_time": "2024-07-29T11:21:27.230Z"
   },
   {
    "duration": 10,
    "start_time": "2024-07-29T11:21:29.670Z"
   },
   {
    "duration": 7,
    "start_time": "2024-07-29T11:21:30.503Z"
   },
   {
    "duration": 6,
    "start_time": "2024-07-29T11:21:30.719Z"
   },
   {
    "duration": 7,
    "start_time": "2024-07-29T11:21:30.957Z"
   },
   {
    "duration": 81,
    "start_time": "2024-07-29T11:22:03.489Z"
   },
   {
    "duration": 6,
    "start_time": "2024-07-29T11:22:05.566Z"
   },
   {
    "duration": 3,
    "start_time": "2024-07-29T11:37:49.996Z"
   },
   {
    "duration": 27,
    "start_time": "2024-07-29T11:38:21.586Z"
   },
   {
    "duration": 77,
    "start_time": "2024-07-29T11:38:29.105Z"
   },
   {
    "duration": 28,
    "start_time": "2024-07-29T11:38:34.740Z"
   },
   {
    "duration": 3,
    "start_time": "2024-07-29T11:46:29.075Z"
   },
   {
    "duration": 2,
    "start_time": "2024-07-29T11:47:40.373Z"
   },
   {
    "duration": 5,
    "start_time": "2024-07-29T11:48:10.459Z"
   },
   {
    "duration": 12,
    "start_time": "2024-07-29T11:49:09.373Z"
   },
   {
    "duration": 8,
    "start_time": "2024-07-29T11:49:22.622Z"
   },
   {
    "duration": 9,
    "start_time": "2024-07-29T11:56:07.356Z"
   },
   {
    "duration": 10,
    "start_time": "2024-07-29T11:56:18.784Z"
   },
   {
    "duration": 12,
    "start_time": "2024-07-29T11:57:07.203Z"
   },
   {
    "duration": 851,
    "start_time": "2024-07-30T16:04:57.074Z"
   },
   {
    "duration": 343,
    "start_time": "2024-07-30T16:04:57.930Z"
   },
   {
    "duration": 19,
    "start_time": "2024-07-30T16:04:58.275Z"
   },
   {
    "duration": 8,
    "start_time": "2024-07-30T16:04:58.296Z"
   },
   {
    "duration": 7,
    "start_time": "2024-07-30T16:04:58.305Z"
   },
   {
    "duration": 6,
    "start_time": "2024-07-30T16:04:58.314Z"
   },
   {
    "duration": 6,
    "start_time": "2024-07-30T16:04:58.322Z"
   },
   {
    "duration": 35,
    "start_time": "2024-07-30T16:04:58.330Z"
   },
   {
    "duration": 3,
    "start_time": "2024-07-30T16:04:58.366Z"
   },
   {
    "duration": 20,
    "start_time": "2024-07-30T16:04:58.371Z"
   },
   {
    "duration": 21,
    "start_time": "2024-07-30T16:04:58.393Z"
   },
   {
    "duration": 12,
    "start_time": "2024-07-30T16:04:58.416Z"
   },
   {
    "duration": 10,
    "start_time": "2024-07-30T16:06:35.010Z"
   },
   {
    "duration": 18,
    "start_time": "2024-07-30T16:06:38.898Z"
   },
   {
    "duration": 4,
    "start_time": "2024-07-30T16:08:21.698Z"
   },
   {
    "duration": 697,
    "start_time": "2024-07-30T16:08:25.478Z"
   },
   {
    "duration": 94,
    "start_time": "2024-07-30T16:08:26.176Z"
   },
   {
    "duration": 17,
    "start_time": "2024-07-30T16:08:26.272Z"
   },
   {
    "duration": 25,
    "start_time": "2024-07-30T16:08:26.291Z"
   },
   {
    "duration": 8,
    "start_time": "2024-07-30T16:08:26.318Z"
   },
   {
    "duration": 13,
    "start_time": "2024-07-30T16:08:26.328Z"
   },
   {
    "duration": 4,
    "start_time": "2024-07-30T16:08:26.343Z"
   },
   {
    "duration": 37,
    "start_time": "2024-07-30T16:08:26.348Z"
   },
   {
    "duration": 3,
    "start_time": "2024-07-30T16:08:26.386Z"
   },
   {
    "duration": 9,
    "start_time": "2024-07-30T16:08:26.391Z"
   },
   {
    "duration": 13,
    "start_time": "2024-07-30T16:08:26.401Z"
   },
   {
    "duration": 35,
    "start_time": "2024-07-30T16:08:26.415Z"
   },
   {
    "duration": 4,
    "start_time": "2024-07-30T16:08:26.451Z"
   },
   {
    "duration": 16,
    "start_time": "2024-07-30T16:08:32.046Z"
   },
   {
    "duration": 51,
    "start_time": "2024-07-30T16:12:00.082Z"
   },
   {
    "duration": 5,
    "start_time": "2024-07-30T16:15:08.546Z"
   },
   {
    "duration": 5,
    "start_time": "2024-07-30T16:15:17.527Z"
   },
   {
    "duration": 4,
    "start_time": "2024-07-30T16:15:17.862Z"
   },
   {
    "duration": 5,
    "start_time": "2024-07-30T16:16:30.359Z"
   },
   {
    "duration": 6,
    "start_time": "2024-07-30T16:16:57.882Z"
   },
   {
    "duration": 10,
    "start_time": "2024-07-30T16:17:36.567Z"
   },
   {
    "duration": 13,
    "start_time": "2024-07-30T16:19:20.446Z"
   },
   {
    "duration": 3798,
    "start_time": "2024-07-30T16:19:39.314Z"
   },
   {
    "duration": 495,
    "start_time": "2024-07-30T16:27:35.215Z"
   },
   {
    "duration": 72,
    "start_time": "2024-07-30T16:29:24.323Z"
   },
   {
    "duration": 956,
    "start_time": "2024-07-30T16:29:33.663Z"
   },
   {
    "duration": 23,
    "start_time": "2024-07-30T16:30:35.782Z"
   },
   {
    "duration": 7,
    "start_time": "2024-07-30T16:34:37.363Z"
   },
   {
    "duration": 869,
    "start_time": "2024-07-30T16:34:49.003Z"
   },
   {
    "duration": 795,
    "start_time": "2024-07-30T16:38:07.103Z"
   },
   {
    "duration": 861,
    "start_time": "2024-07-30T16:38:33.712Z"
   },
   {
    "duration": 6,
    "start_time": "2024-07-30T16:42:58.700Z"
   },
   {
    "duration": 5,
    "start_time": "2024-07-30T16:43:02.332Z"
   },
   {
    "duration": 6,
    "start_time": "2024-07-30T16:43:09.647Z"
   },
   {
    "duration": 6,
    "start_time": "2024-07-30T16:43:24.555Z"
   },
   {
    "duration": 12,
    "start_time": "2024-07-30T16:44:03.767Z"
   },
   {
    "duration": 12,
    "start_time": "2024-07-30T16:44:15.596Z"
   },
   {
    "duration": 21,
    "start_time": "2024-07-30T17:00:51.592Z"
   },
   {
    "duration": 17,
    "start_time": "2024-07-30T17:01:03.024Z"
   },
   {
    "duration": 17,
    "start_time": "2024-07-30T17:01:13.240Z"
   },
   {
    "duration": 9,
    "start_time": "2024-07-30T17:01:46.992Z"
   },
   {
    "duration": 21,
    "start_time": "2024-07-30T17:01:55.508Z"
   },
   {
    "duration": 56,
    "start_time": "2024-07-30T17:02:39.371Z"
   },
   {
    "duration": 31,
    "start_time": "2024-07-30T17:03:43.039Z"
   },
   {
    "duration": 14,
    "start_time": "2024-07-30T17:03:52.639Z"
   },
   {
    "duration": 28,
    "start_time": "2024-07-30T17:08:11.388Z"
   },
   {
    "duration": 30,
    "start_time": "2024-07-30T17:08:37.108Z"
   },
   {
    "duration": 27,
    "start_time": "2024-07-30T17:09:12.702Z"
   },
   {
    "duration": 12,
    "start_time": "2024-07-30T17:09:23.215Z"
   },
   {
    "duration": 28,
    "start_time": "2024-07-30T17:09:31.200Z"
   },
   {
    "duration": 33,
    "start_time": "2024-07-30T17:09:53.084Z"
   },
   {
    "duration": 15,
    "start_time": "2024-07-30T17:10:00.304Z"
   },
   {
    "duration": 59,
    "start_time": "2024-07-30T17:10:48.556Z"
   },
   {
    "duration": 14,
    "start_time": "2024-07-30T17:10:50.636Z"
   },
   {
    "duration": 19,
    "start_time": "2024-07-30T17:21:02.177Z"
   },
   {
    "duration": 41,
    "start_time": "2024-07-30T17:21:15.824Z"
   },
   {
    "duration": 15,
    "start_time": "2024-07-30T17:21:17.293Z"
   },
   {
    "duration": 44,
    "start_time": "2024-07-30T17:21:42.524Z"
   },
   {
    "duration": 14,
    "start_time": "2024-07-30T17:21:45.820Z"
   },
   {
    "duration": 69,
    "start_time": "2024-07-30T17:23:17.325Z"
   },
   {
    "duration": 48,
    "start_time": "2024-07-30T17:23:26.737Z"
   },
   {
    "duration": 16,
    "start_time": "2024-07-30T17:23:28.416Z"
   },
   {
    "duration": 63,
    "start_time": "2024-07-30T17:24:23.465Z"
   },
   {
    "duration": 38,
    "start_time": "2024-07-30T17:24:27.736Z"
   },
   {
    "duration": 16,
    "start_time": "2024-07-30T17:24:29.572Z"
   },
   {
    "duration": 77,
    "start_time": "2024-07-30T17:24:46.528Z"
   },
   {
    "duration": 26,
    "start_time": "2024-07-30T17:24:55.420Z"
   },
   {
    "duration": 36,
    "start_time": "2024-07-30T17:24:58.312Z"
   },
   {
    "duration": 15,
    "start_time": "2024-07-30T17:24:59.516Z"
   },
   {
    "duration": 37,
    "start_time": "2024-07-30T17:25:06.725Z"
   },
   {
    "duration": 15,
    "start_time": "2024-07-30T17:25:08.116Z"
   },
   {
    "duration": 36,
    "start_time": "2024-07-30T17:25:26.309Z"
   },
   {
    "duration": 15,
    "start_time": "2024-07-30T17:25:28.248Z"
   },
   {
    "duration": 36,
    "start_time": "2024-07-30T17:25:57.508Z"
   },
   {
    "duration": 13,
    "start_time": "2024-07-30T17:25:58.741Z"
   },
   {
    "duration": 50,
    "start_time": "2024-07-30T17:28:41.808Z"
   },
   {
    "duration": 49,
    "start_time": "2024-07-30T17:28:55.580Z"
   },
   {
    "duration": 57,
    "start_time": "2024-07-30T17:29:37.848Z"
   },
   {
    "duration": 63,
    "start_time": "2024-07-30T17:29:52.912Z"
   },
   {
    "duration": 9,
    "start_time": "2024-07-30T17:29:59.220Z"
   },
   {
    "duration": 4,
    "start_time": "2024-07-30T17:31:17.236Z"
   },
   {
    "duration": 81,
    "start_time": "2024-07-30T17:31:20.781Z"
   },
   {
    "duration": 17,
    "start_time": "2024-07-30T17:31:22.016Z"
   },
   {
    "duration": 9,
    "start_time": "2024-07-30T17:46:53.313Z"
   },
   {
    "duration": 18,
    "start_time": "2024-07-30T17:47:14.653Z"
   },
   {
    "duration": 636,
    "start_time": "2024-07-30T17:47:30.597Z"
   },
   {
    "duration": 1515,
    "start_time": "2024-07-30T17:47:35.542Z"
   },
   {
    "duration": 14247,
    "start_time": "2024-07-30T17:53:12.013Z"
   },
   {
    "duration": 57238,
    "start_time": "2024-07-30T17:53:39.049Z"
   },
   {
    "duration": 29,
    "start_time": "2024-07-30T18:02:58.778Z"
   },
   {
    "duration": 4082,
    "start_time": "2024-07-30T18:03:11.495Z"
   },
   {
    "duration": 67,
    "start_time": "2024-07-30T18:03:21.694Z"
   },
   {
    "duration": 101050,
    "start_time": "2024-07-30T18:04:22.746Z"
   },
   {
    "duration": 18,
    "start_time": "2024-07-30T18:06:41.113Z"
   },
   {
    "duration": 11,
    "start_time": "2024-07-30T18:06:48.442Z"
   },
   {
    "duration": 938,
    "start_time": "2024-07-30T18:06:55.421Z"
   },
   {
    "duration": 59,
    "start_time": "2024-07-30T18:07:18.469Z"
   },
   {
    "duration": 3674,
    "start_time": "2024-07-30T18:07:21.761Z"
   },
   {
    "duration": 927,
    "start_time": "2024-07-30T18:07:55.982Z"
   },
   {
    "duration": 3569,
    "start_time": "2024-07-30T18:08:09.533Z"
   },
   {
    "duration": 3919,
    "start_time": "2024-07-30T18:08:19.727Z"
   },
   {
    "duration": 3674,
    "start_time": "2024-07-30T18:08:49.586Z"
   },
   {
    "duration": 3696,
    "start_time": "2024-07-30T18:09:01.410Z"
   },
   {
    "duration": 3457,
    "start_time": "2024-07-30T18:09:59.991Z"
   },
   {
    "duration": 1302,
    "start_time": "2024-07-31T05:04:38.223Z"
   },
   {
    "duration": 0,
    "start_time": "2024-07-31T05:04:39.527Z"
   },
   {
    "duration": 0,
    "start_time": "2024-07-31T05:04:39.528Z"
   },
   {
    "duration": 0,
    "start_time": "2024-07-31T05:04:39.529Z"
   },
   {
    "duration": 0,
    "start_time": "2024-07-31T05:04:39.530Z"
   },
   {
    "duration": 0,
    "start_time": "2024-07-31T05:04:39.531Z"
   },
   {
    "duration": 0,
    "start_time": "2024-07-31T05:04:39.532Z"
   },
   {
    "duration": 0,
    "start_time": "2024-07-31T05:04:39.533Z"
   },
   {
    "duration": 0,
    "start_time": "2024-07-31T05:04:39.534Z"
   },
   {
    "duration": 0,
    "start_time": "2024-07-31T05:04:39.535Z"
   },
   {
    "duration": 0,
    "start_time": "2024-07-31T05:04:39.536Z"
   },
   {
    "duration": 0,
    "start_time": "2024-07-31T05:04:39.537Z"
   },
   {
    "duration": 0,
    "start_time": "2024-07-31T05:04:39.538Z"
   },
   {
    "duration": 0,
    "start_time": "2024-07-31T05:04:39.539Z"
   },
   {
    "duration": 0,
    "start_time": "2024-07-31T05:04:39.540Z"
   },
   {
    "duration": 0,
    "start_time": "2024-07-31T05:04:39.541Z"
   },
   {
    "duration": 0,
    "start_time": "2024-07-31T05:04:39.542Z"
   },
   {
    "duration": 0,
    "start_time": "2024-07-31T05:04:39.543Z"
   },
   {
    "duration": 0,
    "start_time": "2024-07-31T05:04:39.544Z"
   },
   {
    "duration": 0,
    "start_time": "2024-07-31T05:04:39.544Z"
   },
   {
    "duration": 0,
    "start_time": "2024-07-31T05:04:39.545Z"
   },
   {
    "duration": 0,
    "start_time": "2024-07-31T05:04:39.546Z"
   },
   {
    "duration": 0,
    "start_time": "2024-07-31T05:04:39.547Z"
   },
   {
    "duration": 0,
    "start_time": "2024-07-31T05:04:39.548Z"
   },
   {
    "duration": 0,
    "start_time": "2024-07-31T05:04:39.548Z"
   },
   {
    "duration": 0,
    "start_time": "2024-07-31T05:04:39.550Z"
   },
   {
    "duration": 0,
    "start_time": "2024-07-31T05:04:39.550Z"
   },
   {
    "duration": 0,
    "start_time": "2024-07-31T05:04:39.551Z"
   },
   {
    "duration": 0,
    "start_time": "2024-07-31T05:04:39.552Z"
   },
   {
    "duration": 0,
    "start_time": "2024-07-31T05:04:39.553Z"
   },
   {
    "duration": 1129,
    "start_time": "2024-07-31T05:05:09.443Z"
   },
   {
    "duration": 0,
    "start_time": "2024-07-31T05:05:10.575Z"
   },
   {
    "duration": 0,
    "start_time": "2024-07-31T05:05:10.576Z"
   },
   {
    "duration": 0,
    "start_time": "2024-07-31T05:05:10.576Z"
   },
   {
    "duration": 0,
    "start_time": "2024-07-31T05:05:10.577Z"
   },
   {
    "duration": 0,
    "start_time": "2024-07-31T05:05:10.578Z"
   },
   {
    "duration": 0,
    "start_time": "2024-07-31T05:05:10.579Z"
   },
   {
    "duration": 0,
    "start_time": "2024-07-31T05:05:10.580Z"
   },
   {
    "duration": 0,
    "start_time": "2024-07-31T05:05:10.581Z"
   },
   {
    "duration": 0,
    "start_time": "2024-07-31T05:05:10.582Z"
   },
   {
    "duration": 0,
    "start_time": "2024-07-31T05:05:10.583Z"
   },
   {
    "duration": 0,
    "start_time": "2024-07-31T05:05:10.584Z"
   },
   {
    "duration": 0,
    "start_time": "2024-07-31T05:05:10.585Z"
   },
   {
    "duration": 0,
    "start_time": "2024-07-31T05:05:10.586Z"
   },
   {
    "duration": 0,
    "start_time": "2024-07-31T05:05:10.602Z"
   },
   {
    "duration": 0,
    "start_time": "2024-07-31T05:05:10.602Z"
   },
   {
    "duration": 0,
    "start_time": "2024-07-31T05:05:10.603Z"
   },
   {
    "duration": 0,
    "start_time": "2024-07-31T05:05:10.604Z"
   },
   {
    "duration": 0,
    "start_time": "2024-07-31T05:05:10.605Z"
   },
   {
    "duration": 0,
    "start_time": "2024-07-31T05:05:10.607Z"
   },
   {
    "duration": 0,
    "start_time": "2024-07-31T05:05:10.608Z"
   },
   {
    "duration": 0,
    "start_time": "2024-07-31T05:05:10.608Z"
   },
   {
    "duration": 0,
    "start_time": "2024-07-31T05:05:10.609Z"
   },
   {
    "duration": 0,
    "start_time": "2024-07-31T05:05:10.610Z"
   },
   {
    "duration": 0,
    "start_time": "2024-07-31T05:05:10.611Z"
   },
   {
    "duration": 0,
    "start_time": "2024-07-31T05:05:10.612Z"
   },
   {
    "duration": 0,
    "start_time": "2024-07-31T05:05:10.613Z"
   },
   {
    "duration": 0,
    "start_time": "2024-07-31T05:05:10.614Z"
   },
   {
    "duration": 0,
    "start_time": "2024-07-31T05:05:10.615Z"
   },
   {
    "duration": 0,
    "start_time": "2024-07-31T05:05:10.616Z"
   },
   {
    "duration": 8,
    "start_time": "2024-07-31T05:05:14.779Z"
   },
   {
    "duration": 3456,
    "start_time": "2024-07-31T05:05:26.120Z"
   },
   {
    "duration": 50,
    "start_time": "2024-07-31T05:05:29.648Z"
   },
   {
    "duration": 1083,
    "start_time": "2024-07-31T05:05:33.815Z"
   },
   {
    "duration": 2490,
    "start_time": "2024-07-31T05:05:34.900Z"
   },
   {
    "duration": 314,
    "start_time": "2024-07-31T05:05:37.392Z"
   },
   {
    "duration": 15,
    "start_time": "2024-07-31T05:05:37.708Z"
   },
   {
    "duration": 66,
    "start_time": "2024-07-31T05:05:37.724Z"
   },
   {
    "duration": 6,
    "start_time": "2024-07-31T05:05:37.791Z"
   },
   {
    "duration": 6,
    "start_time": "2024-07-31T05:05:37.799Z"
   },
   {
    "duration": 4,
    "start_time": "2024-07-31T05:05:37.806Z"
   },
   {
    "duration": 42,
    "start_time": "2024-07-31T05:05:37.811Z"
   },
   {
    "duration": 3,
    "start_time": "2024-07-31T05:05:37.855Z"
   },
   {
    "duration": 8,
    "start_time": "2024-07-31T05:05:37.859Z"
   },
   {
    "duration": 31,
    "start_time": "2024-07-31T05:05:37.868Z"
   },
   {
    "duration": 11,
    "start_time": "2024-07-31T05:05:37.900Z"
   },
   {
    "duration": 3,
    "start_time": "2024-07-31T05:05:37.913Z"
   },
   {
    "duration": 5,
    "start_time": "2024-07-31T05:05:37.917Z"
   },
   {
    "duration": 40,
    "start_time": "2024-07-31T05:05:37.923Z"
   },
   {
    "duration": 4,
    "start_time": "2024-07-31T05:05:37.964Z"
   },
   {
    "duration": 87,
    "start_time": "2024-07-31T05:05:37.970Z"
   },
   {
    "duration": 16,
    "start_time": "2024-07-31T05:05:38.058Z"
   },
   {
    "duration": 3450,
    "start_time": "2024-07-31T05:05:38.076Z"
   },
   {
    "duration": 424,
    "start_time": "2024-07-31T05:05:41.528Z"
   },
   {
    "duration": 733,
    "start_time": "2024-07-31T05:05:41.953Z"
   },
   {
    "duration": 16,
    "start_time": "2024-07-31T05:05:42.688Z"
   },
   {
    "duration": 832,
    "start_time": "2024-07-31T05:05:42.706Z"
   },
   {
    "duration": 729,
    "start_time": "2024-07-31T05:05:43.539Z"
   },
   {
    "duration": 710,
    "start_time": "2024-07-31T05:05:44.269Z"
   },
   {
    "duration": 58,
    "start_time": "2024-07-31T05:05:44.980Z"
   },
   {
    "duration": 14,
    "start_time": "2024-07-31T05:05:45.041Z"
   },
   {
    "duration": 89,
    "start_time": "2024-07-31T05:05:45.057Z"
   },
   {
    "duration": 1172,
    "start_time": "2024-07-31T05:05:45.148Z"
   },
   {
    "duration": 2668,
    "start_time": "2024-07-31T05:05:46.321Z"
   },
   {
    "duration": 93,
    "start_time": "2024-07-31T05:15:59.709Z"
   },
   {
    "duration": 293,
    "start_time": "2024-07-31T05:17:55.253Z"
   },
   {
    "duration": 7,
    "start_time": "2024-07-31T05:18:03.908Z"
   },
   {
    "duration": 3,
    "start_time": "2024-07-31T05:18:41.357Z"
   },
   {
    "duration": 18,
    "start_time": "2024-07-31T05:19:10.265Z"
   },
   {
    "duration": 4,
    "start_time": "2024-07-31T05:20:38.013Z"
   },
   {
    "duration": 5,
    "start_time": "2024-07-31T05:20:45.081Z"
   },
   {
    "duration": 7,
    "start_time": "2024-07-31T05:21:19.262Z"
   },
   {
    "duration": 11,
    "start_time": "2024-07-31T05:26:00.434Z"
   },
   {
    "duration": 5,
    "start_time": "2024-07-31T05:31:01.304Z"
   },
   {
    "duration": 5,
    "start_time": "2024-07-31T05:32:09.215Z"
   },
   {
    "duration": 8,
    "start_time": "2024-07-31T05:36:33.715Z"
   },
   {
    "duration": 5,
    "start_time": "2024-07-31T05:36:55.610Z"
   },
   {
    "duration": 4,
    "start_time": "2024-07-31T05:36:59.826Z"
   },
   {
    "duration": 3,
    "start_time": "2024-07-31T05:38:07.570Z"
   },
   {
    "duration": 8,
    "start_time": "2024-07-31T05:38:58.898Z"
   },
   {
    "duration": 2,
    "start_time": "2024-07-31T05:39:22.058Z"
   },
   {
    "duration": 4,
    "start_time": "2024-07-31T05:51:06.976Z"
   },
   {
    "duration": 10,
    "start_time": "2024-07-31T06:02:33.839Z"
   },
   {
    "duration": 4,
    "start_time": "2024-07-31T06:03:02.274Z"
   },
   {
    "duration": 4,
    "start_time": "2024-07-31T06:03:06.719Z"
   },
   {
    "duration": 3,
    "start_time": "2024-07-31T06:04:16.103Z"
   },
   {
    "duration": 2,
    "start_time": "2024-07-31T06:04:51.567Z"
   },
   {
    "duration": 740,
    "start_time": "2024-07-31T06:05:08.326Z"
   },
   {
    "duration": 5,
    "start_time": "2024-07-31T06:06:21.379Z"
   },
   {
    "duration": 8,
    "start_time": "2024-07-31T06:06:56.275Z"
   },
   {
    "duration": 4,
    "start_time": "2024-07-31T06:10:57.472Z"
   },
   {
    "duration": 5,
    "start_time": "2024-07-31T06:10:58.272Z"
   },
   {
    "duration": 2,
    "start_time": "2024-07-31T06:10:58.580Z"
   },
   {
    "duration": 3,
    "start_time": "2024-07-31T06:10:58.912Z"
   },
   {
    "duration": 6,
    "start_time": "2024-07-31T06:10:59.248Z"
   },
   {
    "duration": 2,
    "start_time": "2024-07-31T06:10:59.712Z"
   },
   {
    "duration": 759,
    "start_time": "2024-07-31T06:11:02.200Z"
   },
   {
    "duration": 4,
    "start_time": "2024-07-31T06:11:05.264Z"
   },
   {
    "duration": 8,
    "start_time": "2024-07-31T06:11:05.575Z"
   },
   {
    "duration": 19,
    "start_time": "2024-07-31T06:15:17.253Z"
   },
   {
    "duration": 16,
    "start_time": "2024-07-31T06:16:53.121Z"
   },
   {
    "duration": 16,
    "start_time": "2024-07-31T06:17:06.077Z"
   },
   {
    "duration": 3,
    "start_time": "2024-07-31T06:17:16.224Z"
   },
   {
    "duration": 2,
    "start_time": "2024-07-31T06:18:14.162Z"
   },
   {
    "duration": 3,
    "start_time": "2024-07-31T06:18:21.945Z"
   },
   {
    "duration": 4,
    "start_time": "2024-07-31T06:18:36.893Z"
   },
   {
    "duration": 3,
    "start_time": "2024-07-31T06:18:58.589Z"
   },
   {
    "duration": 4,
    "start_time": "2024-07-31T06:19:07.688Z"
   },
   {
    "duration": 3,
    "start_time": "2024-07-31T06:19:13.849Z"
   },
   {
    "duration": 4,
    "start_time": "2024-07-31T06:33:24.844Z"
   },
   {
    "duration": 3,
    "start_time": "2024-07-31T06:33:25.022Z"
   },
   {
    "duration": 2,
    "start_time": "2024-07-31T06:33:25.963Z"
   },
   {
    "duration": 5,
    "start_time": "2024-07-31T06:33:26.682Z"
   },
   {
    "duration": 2,
    "start_time": "2024-07-31T06:33:27.963Z"
   },
   {
    "duration": 693,
    "start_time": "2024-07-31T06:33:28.955Z"
   },
   {
    "duration": 3,
    "start_time": "2024-07-31T06:34:55.262Z"
   },
   {
    "duration": 3,
    "start_time": "2024-07-31T06:34:55.722Z"
   },
   {
    "duration": 2,
    "start_time": "2024-07-31T06:34:56.857Z"
   },
   {
    "duration": 4,
    "start_time": "2024-07-31T06:34:58.230Z"
   },
   {
    "duration": 3,
    "start_time": "2024-07-31T06:34:59.298Z"
   },
   {
    "duration": 626,
    "start_time": "2024-07-31T06:35:00.438Z"
   },
   {
    "duration": 3,
    "start_time": "2024-07-31T06:35:25.078Z"
   },
   {
    "duration": 3,
    "start_time": "2024-07-31T06:35:25.838Z"
   },
   {
    "duration": 5,
    "start_time": "2024-07-31T06:35:26.662Z"
   },
   {
    "duration": 3,
    "start_time": "2024-07-31T06:35:27.406Z"
   },
   {
    "duration": 552,
    "start_time": "2024-07-31T06:35:27.990Z"
   },
   {
    "duration": 4,
    "start_time": "2024-07-31T06:43:08.761Z"
   },
   {
    "duration": 2,
    "start_time": "2024-07-31T06:43:09.014Z"
   },
   {
    "duration": 3,
    "start_time": "2024-07-31T06:43:09.343Z"
   },
   {
    "duration": 4,
    "start_time": "2024-07-31T06:43:09.738Z"
   },
   {
    "duration": 3,
    "start_time": "2024-07-31T06:43:09.994Z"
   },
   {
    "duration": 668,
    "start_time": "2024-07-31T06:43:10.506Z"
   },
   {
    "duration": 7,
    "start_time": "2024-07-31T06:43:22.554Z"
   },
   {
    "duration": 9,
    "start_time": "2024-07-31T06:43:27.612Z"
   },
   {
    "duration": 13,
    "start_time": "2024-07-31T06:43:41.066Z"
   },
   {
    "duration": 7,
    "start_time": "2024-07-31T06:43:50.783Z"
   },
   {
    "duration": 7,
    "start_time": "2024-07-31T06:44:58.123Z"
   },
   {
    "duration": 6,
    "start_time": "2024-07-31T06:44:58.714Z"
   },
   {
    "duration": 3,
    "start_time": "2024-07-31T06:44:59.402Z"
   },
   {
    "duration": 3,
    "start_time": "2024-07-31T06:45:00.115Z"
   },
   {
    "duration": 2,
    "start_time": "2024-07-31T06:45:00.584Z"
   },
   {
    "duration": 3,
    "start_time": "2024-07-31T06:45:00.874Z"
   },
   {
    "duration": 6,
    "start_time": "2024-07-31T06:45:01.174Z"
   },
   {
    "duration": 2,
    "start_time": "2024-07-31T06:45:01.878Z"
   },
   {
    "duration": 704,
    "start_time": "2024-07-31T06:45:03.378Z"
   },
   {
    "duration": 4,
    "start_time": "2024-07-31T06:45:39.866Z"
   },
   {
    "duration": 3,
    "start_time": "2024-07-31T06:45:42.589Z"
   },
   {
    "duration": 2,
    "start_time": "2024-07-31T06:45:43.035Z"
   },
   {
    "duration": 3,
    "start_time": "2024-07-31T06:45:43.777Z"
   },
   {
    "duration": 4,
    "start_time": "2024-07-31T06:45:44.594Z"
   },
   {
    "duration": 2,
    "start_time": "2024-07-31T06:45:45.459Z"
   },
   {
    "duration": 33758,
    "start_time": "2024-07-31T06:45:46.054Z"
   },
   {
    "duration": 8,
    "start_time": "2024-07-31T06:46:34.190Z"
   },
   {
    "duration": 6,
    "start_time": "2024-07-31T06:46:34.492Z"
   },
   {
    "duration": 4,
    "start_time": "2024-07-31T06:46:35.018Z"
   },
   {
    "duration": 3,
    "start_time": "2024-07-31T06:46:35.770Z"
   },
   {
    "duration": 2,
    "start_time": "2024-07-31T06:46:36.126Z"
   },
   {
    "duration": 2,
    "start_time": "2024-07-31T06:46:36.426Z"
   },
   {
    "duration": 6,
    "start_time": "2024-07-31T06:46:36.858Z"
   },
   {
    "duration": 2,
    "start_time": "2024-07-31T06:46:37.574Z"
   },
   {
    "duration": 987,
    "start_time": "2024-07-31T06:46:38.202Z"
   },
   {
    "duration": 6453,
    "start_time": "2024-07-31T06:49:58.171Z"
   },
   {
    "duration": 970,
    "start_time": "2024-07-31T06:50:14.386Z"
   },
   {
    "duration": 5,
    "start_time": "2024-07-31T06:50:52.990Z"
   },
   {
    "duration": 3,
    "start_time": "2024-07-31T06:50:53.715Z"
   },
   {
    "duration": 3,
    "start_time": "2024-07-31T06:50:54.318Z"
   },
   {
    "duration": 3,
    "start_time": "2024-07-31T06:50:54.758Z"
   },
   {
    "duration": 4,
    "start_time": "2024-07-31T06:50:55.174Z"
   },
   {
    "duration": 2,
    "start_time": "2024-07-31T06:50:55.658Z"
   },
   {
    "duration": 914,
    "start_time": "2024-07-31T06:50:56.190Z"
   },
   {
    "duration": 1159,
    "start_time": "2024-07-31T06:51:12.643Z"
   },
   {
    "duration": 2993,
    "start_time": "2024-07-31T06:51:13.803Z"
   },
   {
    "duration": 2536,
    "start_time": "2024-07-31T06:51:16.798Z"
   },
   {
    "duration": 83,
    "start_time": "2024-07-31T06:51:19.336Z"
   },
   {
    "duration": 14,
    "start_time": "2024-07-31T06:51:19.421Z"
   },
   {
    "duration": 10,
    "start_time": "2024-07-31T06:51:19.437Z"
   },
   {
    "duration": 8,
    "start_time": "2024-07-31T06:51:19.448Z"
   },
   {
    "duration": 9,
    "start_time": "2024-07-31T06:51:19.457Z"
   },
   {
    "duration": 3,
    "start_time": "2024-07-31T06:51:19.467Z"
   },
   {
    "duration": 28,
    "start_time": "2024-07-31T06:51:19.472Z"
   },
   {
    "duration": 3,
    "start_time": "2024-07-31T06:51:19.501Z"
   },
   {
    "duration": 5,
    "start_time": "2024-07-31T06:51:19.506Z"
   },
   {
    "duration": 10,
    "start_time": "2024-07-31T06:51:19.513Z"
   },
   {
    "duration": 11,
    "start_time": "2024-07-31T06:51:19.526Z"
   },
   {
    "duration": 4,
    "start_time": "2024-07-31T06:51:19.538Z"
   },
   {
    "duration": 11,
    "start_time": "2024-07-31T06:51:19.543Z"
   },
   {
    "duration": 65,
    "start_time": "2024-07-31T06:51:19.555Z"
   },
   {
    "duration": 4,
    "start_time": "2024-07-31T06:51:19.622Z"
   },
   {
    "duration": 27,
    "start_time": "2024-07-31T06:51:19.628Z"
   },
   {
    "duration": 11,
    "start_time": "2024-07-31T06:51:19.657Z"
   },
   {
    "duration": 3443,
    "start_time": "2024-07-31T06:51:19.670Z"
   },
   {
    "duration": 431,
    "start_time": "2024-07-31T06:51:23.115Z"
   },
   {
    "duration": 795,
    "start_time": "2024-07-31T06:51:23.548Z"
   },
   {
    "duration": 5,
    "start_time": "2024-07-31T06:51:24.345Z"
   },
   {
    "duration": 776,
    "start_time": "2024-07-31T06:51:24.351Z"
   },
   {
    "duration": 775,
    "start_time": "2024-07-31T06:51:25.128Z"
   },
   {
    "duration": 691,
    "start_time": "2024-07-31T06:51:25.904Z"
   },
   {
    "duration": 54,
    "start_time": "2024-07-31T06:51:26.596Z"
   },
   {
    "duration": 13,
    "start_time": "2024-07-31T06:51:26.651Z"
   },
   {
    "duration": 7,
    "start_time": "2024-07-31T06:51:26.666Z"
   },
   {
    "duration": 1246,
    "start_time": "2024-07-31T06:51:26.674Z"
   },
   {
    "duration": 2632,
    "start_time": "2024-07-31T06:51:27.921Z"
   },
   {
    "duration": 9,
    "start_time": "2024-07-31T06:51:30.555Z"
   },
   {
    "duration": 292,
    "start_time": "2024-07-31T06:51:30.566Z"
   },
   {
    "duration": 182,
    "start_time": "2024-07-31T06:51:30.859Z"
   },
   {
    "duration": 202,
    "start_time": "2024-07-31T06:51:31.043Z"
   },
   {
    "duration": 0,
    "start_time": "2024-07-31T06:51:31.246Z"
   },
   {
    "duration": 0,
    "start_time": "2024-07-31T06:51:31.247Z"
   },
   {
    "duration": 0,
    "start_time": "2024-07-31T06:51:31.249Z"
   },
   {
    "duration": 0,
    "start_time": "2024-07-31T06:51:31.250Z"
   },
   {
    "duration": 0,
    "start_time": "2024-07-31T06:51:31.251Z"
   },
   {
    "duration": 0,
    "start_time": "2024-07-31T06:51:31.252Z"
   },
   {
    "duration": 0,
    "start_time": "2024-07-31T06:51:31.254Z"
   },
   {
    "duration": 0,
    "start_time": "2024-07-31T06:51:31.255Z"
   },
   {
    "duration": 0,
    "start_time": "2024-07-31T06:51:31.256Z"
   },
   {
    "duration": 0,
    "start_time": "2024-07-31T06:51:31.257Z"
   },
   {
    "duration": 3,
    "start_time": "2024-07-31T06:51:52.424Z"
   },
   {
    "duration": 3,
    "start_time": "2024-07-31T06:51:53.003Z"
   },
   {
    "duration": 3,
    "start_time": "2024-07-31T06:51:53.401Z"
   },
   {
    "duration": 4,
    "start_time": "2024-07-31T06:51:53.852Z"
   },
   {
    "duration": 2,
    "start_time": "2024-07-31T06:51:54.412Z"
   },
   {
    "duration": 1723,
    "start_time": "2024-07-31T06:51:55.189Z"
   },
   {
    "duration": 5,
    "start_time": "2024-07-31T06:52:43.331Z"
   },
   {
    "duration": 2,
    "start_time": "2024-07-31T06:52:44.057Z"
   },
   {
    "duration": 3,
    "start_time": "2024-07-31T06:52:44.593Z"
   },
   {
    "duration": 4,
    "start_time": "2024-07-31T06:52:45.047Z"
   },
   {
    "duration": 2,
    "start_time": "2024-07-31T06:52:45.528Z"
   },
   {
    "duration": 3225,
    "start_time": "2024-07-31T06:52:46.112Z"
   },
   {
    "duration": 3,
    "start_time": "2024-07-31T06:53:09.324Z"
   },
   {
    "duration": 3,
    "start_time": "2024-07-31T06:53:09.525Z"
   },
   {
    "duration": 3,
    "start_time": "2024-07-31T06:53:09.792Z"
   },
   {
    "duration": 5,
    "start_time": "2024-07-31T06:53:10.299Z"
   },
   {
    "duration": 3,
    "start_time": "2024-07-31T06:53:11.119Z"
   },
   {
    "duration": 2861,
    "start_time": "2024-07-31T06:53:11.544Z"
   },
   {
    "duration": 4,
    "start_time": "2024-07-31T06:55:01.444Z"
   },
   {
    "duration": 4,
    "start_time": "2024-07-31T06:55:03.004Z"
   },
   {
    "duration": 3,
    "start_time": "2024-07-31T06:55:04.204Z"
   },
   {
    "duration": 3,
    "start_time": "2024-07-31T06:55:04.560Z"
   },
   {
    "duration": 2,
    "start_time": "2024-07-31T06:55:04.896Z"
   },
   {
    "duration": 4,
    "start_time": "2024-07-31T06:55:05.344Z"
   },
   {
    "duration": 3,
    "start_time": "2024-07-31T06:55:06.144Z"
   },
   {
    "duration": 5270,
    "start_time": "2024-07-31T06:55:06.824Z"
   },
   {
    "duration": 9,
    "start_time": "2024-07-31T07:00:57.020Z"
   },
   {
    "duration": 9,
    "start_time": "2024-07-31T07:01:40.248Z"
   },
   {
    "duration": 16,
    "start_time": "2024-07-31T07:01:46.992Z"
   },
   {
    "duration": 24,
    "start_time": "2024-07-31T07:02:05.120Z"
   },
   {
    "duration": 5,
    "start_time": "2024-07-31T07:02:53.644Z"
   },
   {
    "duration": 27,
    "start_time": "2024-07-31T07:03:10.268Z"
   },
   {
    "duration": 21,
    "start_time": "2024-07-31T07:03:18.008Z"
   },
   {
    "duration": 6,
    "start_time": "2024-07-31T07:03:56.407Z"
   },
   {
    "duration": 21,
    "start_time": "2024-07-31T07:05:02.988Z"
   },
   {
    "duration": 4,
    "start_time": "2024-07-31T07:05:58.456Z"
   },
   {
    "duration": 3,
    "start_time": "2024-07-31T07:06:00.027Z"
   },
   {
    "duration": 2,
    "start_time": "2024-07-31T07:06:00.588Z"
   },
   {
    "duration": 3,
    "start_time": "2024-07-31T07:06:01.102Z"
   },
   {
    "duration": 4,
    "start_time": "2024-07-31T07:06:01.792Z"
   },
   {
    "duration": 3,
    "start_time": "2024-07-31T07:06:02.500Z"
   },
   {
    "duration": 14,
    "start_time": "2024-07-31T07:06:03.884Z"
   },
   {
    "duration": 20,
    "start_time": "2024-07-31T07:06:12.752Z"
   },
   {
    "duration": 7,
    "start_time": "2024-07-31T07:06:21.278Z"
   },
   {
    "duration": 4957,
    "start_time": "2024-07-31T07:06:23.152Z"
   },
   {
    "duration": 8,
    "start_time": "2024-07-31T07:08:48.820Z"
   },
   {
    "duration": 6,
    "start_time": "2024-07-31T07:08:59.384Z"
   },
   {
    "duration": 10,
    "start_time": "2024-07-31T07:09:18.112Z"
   },
   {
    "duration": 3,
    "start_time": "2024-07-31T07:13:12.984Z"
   },
   {
    "duration": 4,
    "start_time": "2024-07-31T07:13:16.412Z"
   },
   {
    "duration": 11,
    "start_time": "2024-07-31T07:13:16.687Z"
   },
   {
    "duration": 3,
    "start_time": "2024-07-31T07:13:17.147Z"
   },
   {
    "duration": 3,
    "start_time": "2024-07-31T07:13:17.600Z"
   },
   {
    "duration": 5,
    "start_time": "2024-07-31T07:13:18.071Z"
   },
   {
    "duration": 3,
    "start_time": "2024-07-31T07:13:18.771Z"
   },
   {
    "duration": 14,
    "start_time": "2024-07-31T07:13:22.288Z"
   },
   {
    "duration": 5650,
    "start_time": "2024-07-31T07:13:29.964Z"
   },
   {
    "duration": 23,
    "start_time": "2024-07-31T07:13:55.904Z"
   },
   {
    "duration": 3,
    "start_time": "2024-07-31T07:14:13.740Z"
   },
   {
    "duration": 3,
    "start_time": "2024-07-31T07:14:13.903Z"
   },
   {
    "duration": 2,
    "start_time": "2024-07-31T07:14:14.109Z"
   },
   {
    "duration": 7,
    "start_time": "2024-07-31T07:14:14.598Z"
   },
   {
    "duration": 3,
    "start_time": "2024-07-31T07:14:14.903Z"
   },
   {
    "duration": 15,
    "start_time": "2024-07-31T07:14:15.427Z"
   },
   {
    "duration": 5330,
    "start_time": "2024-07-31T07:14:16.251Z"
   },
   {
    "duration": 4,
    "start_time": "2024-07-31T07:14:25.759Z"
   },
   {
    "duration": 5,
    "start_time": "2024-07-31T07:14:38.499Z"
   },
   {
    "duration": 86,
    "start_time": "2024-07-31T07:14:52.037Z"
   },
   {
    "duration": 3,
    "start_time": "2024-07-31T07:15:57.019Z"
   },
   {
    "duration": 15,
    "start_time": "2024-07-31T07:15:57.489Z"
   },
   {
    "duration": 11503,
    "start_time": "2024-07-31T07:15:58.652Z"
   },
   {
    "duration": 4,
    "start_time": "2024-07-31T07:16:25.121Z"
   },
   {
    "duration": 5,
    "start_time": "2024-07-31T07:16:30.961Z"
   },
   {
    "duration": 39,
    "start_time": "2024-07-31T07:16:32.523Z"
   },
   {
    "duration": 3,
    "start_time": "2024-07-31T07:23:43.678Z"
   },
   {
    "duration": 2,
    "start_time": "2024-07-31T07:23:45.162Z"
   },
   {
    "duration": 10879,
    "start_time": "2024-07-31T07:23:45.430Z"
   },
   {
    "duration": 4,
    "start_time": "2024-07-31T07:24:01.642Z"
   },
   {
    "duration": 35,
    "start_time": "2024-07-31T07:24:11.605Z"
   },
   {
    "duration": 4,
    "start_time": "2024-07-31T07:25:32.505Z"
   },
   {
    "duration": 3,
    "start_time": "2024-07-31T07:25:45.455Z"
   },
   {
    "duration": 11160,
    "start_time": "2024-07-31T07:25:46.118Z"
   },
   {
    "duration": 4,
    "start_time": "2024-07-31T07:26:11.876Z"
   },
   {
    "duration": 4,
    "start_time": "2024-07-31T07:26:13.497Z"
   },
   {
    "duration": 3,
    "start_time": "2024-07-31T07:37:20.726Z"
   },
   {
    "duration": 18594,
    "start_time": "2024-07-31T07:37:21.045Z"
   },
   {
    "duration": 4,
    "start_time": "2024-07-31T07:37:50.462Z"
   },
   {
    "duration": 4,
    "start_time": "2024-07-31T07:37:53.849Z"
   },
   {
    "duration": 2,
    "start_time": "2024-07-31T07:38:46.878Z"
   },
   {
    "duration": 22137,
    "start_time": "2024-07-31T07:38:48.958Z"
   },
   {
    "duration": 4,
    "start_time": "2024-07-31T07:39:15.410Z"
   },
   {
    "duration": 3,
    "start_time": "2024-07-31T07:39:21.804Z"
   },
   {
    "duration": 18817,
    "start_time": "2024-07-31T07:39:24.247Z"
   },
   {
    "duration": 4,
    "start_time": "2024-07-31T07:39:46.609Z"
   },
   {
    "duration": 3,
    "start_time": "2024-07-31T07:39:47.058Z"
   },
   {
    "duration": 2,
    "start_time": "2024-07-31T07:40:29.543Z"
   },
   {
    "duration": 13,
    "start_time": "2024-07-31T07:41:08.473Z"
   },
   {
    "duration": 4,
    "start_time": "2024-07-31T07:42:01.729Z"
   },
   {
    "duration": 4,
    "start_time": "2024-07-31T07:42:20.437Z"
   },
   {
    "duration": 21,
    "start_time": "2024-07-31T07:42:39.217Z"
   },
   {
    "duration": 13,
    "start_time": "2024-07-31T07:43:07.929Z"
   },
   {
    "duration": 9,
    "start_time": "2024-07-31T07:43:19.684Z"
   },
   {
    "duration": 20,
    "start_time": "2024-07-31T07:43:53.688Z"
   },
   {
    "duration": 11,
    "start_time": "2024-07-31T07:44:04.413Z"
   },
   {
    "duration": 10,
    "start_time": "2024-07-31T07:44:09.481Z"
   },
   {
    "duration": 3,
    "start_time": "2024-07-31T08:45:51.793Z"
   },
   {
    "duration": 12,
    "start_time": "2024-07-31T08:46:36.698Z"
   },
   {
    "duration": 4,
    "start_time": "2024-07-31T08:46:38.050Z"
   },
   {
    "duration": 9,
    "start_time": "2024-07-31T08:46:39.393Z"
   },
   {
    "duration": 3,
    "start_time": "2024-07-31T08:46:49.153Z"
   },
   {
    "duration": 12,
    "start_time": "2024-07-31T08:46:52.737Z"
   },
   {
    "duration": 5,
    "start_time": "2024-07-31T08:46:53.844Z"
   },
   {
    "duration": 8,
    "start_time": "2024-07-31T08:46:55.237Z"
   },
   {
    "duration": 10,
    "start_time": "2024-07-31T08:49:39.115Z"
   },
   {
    "duration": 4198,
    "start_time": "2024-07-31T08:49:48.558Z"
   },
   {
    "duration": 451,
    "start_time": "2024-07-31T08:49:55.116Z"
   },
   {
    "duration": 38,
    "start_time": "2024-07-31T08:51:20.261Z"
   },
   {
    "duration": 2,
    "start_time": "2024-07-31T08:51:42.206Z"
   },
   {
    "duration": 14,
    "start_time": "2024-07-31T08:51:43.882Z"
   },
   {
    "duration": 7,
    "start_time": "2024-07-31T08:51:44.207Z"
   },
   {
    "duration": 10,
    "start_time": "2024-07-31T08:51:44.913Z"
   },
   {
    "duration": 11,
    "start_time": "2024-07-31T08:51:53.537Z"
   },
   {
    "duration": 54,
    "start_time": "2024-07-31T08:52:06.329Z"
   },
   {
    "duration": 8,
    "start_time": "2024-07-31T08:55:43.976Z"
   },
   {
    "duration": 13,
    "start_time": "2024-07-31T08:55:52.489Z"
   },
   {
    "duration": 4,
    "start_time": "2024-07-31T08:55:58.385Z"
   },
   {
    "duration": 12,
    "start_time": "2024-07-31T08:56:23.204Z"
   },
   {
    "duration": 12,
    "start_time": "2024-07-31T08:56:25.416Z"
   },
   {
    "duration": 8,
    "start_time": "2024-07-31T08:56:27.978Z"
   },
   {
    "duration": 4,
    "start_time": "2024-07-31T08:57:11.032Z"
   },
   {
    "duration": 3,
    "start_time": "2024-07-31T08:57:24.497Z"
   },
   {
    "duration": 16,
    "start_time": "2024-07-31T08:57:26.961Z"
   },
   {
    "duration": 9,
    "start_time": "2024-07-31T08:58:16.238Z"
   },
   {
    "duration": 17,
    "start_time": "2024-07-31T08:58:18.076Z"
   },
   {
    "duration": 4,
    "start_time": "2024-07-31T08:59:02.745Z"
   },
   {
    "duration": 4,
    "start_time": "2024-07-31T08:59:03.608Z"
   },
   {
    "duration": 3,
    "start_time": "2024-07-31T08:59:03.936Z"
   },
   {
    "duration": 3,
    "start_time": "2024-07-31T08:59:04.288Z"
   },
   {
    "duration": 4,
    "start_time": "2024-07-31T08:59:04.577Z"
   },
   {
    "duration": 3,
    "start_time": "2024-07-31T08:59:05.384Z"
   },
   {
    "duration": 20014,
    "start_time": "2024-07-31T08:59:05.758Z"
   },
   {
    "duration": 4,
    "start_time": "2024-07-31T08:59:25.774Z"
   },
   {
    "duration": 4,
    "start_time": "2024-07-31T08:59:32.097Z"
   },
   {
    "duration": 5,
    "start_time": "2024-07-31T08:59:33.357Z"
   },
   {
    "duration": 2,
    "start_time": "2024-07-31T08:59:35.337Z"
   },
   {
    "duration": 14,
    "start_time": "2024-07-31T08:59:36.417Z"
   },
   {
    "duration": 15,
    "start_time": "2024-07-31T08:59:37.852Z"
   },
   {
    "duration": 8,
    "start_time": "2024-07-31T09:00:15.437Z"
   },
   {
    "duration": 5,
    "start_time": "2024-07-31T09:00:19.593Z"
   },
   {
    "duration": 11,
    "start_time": "2024-07-31T09:00:20.517Z"
   },
   {
    "duration": 11,
    "start_time": "2024-07-31T09:00:40.948Z"
   },
   {
    "duration": 10,
    "start_time": "2024-07-31T09:01:40.729Z"
   },
   {
    "duration": 14,
    "start_time": "2024-07-31T09:02:28.776Z"
   },
   {
    "duration": 11,
    "start_time": "2024-07-31T09:02:36.157Z"
   },
   {
    "duration": 16,
    "start_time": "2024-07-31T09:03:14.586Z"
   },
   {
    "duration": 11,
    "start_time": "2024-07-31T09:04:05.581Z"
   },
   {
    "duration": 5,
    "start_time": "2024-07-31T09:08:03.618Z"
   },
   {
    "duration": 3,
    "start_time": "2024-07-31T09:08:08.438Z"
   },
   {
    "duration": 25577,
    "start_time": "2024-07-31T09:08:08.868Z"
   },
   {
    "duration": 3,
    "start_time": "2024-07-31T09:08:39.153Z"
   },
   {
    "duration": 5,
    "start_time": "2024-07-31T09:08:41.301Z"
   },
   {
    "duration": 9,
    "start_time": "2024-07-31T09:08:43.018Z"
   },
   {
    "duration": 10,
    "start_time": "2024-07-31T09:08:43.844Z"
   },
   {
    "duration": 8,
    "start_time": "2024-07-31T09:08:44.660Z"
   },
   {
    "duration": 5,
    "start_time": "2024-07-31T09:08:45.145Z"
   },
   {
    "duration": 9,
    "start_time": "2024-07-31T09:08:47.705Z"
   },
   {
    "duration": 65565,
    "start_time": "2024-07-31T09:08:53.200Z"
   },
   {
    "duration": 4,
    "start_time": "2024-07-31T09:10:15.793Z"
   },
   {
    "duration": 3,
    "start_time": "2024-07-31T09:10:16.373Z"
   },
   {
    "duration": 11571,
    "start_time": "2024-07-31T09:10:17.149Z"
   },
   {
    "duration": 8,
    "start_time": "2024-07-31T09:10:31.117Z"
   },
   {
    "duration": 4,
    "start_time": "2024-07-31T09:10:31.952Z"
   },
   {
    "duration": 3,
    "start_time": "2024-07-31T09:10:35.618Z"
   },
   {
    "duration": 8,
    "start_time": "2024-07-31T09:10:36.285Z"
   },
   {
    "duration": 3,
    "start_time": "2024-07-31T09:10:36.890Z"
   },
   {
    "duration": 4,
    "start_time": "2024-07-31T09:10:37.381Z"
   },
   {
    "duration": 12,
    "start_time": "2024-07-31T09:10:38.508Z"
   },
   {
    "duration": 109,
    "start_time": "2024-07-31T09:10:47.654Z"
   },
   {
    "duration": 12,
    "start_time": "2024-07-31T09:10:52.573Z"
   },
   {
    "duration": 158,
    "start_time": "2024-07-31T09:11:08.760Z"
   },
   {
    "duration": 1488,
    "start_time": "2024-07-31T13:59:18.886Z"
   },
   {
    "duration": 0,
    "start_time": "2024-07-31T13:59:20.377Z"
   },
   {
    "duration": 0,
    "start_time": "2024-07-31T13:59:20.379Z"
   },
   {
    "duration": 0,
    "start_time": "2024-07-31T13:59:20.380Z"
   },
   {
    "duration": 0,
    "start_time": "2024-07-31T13:59:20.381Z"
   },
   {
    "duration": 0,
    "start_time": "2024-07-31T13:59:20.382Z"
   },
   {
    "duration": 0,
    "start_time": "2024-07-31T13:59:20.384Z"
   },
   {
    "duration": 0,
    "start_time": "2024-07-31T13:59:20.384Z"
   },
   {
    "duration": 0,
    "start_time": "2024-07-31T13:59:20.385Z"
   },
   {
    "duration": 0,
    "start_time": "2024-07-31T13:59:20.386Z"
   },
   {
    "duration": 0,
    "start_time": "2024-07-31T13:59:20.387Z"
   },
   {
    "duration": 0,
    "start_time": "2024-07-31T13:59:20.389Z"
   },
   {
    "duration": 0,
    "start_time": "2024-07-31T13:59:20.390Z"
   },
   {
    "duration": 0,
    "start_time": "2024-07-31T13:59:20.391Z"
   },
   {
    "duration": 0,
    "start_time": "2024-07-31T13:59:20.393Z"
   },
   {
    "duration": 0,
    "start_time": "2024-07-31T13:59:20.394Z"
   },
   {
    "duration": 0,
    "start_time": "2024-07-31T13:59:20.395Z"
   },
   {
    "duration": 0,
    "start_time": "2024-07-31T13:59:20.424Z"
   },
   {
    "duration": 0,
    "start_time": "2024-07-31T13:59:20.427Z"
   },
   {
    "duration": 0,
    "start_time": "2024-07-31T13:59:20.428Z"
   },
   {
    "duration": 0,
    "start_time": "2024-07-31T13:59:20.431Z"
   },
   {
    "duration": 0,
    "start_time": "2024-07-31T13:59:20.432Z"
   },
   {
    "duration": 0,
    "start_time": "2024-07-31T13:59:20.433Z"
   },
   {
    "duration": 0,
    "start_time": "2024-07-31T13:59:20.434Z"
   },
   {
    "duration": 0,
    "start_time": "2024-07-31T13:59:20.435Z"
   },
   {
    "duration": 0,
    "start_time": "2024-07-31T13:59:20.437Z"
   },
   {
    "duration": 0,
    "start_time": "2024-07-31T13:59:20.438Z"
   },
   {
    "duration": 0,
    "start_time": "2024-07-31T13:59:20.439Z"
   },
   {
    "duration": 0,
    "start_time": "2024-07-31T13:59:20.440Z"
   },
   {
    "duration": 0,
    "start_time": "2024-07-31T13:59:20.441Z"
   },
   {
    "duration": 0,
    "start_time": "2024-07-31T13:59:20.442Z"
   },
   {
    "duration": 0,
    "start_time": "2024-07-31T13:59:20.443Z"
   },
   {
    "duration": 0,
    "start_time": "2024-07-31T13:59:20.444Z"
   },
   {
    "duration": 0,
    "start_time": "2024-07-31T13:59:20.445Z"
   },
   {
    "duration": 0,
    "start_time": "2024-07-31T13:59:20.446Z"
   },
   {
    "duration": 0,
    "start_time": "2024-07-31T13:59:20.447Z"
   },
   {
    "duration": 0,
    "start_time": "2024-07-31T13:59:20.448Z"
   },
   {
    "duration": 0,
    "start_time": "2024-07-31T13:59:20.449Z"
   },
   {
    "duration": 0,
    "start_time": "2024-07-31T13:59:20.451Z"
   },
   {
    "duration": 0,
    "start_time": "2024-07-31T13:59:20.452Z"
   },
   {
    "duration": 0,
    "start_time": "2024-07-31T13:59:20.453Z"
   },
   {
    "duration": 0,
    "start_time": "2024-07-31T13:59:20.454Z"
   },
   {
    "duration": 0,
    "start_time": "2024-07-31T13:59:20.455Z"
   },
   {
    "duration": 0,
    "start_time": "2024-07-31T13:59:20.456Z"
   },
   {
    "duration": 0,
    "start_time": "2024-07-31T13:59:20.457Z"
   },
   {
    "duration": 0,
    "start_time": "2024-07-31T13:59:20.458Z"
   },
   {
    "duration": 0,
    "start_time": "2024-07-31T13:59:20.459Z"
   },
   {
    "duration": 0,
    "start_time": "2024-07-31T13:59:20.524Z"
   },
   {
    "duration": 0,
    "start_time": "2024-07-31T13:59:20.525Z"
   },
   {
    "duration": 0,
    "start_time": "2024-07-31T13:59:20.526Z"
   },
   {
    "duration": 0,
    "start_time": "2024-07-31T13:59:20.527Z"
   },
   {
    "duration": 0,
    "start_time": "2024-07-31T13:59:20.528Z"
   },
   {
    "duration": 3577,
    "start_time": "2024-07-31T13:59:31.600Z"
   },
   {
    "duration": 4115,
    "start_time": "2024-07-31T13:59:36.159Z"
   },
   {
    "duration": 800,
    "start_time": "2024-07-31T13:59:40.276Z"
   },
   {
    "duration": 13995,
    "start_time": "2024-07-31T13:59:45.968Z"
   },
   {
    "duration": 390,
    "start_time": "2024-07-31T14:00:22.182Z"
   },
   {
    "duration": 19,
    "start_time": "2024-07-31T14:00:22.574Z"
   },
   {
    "duration": 8,
    "start_time": "2024-07-31T14:00:22.624Z"
   },
   {
    "duration": 7,
    "start_time": "2024-07-31T14:00:22.850Z"
   },
   {
    "duration": 7,
    "start_time": "2024-07-31T14:00:23.148Z"
   },
   {
    "duration": 3,
    "start_time": "2024-07-31T14:00:23.603Z"
   },
   {
    "duration": 32,
    "start_time": "2024-07-31T14:00:23.802Z"
   },
   {
    "duration": 3,
    "start_time": "2024-07-31T14:00:24.262Z"
   },
   {
    "duration": 5,
    "start_time": "2024-07-31T14:00:24.455Z"
   },
   {
    "duration": 11,
    "start_time": "2024-07-31T14:00:24.868Z"
   },
   {
    "duration": 12,
    "start_time": "2024-07-31T14:00:25.068Z"
   },
   {
    "duration": 4,
    "start_time": "2024-07-31T14:00:25.511Z"
   },
   {
    "duration": 3,
    "start_time": "2024-07-31T14:00:25.774Z"
   },
   {
    "duration": 50,
    "start_time": "2024-07-31T14:00:26.258Z"
   },
   {
    "duration": 5,
    "start_time": "2024-07-31T14:00:27.210Z"
   },
   {
    "duration": 3,
    "start_time": "2024-07-31T14:00:27.562Z"
   },
   {
    "duration": 12,
    "start_time": "2024-07-31T14:00:27.803Z"
   },
   {
    "duration": 3825,
    "start_time": "2024-07-31T14:00:28.051Z"
   },
   {
    "duration": 508,
    "start_time": "2024-07-31T14:00:31.878Z"
   },
   {
    "duration": 892,
    "start_time": "2024-07-31T14:00:32.387Z"
   },
   {
    "duration": 8,
    "start_time": "2024-07-31T14:00:33.282Z"
   },
   {
    "duration": 802,
    "start_time": "2024-07-31T14:00:33.291Z"
   },
   {
    "duration": 793,
    "start_time": "2024-07-31T14:00:34.095Z"
   },
   {
    "duration": 768,
    "start_time": "2024-07-31T14:00:34.890Z"
   },
   {
    "duration": 69,
    "start_time": "2024-07-31T14:00:35.660Z"
   },
   {
    "duration": 17,
    "start_time": "2024-07-31T14:00:35.730Z"
   },
   {
    "duration": 9,
    "start_time": "2024-07-31T14:00:35.749Z"
   },
   {
    "duration": 1425,
    "start_time": "2024-07-31T14:00:35.759Z"
   },
   {
    "duration": 3226,
    "start_time": "2024-07-31T14:00:37.186Z"
   },
   {
    "duration": 11,
    "start_time": "2024-07-31T14:00:40.414Z"
   },
   {
    "duration": 8,
    "start_time": "2024-07-31T14:00:40.426Z"
   },
   {
    "duration": 8,
    "start_time": "2024-07-31T14:00:40.436Z"
   },
   {
    "duration": 5,
    "start_time": "2024-07-31T14:00:40.445Z"
   },
   {
    "duration": 6,
    "start_time": "2024-07-31T14:00:40.451Z"
   },
   {
    "duration": 4,
    "start_time": "2024-07-31T14:00:40.458Z"
   },
   {
    "duration": 18,
    "start_time": "2024-07-31T14:00:40.463Z"
   },
   {
    "duration": 4,
    "start_time": "2024-07-31T14:00:40.483Z"
   },
   {
    "duration": 2254,
    "start_time": "2024-07-31T14:00:40.534Z"
   },
   {
    "duration": 0,
    "start_time": "2024-07-31T14:00:42.790Z"
   },
   {
    "duration": 0,
    "start_time": "2024-07-31T14:00:42.791Z"
   },
   {
    "duration": 0,
    "start_time": "2024-07-31T14:00:42.792Z"
   },
   {
    "duration": 0,
    "start_time": "2024-07-31T14:00:42.793Z"
   },
   {
    "duration": 0,
    "start_time": "2024-07-31T14:00:42.794Z"
   },
   {
    "duration": 0,
    "start_time": "2024-07-31T14:00:42.795Z"
   },
   {
    "duration": 0,
    "start_time": "2024-07-31T14:00:42.795Z"
   },
   {
    "duration": 9,
    "start_time": "2024-07-31T14:00:43.684Z"
   },
   {
    "duration": 10301,
    "start_time": "2024-07-31T14:00:58.610Z"
   },
   {
    "duration": 6,
    "start_time": "2024-07-31T14:01:22.845Z"
   },
   {
    "duration": 2188,
    "start_time": "2024-07-31T14:01:35.422Z"
   },
   {
    "duration": 4147,
    "start_time": "2024-07-31T14:01:49.987Z"
   },
   {
    "duration": 5,
    "start_time": "2024-07-31T14:02:04.075Z"
   },
   {
    "duration": 2102,
    "start_time": "2024-07-31T14:02:17.095Z"
   },
   {
    "duration": 3103,
    "start_time": "2024-07-31T14:02:34.881Z"
   },
   {
    "duration": 1522,
    "start_time": "2024-07-31T14:02:47.263Z"
   },
   {
    "duration": 0,
    "start_time": "2024-07-31T14:02:48.788Z"
   },
   {
    "duration": 0,
    "start_time": "2024-07-31T14:02:48.790Z"
   },
   {
    "duration": 0,
    "start_time": "2024-07-31T14:02:48.791Z"
   },
   {
    "duration": 0,
    "start_time": "2024-07-31T14:02:48.792Z"
   },
   {
    "duration": 0,
    "start_time": "2024-07-31T14:02:48.793Z"
   },
   {
    "duration": 0,
    "start_time": "2024-07-31T14:02:48.794Z"
   },
   {
    "duration": 0,
    "start_time": "2024-07-31T14:02:48.795Z"
   },
   {
    "duration": 0,
    "start_time": "2024-07-31T14:02:48.796Z"
   },
   {
    "duration": 0,
    "start_time": "2024-07-31T14:02:48.797Z"
   },
   {
    "duration": 0,
    "start_time": "2024-07-31T14:02:48.798Z"
   },
   {
    "duration": 0,
    "start_time": "2024-07-31T14:02:48.800Z"
   },
   {
    "duration": 0,
    "start_time": "2024-07-31T14:02:48.801Z"
   },
   {
    "duration": 0,
    "start_time": "2024-07-31T14:02:48.802Z"
   },
   {
    "duration": 0,
    "start_time": "2024-07-31T14:02:48.803Z"
   },
   {
    "duration": 0,
    "start_time": "2024-07-31T14:02:48.824Z"
   },
   {
    "duration": 0,
    "start_time": "2024-07-31T14:02:48.825Z"
   },
   {
    "duration": 0,
    "start_time": "2024-07-31T14:02:48.826Z"
   },
   {
    "duration": 0,
    "start_time": "2024-07-31T14:02:48.827Z"
   },
   {
    "duration": 0,
    "start_time": "2024-07-31T14:02:48.829Z"
   },
   {
    "duration": 0,
    "start_time": "2024-07-31T14:02:48.830Z"
   },
   {
    "duration": 0,
    "start_time": "2024-07-31T14:02:48.831Z"
   },
   {
    "duration": 0,
    "start_time": "2024-07-31T14:02:48.832Z"
   },
   {
    "duration": 0,
    "start_time": "2024-07-31T14:02:48.833Z"
   },
   {
    "duration": 0,
    "start_time": "2024-07-31T14:02:48.835Z"
   },
   {
    "duration": 0,
    "start_time": "2024-07-31T14:02:48.836Z"
   },
   {
    "duration": 0,
    "start_time": "2024-07-31T14:02:48.837Z"
   },
   {
    "duration": 0,
    "start_time": "2024-07-31T14:02:48.838Z"
   },
   {
    "duration": 0,
    "start_time": "2024-07-31T14:02:48.840Z"
   },
   {
    "duration": 0,
    "start_time": "2024-07-31T14:02:48.841Z"
   },
   {
    "duration": 0,
    "start_time": "2024-07-31T14:02:48.842Z"
   },
   {
    "duration": 0,
    "start_time": "2024-07-31T14:02:48.843Z"
   },
   {
    "duration": 0,
    "start_time": "2024-07-31T14:02:48.845Z"
   },
   {
    "duration": 0,
    "start_time": "2024-07-31T14:02:48.846Z"
   },
   {
    "duration": 0,
    "start_time": "2024-07-31T14:02:48.847Z"
   },
   {
    "duration": 0,
    "start_time": "2024-07-31T14:02:48.849Z"
   },
   {
    "duration": 0,
    "start_time": "2024-07-31T14:02:48.850Z"
   },
   {
    "duration": 0,
    "start_time": "2024-07-31T14:02:48.852Z"
   },
   {
    "duration": 0,
    "start_time": "2024-07-31T14:02:48.853Z"
   },
   {
    "duration": 0,
    "start_time": "2024-07-31T14:02:48.854Z"
   },
   {
    "duration": 0,
    "start_time": "2024-07-31T14:02:48.855Z"
   },
   {
    "duration": 0,
    "start_time": "2024-07-31T14:02:48.857Z"
   },
   {
    "duration": 0,
    "start_time": "2024-07-31T14:02:48.858Z"
   },
   {
    "duration": 0,
    "start_time": "2024-07-31T14:02:48.859Z"
   },
   {
    "duration": 0,
    "start_time": "2024-07-31T14:02:48.860Z"
   },
   {
    "duration": 0,
    "start_time": "2024-07-31T14:02:48.861Z"
   },
   {
    "duration": 0,
    "start_time": "2024-07-31T14:02:48.924Z"
   },
   {
    "duration": 0,
    "start_time": "2024-07-31T14:02:48.926Z"
   },
   {
    "duration": 0,
    "start_time": "2024-07-31T14:02:48.927Z"
   },
   {
    "duration": 0,
    "start_time": "2024-07-31T14:02:48.928Z"
   },
   {
    "duration": 0,
    "start_time": "2024-07-31T14:02:48.929Z"
   },
   {
    "duration": 0,
    "start_time": "2024-07-31T14:02:48.930Z"
   },
   {
    "duration": 16,
    "start_time": "2024-07-31T14:05:39.721Z"
   },
   {
    "duration": 3659,
    "start_time": "2024-07-31T14:13:59.376Z"
   },
   {
    "duration": 19,
    "start_time": "2024-07-31T14:14:06.792Z"
   },
   {
    "duration": 57,
    "start_time": "2024-07-31T14:14:22.321Z"
   },
   {
    "duration": 52,
    "start_time": "2024-07-31T14:14:32.213Z"
   },
   {
    "duration": 10612,
    "start_time": "2024-07-31T14:16:47.077Z"
   },
   {
    "duration": 22,
    "start_time": "2024-07-31T14:16:57.921Z"
   },
   {
    "duration": 14,
    "start_time": "2024-07-31T14:16:59.171Z"
   },
   {
    "duration": 27,
    "start_time": "2024-07-31T14:29:33.842Z"
   },
   {
    "duration": 12792,
    "start_time": "2024-07-31T14:34:27.791Z"
   },
   {
    "duration": 20,
    "start_time": "2024-07-31T14:34:53.322Z"
   },
   {
    "duration": 1315,
    "start_time": "2024-07-31T14:36:05.763Z"
   },
   {
    "duration": 2153,
    "start_time": "2024-07-31T14:48:03.884Z"
   },
   {
    "duration": 90,
    "start_time": "2024-07-31T14:48:28.327Z"
   },
   {
    "duration": 20,
    "start_time": "2024-07-31T14:48:28.498Z"
   },
   {
    "duration": 9,
    "start_time": "2024-07-31T14:48:28.696Z"
   },
   {
    "duration": 8,
    "start_time": "2024-07-31T14:48:28.906Z"
   },
   {
    "duration": 7,
    "start_time": "2024-07-31T14:48:29.078Z"
   },
   {
    "duration": 2,
    "start_time": "2024-07-31T14:48:29.479Z"
   },
   {
    "duration": 33,
    "start_time": "2024-07-31T14:48:29.668Z"
   },
   {
    "duration": 3,
    "start_time": "2024-07-31T14:48:30.050Z"
   },
   {
    "duration": 6,
    "start_time": "2024-07-31T14:48:30.250Z"
   },
   {
    "duration": 12,
    "start_time": "2024-07-31T14:48:30.657Z"
   },
   {
    "duration": 12,
    "start_time": "2024-07-31T14:48:30.832Z"
   },
   {
    "duration": 4,
    "start_time": "2024-07-31T14:48:31.199Z"
   },
   {
    "duration": 4,
    "start_time": "2024-07-31T14:48:31.388Z"
   },
   {
    "duration": 54,
    "start_time": "2024-07-31T14:48:31.750Z"
   },
   {
    "duration": 4,
    "start_time": "2024-07-31T14:48:32.291Z"
   },
   {
    "duration": 4,
    "start_time": "2024-07-31T14:48:32.454Z"
   },
   {
    "duration": 14,
    "start_time": "2024-07-31T14:48:32.628Z"
   },
   {
    "duration": 4756,
    "start_time": "2024-07-31T14:48:32.841Z"
   },
   {
    "duration": 937,
    "start_time": "2024-07-31T14:48:37.600Z"
   },
   {
    "duration": 1197,
    "start_time": "2024-07-31T14:48:38.539Z"
   },
   {
    "duration": 8,
    "start_time": "2024-07-31T14:48:39.738Z"
   },
   {
    "duration": 1140,
    "start_time": "2024-07-31T14:48:39.747Z"
   },
   {
    "duration": 1094,
    "start_time": "2024-07-31T14:48:40.889Z"
   },
   {
    "duration": 1010,
    "start_time": "2024-07-31T14:48:41.985Z"
   },
   {
    "duration": 77,
    "start_time": "2024-07-31T14:48:42.997Z"
   },
   {
    "duration": 21,
    "start_time": "2024-07-31T14:48:43.076Z"
   },
   {
    "duration": 25,
    "start_time": "2024-07-31T14:48:43.100Z"
   },
   {
    "duration": 866,
    "start_time": "2024-07-31T14:48:43.126Z"
   },
   {
    "duration": 2087,
    "start_time": "2024-07-31T14:48:43.994Z"
   },
   {
    "duration": 8,
    "start_time": "2024-07-31T14:48:46.083Z"
   },
   {
    "duration": 13,
    "start_time": "2024-07-31T14:48:46.093Z"
   },
   {
    "duration": 19,
    "start_time": "2024-07-31T14:48:46.108Z"
   },
   {
    "duration": 8,
    "start_time": "2024-07-31T14:48:46.129Z"
   },
   {
    "duration": 3,
    "start_time": "2024-07-31T14:48:46.138Z"
   },
   {
    "duration": 7,
    "start_time": "2024-07-31T14:48:46.143Z"
   },
   {
    "duration": 5,
    "start_time": "2024-07-31T14:48:46.151Z"
   },
   {
    "duration": 7,
    "start_time": "2024-07-31T14:48:46.158Z"
   },
   {
    "duration": 14118,
    "start_time": "2024-07-31T14:48:46.166Z"
   },
   {
    "duration": 5,
    "start_time": "2024-07-31T14:49:02.942Z"
   },
   {
    "duration": 3,
    "start_time": "2024-07-31T14:49:03.325Z"
   },
   {
    "duration": 3,
    "start_time": "2024-07-31T14:49:04.227Z"
   },
   {
    "duration": 10,
    "start_time": "2024-07-31T14:49:04.648Z"
   },
   {
    "duration": 3,
    "start_time": "2024-07-31T14:49:05.100Z"
   },
   {
    "duration": 5,
    "start_time": "2024-07-31T14:49:05.728Z"
   },
   {
    "duration": 9,
    "start_time": "2024-07-31T14:49:06.759Z"
   },
   {
    "duration": 380,
    "start_time": "2024-07-31T14:49:08.513Z"
   },
   {
    "duration": 5,
    "start_time": "2024-07-31T14:54:04.452Z"
   },
   {
    "duration": 167,
    "start_time": "2024-07-31T14:54:56.862Z"
   },
   {
    "duration": 18,
    "start_time": "2024-07-31T14:55:15.176Z"
   },
   {
    "duration": 15,
    "start_time": "2024-07-31T14:55:48.853Z"
   },
   {
    "duration": 4,
    "start_time": "2024-07-31T14:56:31.005Z"
   },
   {
    "duration": 19,
    "start_time": "2024-07-31T14:56:32.595Z"
   },
   {
    "duration": 21,
    "start_time": "2024-07-31T14:58:50.505Z"
   },
   {
    "duration": 29,
    "start_time": "2024-07-31T14:59:31.737Z"
   },
   {
    "duration": 21,
    "start_time": "2024-07-31T15:02:45.280Z"
   },
   {
    "duration": 23,
    "start_time": "2024-07-31T15:03:48.782Z"
   },
   {
    "duration": 34,
    "start_time": "2024-07-31T15:04:01.376Z"
   },
   {
    "duration": 3,
    "start_time": "2024-07-31T15:04:16.965Z"
   },
   {
    "duration": 17,
    "start_time": "2024-07-31T15:04:25.985Z"
   },
   {
    "duration": 9,
    "start_time": "2024-07-31T15:07:02.493Z"
   },
   {
    "duration": 6,
    "start_time": "2024-07-31T15:07:09.836Z"
   },
   {
    "duration": 10,
    "start_time": "2024-07-31T15:07:16.610Z"
   },
   {
    "duration": 7,
    "start_time": "2024-07-31T15:07:22.781Z"
   },
   {
    "duration": 11,
    "start_time": "2024-07-31T15:08:55.498Z"
   },
   {
    "duration": 11,
    "start_time": "2024-07-31T15:09:21.090Z"
   },
   {
    "duration": 10,
    "start_time": "2024-07-31T15:09:33.009Z"
   },
   {
    "duration": 10,
    "start_time": "2024-07-31T15:09:36.202Z"
   },
   {
    "duration": 56,
    "start_time": "2024-07-31T15:09:40.278Z"
   },
   {
    "duration": 14,
    "start_time": "2024-07-31T15:09:47.096Z"
   },
   {
    "duration": 21,
    "start_time": "2024-07-31T15:10:23.301Z"
   },
   {
    "duration": 10,
    "start_time": "2024-07-31T15:10:33.230Z"
   },
   {
    "duration": 5,
    "start_time": "2024-07-31T15:10:37.585Z"
   },
   {
    "duration": 3,
    "start_time": "2024-07-31T15:11:00.877Z"
   },
   {
    "duration": 410,
    "start_time": "2024-07-31T15:11:37.046Z"
   },
   {
    "duration": 446,
    "start_time": "2024-07-31T15:11:50.553Z"
   },
   {
    "duration": 3,
    "start_time": "2024-07-31T15:11:56.169Z"
   },
   {
    "duration": 424,
    "start_time": "2024-07-31T15:11:57.302Z"
   },
   {
    "duration": 5,
    "start_time": "2024-07-31T15:13:35.197Z"
   },
   {
    "duration": 4,
    "start_time": "2024-07-31T15:34:32.318Z"
   },
   {
    "duration": 12,
    "start_time": "2024-07-31T15:36:05.747Z"
   },
   {
    "duration": 6,
    "start_time": "2024-07-31T15:36:47.983Z"
   },
   {
    "duration": 24,
    "start_time": "2024-07-31T15:36:56.595Z"
   },
   {
    "duration": 70,
    "start_time": "2024-07-31T15:37:40.010Z"
   },
   {
    "duration": 57,
    "start_time": "2024-07-31T15:37:56.896Z"
   },
   {
    "duration": 55,
    "start_time": "2024-07-31T15:38:19.002Z"
   },
   {
    "duration": 56,
    "start_time": "2024-07-31T15:38:25.501Z"
   },
   {
    "duration": 55,
    "start_time": "2024-07-31T15:39:15.555Z"
   },
   {
    "duration": 50,
    "start_time": "2024-07-31T15:39:17.895Z"
   },
   {
    "duration": 2,
    "start_time": "2024-07-31T15:39:33.709Z"
   },
   {
    "duration": 12,
    "start_time": "2024-07-31T15:39:46.095Z"
   },
   {
    "duration": 67,
    "start_time": "2024-07-31T15:39:53.603Z"
   },
   {
    "duration": 12,
    "start_time": "2024-07-31T15:40:14.895Z"
   },
   {
    "duration": 8,
    "start_time": "2024-07-31T15:40:16.509Z"
   },
   {
    "duration": 11,
    "start_time": "2024-07-31T15:40:32.668Z"
   },
   {
    "duration": 12,
    "start_time": "2024-07-31T15:40:35.259Z"
   },
   {
    "duration": 4,
    "start_time": "2024-07-31T15:45:05.865Z"
   },
   {
    "duration": 5,
    "start_time": "2024-07-31T15:45:11.341Z"
   },
   {
    "duration": 3,
    "start_time": "2024-07-31T15:45:32.589Z"
   },
   {
    "duration": 34,
    "start_time": "2024-07-31T15:46:06.499Z"
   },
   {
    "duration": 3,
    "start_time": "2024-07-31T15:46:38.927Z"
   },
   {
    "duration": 8,
    "start_time": "2024-07-31T15:46:40.785Z"
   },
   {
    "duration": 27,
    "start_time": "2024-07-31T15:46:49.069Z"
   },
   {
    "duration": 5,
    "start_time": "2024-07-31T15:52:42.117Z"
   },
   {
    "duration": 33,
    "start_time": "2024-07-31T15:53:03.545Z"
   },
   {
    "duration": 32,
    "start_time": "2024-07-31T15:53:19.122Z"
   },
   {
    "duration": 40,
    "start_time": "2024-07-31T15:53:33.339Z"
   },
   {
    "duration": 40,
    "start_time": "2024-07-31T15:54:37.293Z"
   },
   {
    "duration": 6,
    "start_time": "2024-07-31T15:55:25.926Z"
   },
   {
    "duration": 52,
    "start_time": "2024-07-31T15:55:35.271Z"
   },
   {
    "duration": 5,
    "start_time": "2024-07-31T15:56:30.599Z"
   },
   {
    "duration": 5,
    "start_time": "2024-07-31T15:56:47.100Z"
   },
   {
    "duration": 9314,
    "start_time": "2024-07-31T15:57:05.081Z"
   },
   {
    "duration": 961,
    "start_time": "2024-07-31T16:01:27.234Z"
   },
   {
    "duration": 26,
    "start_time": "2024-07-31T16:05:38.623Z"
   },
   {
    "duration": 7,
    "start_time": "2024-07-31T16:05:49.590Z"
   },
   {
    "duration": 49,
    "start_time": "2024-07-31T16:06:01.142Z"
   },
   {
    "duration": 5,
    "start_time": "2024-07-31T16:06:21.354Z"
   },
   {
    "duration": 49,
    "start_time": "2024-07-31T16:06:22.937Z"
   },
   {
    "duration": 8806,
    "start_time": "2024-07-31T16:06:58.136Z"
   },
   {
    "duration": 8973,
    "start_time": "2024-07-31T16:07:45.609Z"
   },
   {
    "duration": 927,
    "start_time": "2024-07-31T16:10:09.261Z"
   },
   {
    "duration": 6,
    "start_time": "2024-07-31T16:17:48.890Z"
   },
   {
    "duration": 5,
    "start_time": "2024-07-31T16:17:54.148Z"
   },
   {
    "duration": 11,
    "start_time": "2024-07-31T16:18:25.963Z"
   },
   {
    "duration": 35,
    "start_time": "2024-07-31T16:18:32.292Z"
   },
   {
    "duration": 6,
    "start_time": "2024-07-31T16:18:44.823Z"
   },
   {
    "duration": 54,
    "start_time": "2024-07-31T16:18:53.792Z"
   },
   {
    "duration": 9440,
    "start_time": "2024-07-31T16:19:45.450Z"
   },
   {
    "duration": 9424,
    "start_time": "2024-07-31T16:19:57.766Z"
   },
   {
    "duration": 4,
    "start_time": "2024-07-31T16:21:47.264Z"
   },
   {
    "duration": 11,
    "start_time": "2024-07-31T16:22:06.920Z"
   },
   {
    "duration": 1164,
    "start_time": "2024-07-31T16:22:14.742Z"
   },
   {
    "duration": 2126,
    "start_time": "2024-07-31T17:19:30.698Z"
   },
   {
    "duration": 88,
    "start_time": "2024-07-31T17:19:32.826Z"
   },
   {
    "duration": 20,
    "start_time": "2024-07-31T17:19:32.916Z"
   },
   {
    "duration": 8,
    "start_time": "2024-07-31T17:19:32.938Z"
   },
   {
    "duration": 15,
    "start_time": "2024-07-31T17:19:32.949Z"
   },
   {
    "duration": 7,
    "start_time": "2024-07-31T17:19:32.966Z"
   },
   {
    "duration": 3,
    "start_time": "2024-07-31T17:19:32.974Z"
   },
   {
    "duration": 54,
    "start_time": "2024-07-31T17:19:32.979Z"
   },
   {
    "duration": 3,
    "start_time": "2024-07-31T17:19:33.035Z"
   },
   {
    "duration": 9,
    "start_time": "2024-07-31T17:19:33.040Z"
   },
   {
    "duration": 14,
    "start_time": "2024-07-31T17:19:33.051Z"
   },
   {
    "duration": 12,
    "start_time": "2024-07-31T17:19:33.066Z"
   },
   {
    "duration": 4,
    "start_time": "2024-07-31T17:19:33.080Z"
   },
   {
    "duration": 37,
    "start_time": "2024-07-31T17:19:33.087Z"
   },
   {
    "duration": 59,
    "start_time": "2024-07-31T17:19:33.126Z"
   },
   {
    "duration": 4,
    "start_time": "2024-07-31T17:19:33.187Z"
   },
   {
    "duration": 5,
    "start_time": "2024-07-31T17:19:33.192Z"
   },
   {
    "duration": 32,
    "start_time": "2024-07-31T17:19:33.199Z"
   },
   {
    "duration": 4748,
    "start_time": "2024-07-31T17:19:33.233Z"
   },
   {
    "duration": 929,
    "start_time": "2024-07-31T17:19:37.983Z"
   },
   {
    "duration": 1163,
    "start_time": "2024-07-31T17:19:38.913Z"
   },
   {
    "duration": 6,
    "start_time": "2024-07-31T17:19:40.078Z"
   },
   {
    "duration": 1118,
    "start_time": "2024-07-31T17:19:40.086Z"
   },
   {
    "duration": 1076,
    "start_time": "2024-07-31T17:19:41.206Z"
   },
   {
    "duration": 992,
    "start_time": "2024-07-31T17:19:42.283Z"
   },
   {
    "duration": 75,
    "start_time": "2024-07-31T17:19:43.277Z"
   },
   {
    "duration": 16,
    "start_time": "2024-07-31T17:19:43.353Z"
   },
   {
    "duration": 11,
    "start_time": "2024-07-31T17:19:43.370Z"
   },
   {
    "duration": 918,
    "start_time": "2024-07-31T17:19:43.383Z"
   },
   {
    "duration": 2149,
    "start_time": "2024-07-31T17:19:44.303Z"
   },
   {
    "duration": 11,
    "start_time": "2024-07-31T17:19:46.454Z"
   },
   {
    "duration": 8,
    "start_time": "2024-07-31T17:19:46.467Z"
   },
   {
    "duration": 8,
    "start_time": "2024-07-31T17:19:46.476Z"
   },
   {
    "duration": 4,
    "start_time": "2024-07-31T17:19:46.485Z"
   },
   {
    "duration": 4,
    "start_time": "2024-07-31T17:19:46.490Z"
   },
   {
    "duration": 3,
    "start_time": "2024-07-31T17:19:46.524Z"
   },
   {
    "duration": 8,
    "start_time": "2024-07-31T17:19:46.528Z"
   },
   {
    "duration": 5,
    "start_time": "2024-07-31T17:19:46.537Z"
   },
   {
    "duration": 14128,
    "start_time": "2024-07-31T17:19:46.543Z"
   },
   {
    "duration": 5,
    "start_time": "2024-07-31T17:20:00.672Z"
   },
   {
    "duration": 96,
    "start_time": "2024-07-31T17:20:00.682Z"
   },
   {
    "duration": 30,
    "start_time": "2024-07-31T17:20:00.780Z"
   },
   {
    "duration": 47,
    "start_time": "2024-07-31T17:20:00.812Z"
   },
   {
    "duration": 32,
    "start_time": "2024-07-31T17:20:00.860Z"
   },
   {
    "duration": 29,
    "start_time": "2024-07-31T17:20:00.894Z"
   },
   {
    "duration": 42,
    "start_time": "2024-07-31T17:20:00.924Z"
   },
   {
    "duration": 45,
    "start_time": "2024-07-31T17:20:00.967Z"
   },
   {
    "duration": 5,
    "start_time": "2024-07-31T17:20:01.013Z"
   },
   {
    "duration": 453,
    "start_time": "2024-07-31T17:20:01.019Z"
   },
   {
    "duration": 4,
    "start_time": "2024-07-31T17:20:01.473Z"
   },
   {
    "duration": 55,
    "start_time": "2024-07-31T17:20:01.479Z"
   },
   {
    "duration": 23,
    "start_time": "2024-07-31T17:20:01.535Z"
   },
   {
    "duration": 177,
    "start_time": "2024-07-31T17:20:01.560Z"
   },
   {
    "duration": 40,
    "start_time": "2024-07-31T17:20:01.738Z"
   },
   {
    "duration": 42,
    "start_time": "2024-07-31T17:20:01.780Z"
   },
   {
    "duration": 50,
    "start_time": "2024-07-31T17:20:01.823Z"
   },
   {
    "duration": 132,
    "start_time": "2024-07-31T17:20:01.875Z"
   },
   {
    "duration": 6,
    "start_time": "2024-07-31T17:20:02.009Z"
   },
   {
    "duration": 8593,
    "start_time": "2024-07-31T17:20:02.017Z"
   },
   {
    "duration": 979,
    "start_time": "2024-07-31T17:20:10.612Z"
   },
   {
    "duration": 6,
    "start_time": "2024-07-31T17:20:11.592Z"
   },
   {
    "duration": 60,
    "start_time": "2024-07-31T17:20:11.599Z"
   },
   {
    "duration": 8447,
    "start_time": "2024-07-31T17:20:11.660Z"
   },
   {
    "duration": 1179,
    "start_time": "2024-07-31T17:20:20.109Z"
   },
   {
    "duration": 5,
    "start_time": "2024-07-31T17:20:21.290Z"
   },
   {
    "duration": 14,
    "start_time": "2024-07-31T17:20:21.296Z"
   },
   {
    "duration": 58,
    "start_time": "2024-07-31T17:20:21.312Z"
   },
   {
    "duration": 8613,
    "start_time": "2024-07-31T17:20:21.371Z"
   },
   {
    "duration": 1122,
    "start_time": "2024-07-31T17:20:29.986Z"
   },
   {
    "duration": 1226,
    "start_time": "2024-08-01T05:31:03.143Z"
   },
   {
    "duration": 0,
    "start_time": "2024-08-01T05:31:04.372Z"
   },
   {
    "duration": 0,
    "start_time": "2024-08-01T05:31:04.373Z"
   },
   {
    "duration": 0,
    "start_time": "2024-08-01T05:31:04.374Z"
   },
   {
    "duration": 0,
    "start_time": "2024-08-01T05:31:04.375Z"
   },
   {
    "duration": 0,
    "start_time": "2024-08-01T05:31:04.376Z"
   },
   {
    "duration": 0,
    "start_time": "2024-08-01T05:31:04.376Z"
   },
   {
    "duration": 0,
    "start_time": "2024-08-01T05:31:04.377Z"
   },
   {
    "duration": 0,
    "start_time": "2024-08-01T05:31:04.378Z"
   },
   {
    "duration": 0,
    "start_time": "2024-08-01T05:31:04.379Z"
   },
   {
    "duration": 0,
    "start_time": "2024-08-01T05:31:04.380Z"
   },
   {
    "duration": 0,
    "start_time": "2024-08-01T05:31:04.381Z"
   },
   {
    "duration": 0,
    "start_time": "2024-08-01T05:31:04.382Z"
   },
   {
    "duration": 0,
    "start_time": "2024-08-01T05:31:04.395Z"
   },
   {
    "duration": 0,
    "start_time": "2024-08-01T05:31:04.396Z"
   },
   {
    "duration": 0,
    "start_time": "2024-08-01T05:31:04.397Z"
   },
   {
    "duration": 0,
    "start_time": "2024-08-01T05:31:04.398Z"
   },
   {
    "duration": 0,
    "start_time": "2024-08-01T05:31:04.399Z"
   },
   {
    "duration": 0,
    "start_time": "2024-08-01T05:31:04.399Z"
   },
   {
    "duration": 0,
    "start_time": "2024-08-01T05:31:04.400Z"
   },
   {
    "duration": 0,
    "start_time": "2024-08-01T05:31:04.401Z"
   },
   {
    "duration": 0,
    "start_time": "2024-08-01T05:31:04.402Z"
   },
   {
    "duration": 0,
    "start_time": "2024-08-01T05:31:04.403Z"
   },
   {
    "duration": 0,
    "start_time": "2024-08-01T05:31:04.404Z"
   },
   {
    "duration": 0,
    "start_time": "2024-08-01T05:31:04.405Z"
   },
   {
    "duration": 0,
    "start_time": "2024-08-01T05:31:04.406Z"
   },
   {
    "duration": 0,
    "start_time": "2024-08-01T05:31:04.407Z"
   },
   {
    "duration": 0,
    "start_time": "2024-08-01T05:31:04.407Z"
   },
   {
    "duration": 0,
    "start_time": "2024-08-01T05:31:04.408Z"
   },
   {
    "duration": 0,
    "start_time": "2024-08-01T05:31:04.409Z"
   },
   {
    "duration": 0,
    "start_time": "2024-08-01T05:31:04.410Z"
   },
   {
    "duration": 0,
    "start_time": "2024-08-01T05:31:04.411Z"
   },
   {
    "duration": 0,
    "start_time": "2024-08-01T05:31:04.412Z"
   },
   {
    "duration": 0,
    "start_time": "2024-08-01T05:31:04.413Z"
   },
   {
    "duration": 0,
    "start_time": "2024-08-01T05:31:04.414Z"
   },
   {
    "duration": 0,
    "start_time": "2024-08-01T05:31:04.415Z"
   },
   {
    "duration": 0,
    "start_time": "2024-08-01T05:31:04.416Z"
   },
   {
    "duration": 0,
    "start_time": "2024-08-01T05:31:04.417Z"
   },
   {
    "duration": 0,
    "start_time": "2024-08-01T05:31:04.418Z"
   },
   {
    "duration": 0,
    "start_time": "2024-08-01T05:31:04.418Z"
   },
   {
    "duration": 0,
    "start_time": "2024-08-01T05:31:04.419Z"
   },
   {
    "duration": 0,
    "start_time": "2024-08-01T05:31:04.420Z"
   },
   {
    "duration": 0,
    "start_time": "2024-08-01T05:31:04.421Z"
   },
   {
    "duration": 0,
    "start_time": "2024-08-01T05:31:04.422Z"
   },
   {
    "duration": 0,
    "start_time": "2024-08-01T05:31:04.423Z"
   },
   {
    "duration": 0,
    "start_time": "2024-08-01T05:31:04.424Z"
   },
   {
    "duration": 0,
    "start_time": "2024-08-01T05:31:04.424Z"
   },
   {
    "duration": 0,
    "start_time": "2024-08-01T05:31:04.425Z"
   },
   {
    "duration": 0,
    "start_time": "2024-08-01T05:31:04.426Z"
   },
   {
    "duration": 0,
    "start_time": "2024-08-01T05:31:04.427Z"
   },
   {
    "duration": 0,
    "start_time": "2024-08-01T05:31:04.428Z"
   },
   {
    "duration": 0,
    "start_time": "2024-08-01T05:31:04.429Z"
   },
   {
    "duration": 0,
    "start_time": "2024-08-01T05:31:04.430Z"
   },
   {
    "duration": 0,
    "start_time": "2024-08-01T05:31:04.431Z"
   },
   {
    "duration": 0,
    "start_time": "2024-08-01T05:31:04.431Z"
   },
   {
    "duration": 0,
    "start_time": "2024-08-01T05:31:04.432Z"
   },
   {
    "duration": 0,
    "start_time": "2024-08-01T05:31:04.496Z"
   },
   {
    "duration": 0,
    "start_time": "2024-08-01T05:31:04.497Z"
   },
   {
    "duration": 0,
    "start_time": "2024-08-01T05:31:04.498Z"
   },
   {
    "duration": 0,
    "start_time": "2024-08-01T05:31:04.499Z"
   },
   {
    "duration": 0,
    "start_time": "2024-08-01T05:31:04.500Z"
   },
   {
    "duration": 0,
    "start_time": "2024-08-01T05:31:04.501Z"
   },
   {
    "duration": 0,
    "start_time": "2024-08-01T05:31:04.501Z"
   },
   {
    "duration": 0,
    "start_time": "2024-08-01T05:31:04.502Z"
   },
   {
    "duration": 0,
    "start_time": "2024-08-01T05:31:04.503Z"
   },
   {
    "duration": 0,
    "start_time": "2024-08-01T05:31:04.504Z"
   },
   {
    "duration": 0,
    "start_time": "2024-08-01T05:31:04.505Z"
   },
   {
    "duration": 0,
    "start_time": "2024-08-01T05:31:04.506Z"
   },
   {
    "duration": 0,
    "start_time": "2024-08-01T05:31:04.507Z"
   },
   {
    "duration": 1397,
    "start_time": "2024-08-01T05:51:38.117Z"
   },
   {
    "duration": 3401,
    "start_time": "2024-08-01T05:51:48.049Z"
   },
   {
    "duration": 313,
    "start_time": "2024-08-01T05:51:54.558Z"
   },
   {
    "duration": 3786,
    "start_time": "2024-08-01T05:52:01.222Z"
   },
   {
    "duration": 438,
    "start_time": "2024-08-01T05:52:06.718Z"
   },
   {
    "duration": 4281,
    "start_time": "2024-08-01T09:19:06.225Z"
   },
   {
    "duration": 1214,
    "start_time": "2024-08-01T09:19:15.250Z"
   },
   {
    "duration": 3096,
    "start_time": "2024-08-01T09:19:22.219Z"
   },
   {
    "duration": 678,
    "start_time": "2024-08-01T09:19:26.321Z"
   },
   {
    "duration": 1685,
    "start_time": "2024-08-01T09:19:33.618Z"
   },
   {
    "duration": 2480,
    "start_time": "2024-08-01T09:19:35.305Z"
   },
   {
    "duration": 2504,
    "start_time": "2024-08-01T09:19:37.787Z"
   },
   {
    "duration": 318,
    "start_time": "2024-08-01T09:19:40.293Z"
   },
   {
    "duration": 14,
    "start_time": "2024-08-01T09:19:40.613Z"
   },
   {
    "duration": 10,
    "start_time": "2024-08-01T09:19:40.629Z"
   },
   {
    "duration": 8,
    "start_time": "2024-08-01T09:19:40.641Z"
   },
   {
    "duration": 18,
    "start_time": "2024-08-01T09:19:40.651Z"
   },
   {
    "duration": 5,
    "start_time": "2024-08-01T09:19:40.670Z"
   },
   {
    "duration": 27,
    "start_time": "2024-08-01T09:19:40.677Z"
   },
   {
    "duration": 4,
    "start_time": "2024-08-01T09:19:40.706Z"
   },
   {
    "duration": 18,
    "start_time": "2024-08-01T09:19:40.712Z"
   },
   {
    "duration": 11,
    "start_time": "2024-08-01T09:19:40.731Z"
   },
   {
    "duration": 24,
    "start_time": "2024-08-01T09:19:40.743Z"
   },
   {
    "duration": 12,
    "start_time": "2024-08-01T09:19:40.768Z"
   },
   {
    "duration": 15,
    "start_time": "2024-08-01T09:19:40.781Z"
   },
   {
    "duration": 53,
    "start_time": "2024-08-01T09:19:40.797Z"
   },
   {
    "duration": 4,
    "start_time": "2024-08-01T09:19:40.852Z"
   },
   {
    "duration": 17,
    "start_time": "2024-08-01T09:19:40.857Z"
   },
   {
    "duration": 20,
    "start_time": "2024-08-01T09:19:40.875Z"
   },
   {
    "duration": 3411,
    "start_time": "2024-08-01T09:19:40.896Z"
   },
   {
    "duration": 441,
    "start_time": "2024-08-01T09:19:44.309Z"
   },
   {
    "duration": 783,
    "start_time": "2024-08-01T09:19:44.752Z"
   },
   {
    "duration": 5,
    "start_time": "2024-08-01T09:19:45.537Z"
   },
   {
    "duration": 745,
    "start_time": "2024-08-01T09:19:45.543Z"
   },
   {
    "duration": 724,
    "start_time": "2024-08-01T09:19:46.290Z"
   },
   {
    "duration": 698,
    "start_time": "2024-08-01T09:19:47.016Z"
   },
   {
    "duration": 50,
    "start_time": "2024-08-01T09:19:47.718Z"
   },
   {
    "duration": 13,
    "start_time": "2024-08-01T09:19:47.769Z"
   },
   {
    "duration": 26,
    "start_time": "2024-08-01T09:19:47.783Z"
   },
   {
    "duration": 1193,
    "start_time": "2024-08-01T09:19:47.811Z"
   },
   {
    "duration": 2699,
    "start_time": "2024-08-01T09:19:49.005Z"
   },
   {
    "duration": 7,
    "start_time": "2024-08-01T09:19:51.705Z"
   },
   {
    "duration": 32,
    "start_time": "2024-08-01T09:19:51.713Z"
   },
   {
    "duration": 58,
    "start_time": "2024-08-01T09:19:51.746Z"
   },
   {
    "duration": 24,
    "start_time": "2024-08-01T09:19:51.805Z"
   },
   {
    "duration": 7,
    "start_time": "2024-08-01T09:19:51.831Z"
   },
   {
    "duration": 23,
    "start_time": "2024-08-01T09:19:51.839Z"
   },
   {
    "duration": 34,
    "start_time": "2024-08-01T09:19:51.864Z"
   },
   {
    "duration": 33,
    "start_time": "2024-08-01T09:19:51.900Z"
   },
   {
    "duration": 2125,
    "start_time": "2024-08-01T09:19:51.935Z"
   },
   {
    "duration": 0,
    "start_time": "2024-08-01T09:19:54.062Z"
   },
   {
    "duration": 0,
    "start_time": "2024-08-01T09:19:54.063Z"
   },
   {
    "duration": 0,
    "start_time": "2024-08-01T09:19:54.064Z"
   },
   {
    "duration": 0,
    "start_time": "2024-08-01T09:19:54.065Z"
   },
   {
    "duration": 0,
    "start_time": "2024-08-01T09:19:54.066Z"
   },
   {
    "duration": 0,
    "start_time": "2024-08-01T09:19:54.067Z"
   },
   {
    "duration": 0,
    "start_time": "2024-08-01T09:19:54.068Z"
   },
   {
    "duration": 0,
    "start_time": "2024-08-01T09:19:54.069Z"
   },
   {
    "duration": 0,
    "start_time": "2024-08-01T09:19:54.070Z"
   },
   {
    "duration": 0,
    "start_time": "2024-08-01T09:19:54.071Z"
   },
   {
    "duration": 0,
    "start_time": "2024-08-01T09:19:54.072Z"
   },
   {
    "duration": 0,
    "start_time": "2024-08-01T09:19:54.073Z"
   },
   {
    "duration": 0,
    "start_time": "2024-08-01T09:19:54.074Z"
   },
   {
    "duration": 0,
    "start_time": "2024-08-01T09:19:54.075Z"
   },
   {
    "duration": 0,
    "start_time": "2024-08-01T09:19:54.075Z"
   },
   {
    "duration": 0,
    "start_time": "2024-08-01T09:19:54.076Z"
   },
   {
    "duration": 0,
    "start_time": "2024-08-01T09:19:54.102Z"
   },
   {
    "duration": 0,
    "start_time": "2024-08-01T09:19:54.103Z"
   },
   {
    "duration": 0,
    "start_time": "2024-08-01T09:19:54.104Z"
   },
   {
    "duration": 0,
    "start_time": "2024-08-01T09:19:54.105Z"
   },
   {
    "duration": 0,
    "start_time": "2024-08-01T09:19:54.106Z"
   },
   {
    "duration": 0,
    "start_time": "2024-08-01T09:19:54.107Z"
   },
   {
    "duration": 0,
    "start_time": "2024-08-01T09:19:54.108Z"
   },
   {
    "duration": 0,
    "start_time": "2024-08-01T09:19:54.109Z"
   },
   {
    "duration": 0,
    "start_time": "2024-08-01T09:19:54.110Z"
   },
   {
    "duration": 0,
    "start_time": "2024-08-01T09:19:54.111Z"
   },
   {
    "duration": 0,
    "start_time": "2024-08-01T09:19:54.112Z"
   },
   {
    "duration": 0,
    "start_time": "2024-08-01T09:19:54.112Z"
   },
   {
    "duration": 1,
    "start_time": "2024-08-01T09:19:54.113Z"
   },
   {
    "duration": 0,
    "start_time": "2024-08-01T09:19:54.117Z"
   },
   {
    "duration": 119,
    "start_time": "2024-08-01T09:20:54.903Z"
   },
   {
    "duration": 108,
    "start_time": "2024-08-01T09:21:50.633Z"
   },
   {
    "duration": 100,
    "start_time": "2024-08-01T09:22:06.185Z"
   },
   {
    "duration": 94,
    "start_time": "2024-08-01T09:23:25.187Z"
   },
   {
    "duration": 2,
    "start_time": "2024-08-01T09:24:12.067Z"
   },
   {
    "duration": 22,
    "start_time": "2024-08-01T09:27:18.970Z"
   },
   {
    "duration": 6,
    "start_time": "2024-08-01T09:27:22.731Z"
   },
   {
    "duration": 6,
    "start_time": "2024-08-01T09:27:45.647Z"
   },
   {
    "duration": 6,
    "start_time": "2024-08-01T09:27:52.476Z"
   },
   {
    "duration": 6,
    "start_time": "2024-08-01T09:28:18.999Z"
   },
   {
    "duration": 51,
    "start_time": "2024-08-01T09:29:42.061Z"
   },
   {
    "duration": 53,
    "start_time": "2024-08-01T09:29:48.056Z"
   },
   {
    "duration": 1089,
    "start_time": "2024-08-01T09:33:19.786Z"
   },
   {
    "duration": 5,
    "start_time": "2024-08-01T09:36:41.773Z"
   },
   {
    "duration": 7,
    "start_time": "2024-08-01T09:36:56.241Z"
   },
   {
    "duration": 1144,
    "start_time": "2024-08-01T09:37:19.621Z"
   },
   {
    "duration": 8,
    "start_time": "2024-08-01T09:37:50.213Z"
   },
   {
    "duration": 1118,
    "start_time": "2024-08-01T09:37:59.105Z"
   },
   {
    "duration": 1109,
    "start_time": "2024-08-01T09:38:07.649Z"
   },
   {
    "duration": 4,
    "start_time": "2024-08-01T10:00:00.991Z"
   },
   {
    "duration": 3,
    "start_time": "2024-08-01T10:00:05.626Z"
   },
   {
    "duration": 3,
    "start_time": "2024-08-01T10:00:06.174Z"
   },
   {
    "duration": 2,
    "start_time": "2024-08-01T10:00:06.727Z"
   },
   {
    "duration": 4,
    "start_time": "2024-08-01T10:00:07.595Z"
   },
   {
    "duration": 3,
    "start_time": "2024-08-01T10:00:10.754Z"
   },
   {
    "duration": 71766,
    "start_time": "2024-08-01T10:00:14.307Z"
   },
   {
    "duration": 2175,
    "start_time": "2024-08-01T10:01:47.127Z"
   },
   {
    "duration": 2543,
    "start_time": "2024-08-01T10:01:49.304Z"
   },
   {
    "duration": 2519,
    "start_time": "2024-08-01T10:01:51.850Z"
   },
   {
    "duration": 81,
    "start_time": "2024-08-01T10:01:54.372Z"
   },
   {
    "duration": 15,
    "start_time": "2024-08-01T10:01:54.454Z"
   },
   {
    "duration": 6,
    "start_time": "2024-08-01T10:01:54.471Z"
   },
   {
    "duration": 15,
    "start_time": "2024-08-01T10:01:54.479Z"
   },
   {
    "duration": 10,
    "start_time": "2024-08-01T10:01:54.495Z"
   },
   {
    "duration": 12,
    "start_time": "2024-08-01T10:01:54.506Z"
   },
   {
    "duration": 25,
    "start_time": "2024-08-01T10:01:54.520Z"
   },
   {
    "duration": 3,
    "start_time": "2024-08-01T10:01:54.546Z"
   },
   {
    "duration": 19,
    "start_time": "2024-08-01T10:01:54.550Z"
   },
   {
    "duration": 15,
    "start_time": "2024-08-01T10:01:54.570Z"
   },
   {
    "duration": 10,
    "start_time": "2024-08-01T10:01:54.586Z"
   },
   {
    "duration": 6,
    "start_time": "2024-08-01T10:01:54.598Z"
   },
   {
    "duration": 21,
    "start_time": "2024-08-01T10:01:54.605Z"
   },
   {
    "duration": 54,
    "start_time": "2024-08-01T10:01:54.627Z"
   },
   {
    "duration": 4,
    "start_time": "2024-08-01T10:01:54.683Z"
   },
   {
    "duration": 33,
    "start_time": "2024-08-01T10:01:54.688Z"
   },
   {
    "duration": 18,
    "start_time": "2024-08-01T10:01:54.723Z"
   },
   {
    "duration": 3341,
    "start_time": "2024-08-01T10:01:54.742Z"
   },
   {
    "duration": 430,
    "start_time": "2024-08-01T10:01:58.085Z"
   },
   {
    "duration": 823,
    "start_time": "2024-08-01T10:01:58.516Z"
   },
   {
    "duration": 6,
    "start_time": "2024-08-01T10:01:59.340Z"
   },
   {
    "duration": 736,
    "start_time": "2024-08-01T10:01:59.348Z"
   },
   {
    "duration": 108,
    "start_time": "2024-08-01T10:02:00.085Z"
   },
   {
    "duration": 735,
    "start_time": "2024-08-01T10:02:00.201Z"
   },
   {
    "duration": 108,
    "start_time": "2024-08-01T10:02:00.940Z"
   },
   {
    "duration": 708,
    "start_time": "2024-08-01T10:02:01.049Z"
   },
   {
    "duration": 146,
    "start_time": "2024-08-01T10:02:01.758Z"
   },
   {
    "duration": 63,
    "start_time": "2024-08-01T10:02:01.906Z"
   },
   {
    "duration": 44,
    "start_time": "2024-08-01T10:02:01.970Z"
   },
   {
    "duration": 9,
    "start_time": "2024-08-01T10:02:02.016Z"
   },
   {
    "duration": 1150,
    "start_time": "2024-08-01T10:02:02.026Z"
   },
   {
    "duration": 10,
    "start_time": "2024-08-01T10:02:03.178Z"
   },
   {
    "duration": 1105,
    "start_time": "2024-08-01T10:02:03.189Z"
   },
   {
    "duration": 8,
    "start_time": "2024-08-01T10:02:04.301Z"
   },
   {
    "duration": 1083,
    "start_time": "2024-08-01T10:02:04.311Z"
   },
   {
    "duration": 2598,
    "start_time": "2024-08-01T10:02:05.401Z"
   },
   {
    "duration": 7,
    "start_time": "2024-08-01T10:02:08.001Z"
   },
   {
    "duration": 37,
    "start_time": "2024-08-01T10:02:08.009Z"
   },
   {
    "duration": 14,
    "start_time": "2024-08-01T10:02:08.047Z"
   },
   {
    "duration": 17,
    "start_time": "2024-08-01T10:02:08.062Z"
   },
   {
    "duration": 17,
    "start_time": "2024-08-01T10:02:08.080Z"
   },
   {
    "duration": 25,
    "start_time": "2024-08-01T10:02:08.099Z"
   },
   {
    "duration": 20,
    "start_time": "2024-08-01T10:02:08.126Z"
   },
   {
    "duration": 7,
    "start_time": "2024-08-01T10:02:08.148Z"
   },
   {
    "duration": 70063,
    "start_time": "2024-08-01T10:02:08.157Z"
   },
   {
    "duration": 0,
    "start_time": "2024-08-01T10:03:18.221Z"
   },
   {
    "duration": 0,
    "start_time": "2024-08-01T10:03:18.222Z"
   },
   {
    "duration": 0,
    "start_time": "2024-08-01T10:03:18.224Z"
   },
   {
    "duration": 0,
    "start_time": "2024-08-01T10:03:18.224Z"
   },
   {
    "duration": 0,
    "start_time": "2024-08-01T10:03:18.225Z"
   },
   {
    "duration": 0,
    "start_time": "2024-08-01T10:03:18.226Z"
   },
   {
    "duration": 0,
    "start_time": "2024-08-01T10:03:18.227Z"
   },
   {
    "duration": 0,
    "start_time": "2024-08-01T10:03:18.228Z"
   },
   {
    "duration": 0,
    "start_time": "2024-08-01T10:03:18.229Z"
   },
   {
    "duration": 0,
    "start_time": "2024-08-01T10:03:18.229Z"
   },
   {
    "duration": 0,
    "start_time": "2024-08-01T10:03:18.230Z"
   },
   {
    "duration": 0,
    "start_time": "2024-08-01T10:03:18.231Z"
   },
   {
    "duration": 0,
    "start_time": "2024-08-01T10:03:18.232Z"
   },
   {
    "duration": 0,
    "start_time": "2024-08-01T10:03:18.233Z"
   },
   {
    "duration": 0,
    "start_time": "2024-08-01T10:03:18.234Z"
   },
   {
    "duration": 0,
    "start_time": "2024-08-01T10:03:18.235Z"
   },
   {
    "duration": 0,
    "start_time": "2024-08-01T10:03:18.236Z"
   },
   {
    "duration": 0,
    "start_time": "2024-08-01T10:03:18.237Z"
   },
   {
    "duration": 0,
    "start_time": "2024-08-01T10:03:18.238Z"
   },
   {
    "duration": 0,
    "start_time": "2024-08-01T10:03:18.239Z"
   },
   {
    "duration": 0,
    "start_time": "2024-08-01T10:03:18.239Z"
   },
   {
    "duration": 0,
    "start_time": "2024-08-01T10:03:18.240Z"
   },
   {
    "duration": 0,
    "start_time": "2024-08-01T10:03:18.241Z"
   },
   {
    "duration": 0,
    "start_time": "2024-08-01T10:03:18.243Z"
   },
   {
    "duration": 0,
    "start_time": "2024-08-01T10:03:18.243Z"
   },
   {
    "duration": 0,
    "start_time": "2024-08-01T10:03:18.245Z"
   },
   {
    "duration": 0,
    "start_time": "2024-08-01T10:03:18.245Z"
   },
   {
    "duration": 0,
    "start_time": "2024-08-01T10:03:18.246Z"
   },
   {
    "duration": 0,
    "start_time": "2024-08-01T10:03:18.247Z"
   },
   {
    "duration": 0,
    "start_time": "2024-08-01T10:03:18.248Z"
   },
   {
    "duration": 4,
    "start_time": "2024-08-01T10:03:23.844Z"
   },
   {
    "duration": 4,
    "start_time": "2024-08-01T10:03:27.129Z"
   },
   {
    "duration": 19,
    "start_time": "2024-08-01T10:03:40.215Z"
   },
   {
    "duration": 4,
    "start_time": "2024-08-01T10:04:22.943Z"
   },
   {
    "duration": 3,
    "start_time": "2024-08-01T10:04:26.428Z"
   },
   {
    "duration": 2,
    "start_time": "2024-08-01T10:04:26.932Z"
   },
   {
    "duration": 3,
    "start_time": "2024-08-01T10:04:27.551Z"
   },
   {
    "duration": 4,
    "start_time": "2024-08-01T10:04:27.904Z"
   },
   {
    "duration": 3,
    "start_time": "2024-08-01T10:04:28.947Z"
   },
   {
    "duration": 1961,
    "start_time": "2024-08-01T10:04:29.820Z"
   },
   {
    "duration": 44929,
    "start_time": "2024-08-01T10:05:20.600Z"
   },
   {
    "duration": 4,
    "start_time": "2024-08-01T10:06:47.970Z"
   },
   {
    "duration": 5,
    "start_time": "2024-08-01T10:06:56.533Z"
   },
   {
    "duration": 3,
    "start_time": "2024-08-01T10:06:57.745Z"
   },
   {
    "duration": 3,
    "start_time": "2024-08-01T10:06:58.000Z"
   },
   {
    "duration": 3,
    "start_time": "2024-08-01T10:06:58.228Z"
   },
   {
    "duration": 5,
    "start_time": "2024-08-01T10:06:58.501Z"
   },
   {
    "duration": 2,
    "start_time": "2024-08-01T10:06:59.417Z"
   },
   {
    "duration": 2010,
    "start_time": "2024-08-01T10:07:00.941Z"
   },
   {
    "duration": 1540,
    "start_time": "2024-08-01T10:07:33.458Z"
   },
   {
    "duration": 3059,
    "start_time": "2024-08-01T10:07:42.594Z"
   },
   {
    "duration": 1504,
    "start_time": "2024-08-01T10:07:50.447Z"
   },
   {
    "duration": 2514,
    "start_time": "2024-08-01T10:07:51.952Z"
   },
   {
    "duration": 2558,
    "start_time": "2024-08-01T10:07:54.468Z"
   },
   {
    "duration": 3101,
    "start_time": "2024-08-01T10:07:57.028Z"
   },
   {
    "duration": 83,
    "start_time": "2024-08-01T10:08:00.131Z"
   },
   {
    "duration": 24,
    "start_time": "2024-08-01T10:08:00.215Z"
   },
   {
    "duration": 36,
    "start_time": "2024-08-01T10:08:00.241Z"
   },
   {
    "duration": 72,
    "start_time": "2024-08-01T10:08:00.278Z"
   },
   {
    "duration": 95,
    "start_time": "2024-08-01T10:08:00.352Z"
   },
   {
    "duration": 37,
    "start_time": "2024-08-01T10:08:00.449Z"
   },
   {
    "duration": 98,
    "start_time": "2024-08-01T10:08:00.487Z"
   },
   {
    "duration": 87,
    "start_time": "2024-08-01T10:08:00.587Z"
   },
   {
    "duration": 107,
    "start_time": "2024-08-01T10:08:00.675Z"
   },
   {
    "duration": 106,
    "start_time": "2024-08-01T10:08:00.783Z"
   },
   {
    "duration": 50,
    "start_time": "2024-08-01T10:08:00.891Z"
   },
   {
    "duration": 123,
    "start_time": "2024-08-01T10:08:00.942Z"
   },
   {
    "duration": 85,
    "start_time": "2024-08-01T10:08:01.066Z"
   },
   {
    "duration": 106,
    "start_time": "2024-08-01T10:08:01.152Z"
   },
   {
    "duration": 13,
    "start_time": "2024-08-01T10:08:01.259Z"
   },
   {
    "duration": 187,
    "start_time": "2024-08-01T10:08:01.273Z"
   },
   {
    "duration": 313,
    "start_time": "2024-08-01T10:08:01.461Z"
   },
   {
    "duration": 3581,
    "start_time": "2024-08-01T10:08:01.775Z"
   },
   {
    "duration": 420,
    "start_time": "2024-08-01T10:08:05.358Z"
   },
   {
    "duration": 726,
    "start_time": "2024-08-01T10:08:05.779Z"
   },
   {
    "duration": 7,
    "start_time": "2024-08-01T10:08:06.506Z"
   },
   {
    "duration": 834,
    "start_time": "2024-08-01T10:08:06.515Z"
   },
   {
    "duration": 112,
    "start_time": "2024-08-01T10:08:07.351Z"
   },
   {
    "duration": 708,
    "start_time": "2024-08-01T10:08:07.467Z"
   },
   {
    "duration": 100,
    "start_time": "2024-08-01T10:08:08.177Z"
   },
   {
    "duration": 683,
    "start_time": "2024-08-01T10:08:08.279Z"
   },
   {
    "duration": 58,
    "start_time": "2024-08-01T10:08:08.963Z"
   },
   {
    "duration": 12,
    "start_time": "2024-08-01T10:08:09.022Z"
   },
   {
    "duration": 29,
    "start_time": "2024-08-01T10:08:09.036Z"
   },
   {
    "duration": 22,
    "start_time": "2024-08-01T10:08:09.066Z"
   },
   {
    "duration": 1223,
    "start_time": "2024-08-01T10:08:09.089Z"
   },
   {
    "duration": 8,
    "start_time": "2024-08-01T10:08:10.313Z"
   },
   {
    "duration": 1088,
    "start_time": "2024-08-01T10:08:10.322Z"
   },
   {
    "duration": 8,
    "start_time": "2024-08-01T10:08:11.412Z"
   },
   {
    "duration": 1225,
    "start_time": "2024-08-01T10:08:11.421Z"
   },
   {
    "duration": 2634,
    "start_time": "2024-08-01T10:08:12.647Z"
   },
   {
    "duration": 7,
    "start_time": "2024-08-01T10:08:15.283Z"
   },
   {
    "duration": 83,
    "start_time": "2024-08-01T10:08:15.301Z"
   },
   {
    "duration": 63,
    "start_time": "2024-08-01T10:08:15.386Z"
   },
   {
    "duration": 35,
    "start_time": "2024-08-01T10:08:15.450Z"
   },
   {
    "duration": 8,
    "start_time": "2024-08-01T10:08:15.487Z"
   },
   {
    "duration": 8,
    "start_time": "2024-08-01T10:08:15.496Z"
   },
   {
    "duration": 21,
    "start_time": "2024-08-01T10:08:15.505Z"
   },
   {
    "duration": 10,
    "start_time": "2024-08-01T10:08:15.527Z"
   },
   {
    "duration": 11447,
    "start_time": "2024-08-01T10:08:15.539Z"
   },
   {
    "duration": 30,
    "start_time": "2024-08-01T10:08:26.988Z"
   },
   {
    "duration": 13,
    "start_time": "2024-08-01T10:08:27.020Z"
   },
   {
    "duration": 26,
    "start_time": "2024-08-01T10:08:27.034Z"
   },
   {
    "duration": 10,
    "start_time": "2024-08-01T10:08:27.061Z"
   },
   {
    "duration": 23,
    "start_time": "2024-08-01T10:08:27.073Z"
   },
   {
    "duration": 16,
    "start_time": "2024-08-01T10:08:27.098Z"
   },
   {
    "duration": 6,
    "start_time": "2024-08-01T10:08:27.115Z"
   },
   {
    "duration": 14,
    "start_time": "2024-08-01T10:08:27.122Z"
   },
   {
    "duration": 30,
    "start_time": "2024-08-01T10:08:27.137Z"
   },
   {
    "duration": 5,
    "start_time": "2024-08-01T10:08:27.169Z"
   },
   {
    "duration": 158,
    "start_time": "2024-08-01T10:08:27.175Z"
   },
   {
    "duration": 0,
    "start_time": "2024-08-01T10:08:27.334Z"
   },
   {
    "duration": 0,
    "start_time": "2024-08-01T10:08:27.335Z"
   },
   {
    "duration": 0,
    "start_time": "2024-08-01T10:08:27.335Z"
   },
   {
    "duration": 0,
    "start_time": "2024-08-01T10:08:27.336Z"
   },
   {
    "duration": 0,
    "start_time": "2024-08-01T10:08:27.337Z"
   },
   {
    "duration": 0,
    "start_time": "2024-08-01T10:08:27.338Z"
   },
   {
    "duration": 0,
    "start_time": "2024-08-01T10:08:27.339Z"
   },
   {
    "duration": 0,
    "start_time": "2024-08-01T10:08:27.340Z"
   },
   {
    "duration": 0,
    "start_time": "2024-08-01T10:08:27.341Z"
   },
   {
    "duration": 0,
    "start_time": "2024-08-01T10:08:27.342Z"
   },
   {
    "duration": 0,
    "start_time": "2024-08-01T10:08:27.343Z"
   },
   {
    "duration": 0,
    "start_time": "2024-08-01T10:08:27.343Z"
   },
   {
    "duration": 0,
    "start_time": "2024-08-01T10:08:27.344Z"
   },
   {
    "duration": 0,
    "start_time": "2024-08-01T10:08:27.345Z"
   },
   {
    "duration": 0,
    "start_time": "2024-08-01T10:08:27.345Z"
   },
   {
    "duration": 0,
    "start_time": "2024-08-01T10:08:27.346Z"
   },
   {
    "duration": 0,
    "start_time": "2024-08-01T10:08:27.347Z"
   },
   {
    "duration": 0,
    "start_time": "2024-08-01T10:08:27.348Z"
   },
   {
    "duration": 0,
    "start_time": "2024-08-01T10:08:27.349Z"
   },
   {
    "duration": 1,
    "start_time": "2024-08-01T10:08:27.349Z"
   },
   {
    "duration": 10995,
    "start_time": "2024-08-01T10:09:23.192Z"
   },
   {
    "duration": 3,
    "start_time": "2024-08-01T10:10:54.037Z"
   },
   {
    "duration": 3,
    "start_time": "2024-08-01T10:11:34.329Z"
   },
   {
    "duration": 3,
    "start_time": "2024-08-01T10:11:46.241Z"
   },
   {
    "duration": 19187,
    "start_time": "2024-08-01T10:11:46.429Z"
   },
   {
    "duration": 2,
    "start_time": "2024-08-01T10:12:20.418Z"
   },
   {
    "duration": 11266,
    "start_time": "2024-08-01T10:12:21.673Z"
   },
   {
    "duration": 3,
    "start_time": "2024-08-01T10:12:38.585Z"
   },
   {
    "duration": 5316,
    "start_time": "2024-08-01T10:12:40.550Z"
   },
   {
    "duration": 2,
    "start_time": "2024-08-01T10:13:00.021Z"
   },
   {
    "duration": 3340,
    "start_time": "2024-08-01T10:13:01.281Z"
   },
   {
    "duration": 2,
    "start_time": "2024-08-01T10:13:11.934Z"
   },
   {
    "duration": 3255,
    "start_time": "2024-08-01T10:13:13.053Z"
   },
   {
    "duration": 5,
    "start_time": "2024-08-01T10:13:29.509Z"
   },
   {
    "duration": 5927,
    "start_time": "2024-08-01T10:13:30.674Z"
   },
   {
    "duration": 3,
    "start_time": "2024-08-01T10:13:49.325Z"
   },
   {
    "duration": 4,
    "start_time": "2024-08-01T10:13:51.533Z"
   },
   {
    "duration": 4,
    "start_time": "2024-08-01T10:13:53.721Z"
   },
   {
    "duration": 3,
    "start_time": "2024-08-01T10:14:49.014Z"
   },
   {
    "duration": 3,
    "start_time": "2024-08-01T10:15:28.630Z"
   },
   {
    "duration": 8,
    "start_time": "2024-08-01T10:15:29.562Z"
   },
   {
    "duration": 3,
    "start_time": "2024-08-01T10:15:30.158Z"
   },
   {
    "duration": 6,
    "start_time": "2024-08-01T10:15:30.830Z"
   },
   {
    "duration": 3,
    "start_time": "2024-08-01T10:21:32.244Z"
   },
   {
    "duration": 4639,
    "start_time": "2024-08-01T10:21:34.100Z"
   },
   {
    "duration": 66,
    "start_time": "2024-08-01T10:22:01.153Z"
   },
   {
    "duration": 11,
    "start_time": "2024-08-01T10:22:04.713Z"
   },
   {
    "duration": 4,
    "start_time": "2024-08-01T10:24:49.692Z"
   },
   {
    "duration": 8,
    "start_time": "2024-08-01T10:25:39.580Z"
   },
   {
    "duration": 4,
    "start_time": "2024-08-01T10:25:51.619Z"
   },
   {
    "duration": 11,
    "start_time": "2024-08-01T10:25:57.331Z"
   },
   {
    "duration": 3,
    "start_time": "2024-08-01T10:26:06.391Z"
   },
   {
    "duration": 2,
    "start_time": "2024-08-01T10:26:11.246Z"
   },
   {
    "duration": 133,
    "start_time": "2024-08-01T10:26:13.426Z"
   },
   {
    "duration": 2,
    "start_time": "2024-08-01T10:26:49.680Z"
   },
   {
    "duration": 6337,
    "start_time": "2024-08-01T10:26:50.788Z"
   },
   {
    "duration": 3,
    "start_time": "2024-08-01T10:27:15.143Z"
   },
   {
    "duration": 3,
    "start_time": "2024-08-01T10:32:22.320Z"
   },
   {
    "duration": 5765,
    "start_time": "2024-08-01T10:32:24.292Z"
   },
   {
    "duration": 7,
    "start_time": "2024-08-01T10:32:52.656Z"
   },
   {
    "duration": 3,
    "start_time": "2024-08-01T10:35:54.402Z"
   },
   {
    "duration": 3,
    "start_time": "2024-08-01T10:35:57.826Z"
   },
   {
    "duration": 69,
    "start_time": "2024-08-01T10:36:00.214Z"
   },
   {
    "duration": 2,
    "start_time": "2024-08-01T10:36:08.522Z"
   },
   {
    "duration": 6057,
    "start_time": "2024-08-01T10:36:09.725Z"
   },
   {
    "duration": 6011,
    "start_time": "2024-08-01T10:36:22.893Z"
   },
   {
    "duration": 3,
    "start_time": "2024-08-01T10:36:28.905Z"
   },
   {
    "duration": 4,
    "start_time": "2024-08-01T10:37:28.124Z"
   },
   {
    "duration": 3,
    "start_time": "2024-08-01T10:37:31.029Z"
   },
   {
    "duration": 3,
    "start_time": "2024-08-01T10:37:38.164Z"
   },
   {
    "duration": 2,
    "start_time": "2024-08-01T10:37:47.239Z"
   },
   {
    "duration": 8,
    "start_time": "2024-08-01T10:37:47.675Z"
   },
   {
    "duration": 3,
    "start_time": "2024-08-01T10:37:48.424Z"
   },
   {
    "duration": 5,
    "start_time": "2024-08-01T10:37:49.455Z"
   },
   {
    "duration": 9,
    "start_time": "2024-08-01T10:38:10.587Z"
   },
   {
    "duration": 13,
    "start_time": "2024-08-01T10:38:51.997Z"
   },
   {
    "duration": 2,
    "start_time": "2024-08-01T10:41:08.288Z"
   },
   {
    "duration": 5857,
    "start_time": "2024-08-01T10:41:10.959Z"
   },
   {
    "duration": 3,
    "start_time": "2024-08-01T10:41:20.667Z"
   },
   {
    "duration": 3,
    "start_time": "2024-08-01T10:41:21.171Z"
   },
   {
    "duration": 3,
    "start_time": "2024-08-01T10:41:22.187Z"
   },
   {
    "duration": 2,
    "start_time": "2024-08-01T10:41:24.751Z"
   },
   {
    "duration": 8,
    "start_time": "2024-08-01T10:41:25.380Z"
   },
   {
    "duration": 3,
    "start_time": "2024-08-01T10:41:25.771Z"
   },
   {
    "duration": 5,
    "start_time": "2024-08-01T10:41:26.187Z"
   },
   {
    "duration": 3,
    "start_time": "2024-08-01T10:41:32.755Z"
   },
   {
    "duration": 4,
    "start_time": "2024-08-01T10:50:59.222Z"
   },
   {
    "duration": 10,
    "start_time": "2024-08-01T10:51:10.036Z"
   },
   {
    "duration": 10,
    "start_time": "2024-08-01T10:51:32.931Z"
   },
   {
    "duration": 2,
    "start_time": "2024-08-01T10:51:37.668Z"
   },
   {
    "duration": 2,
    "start_time": "2024-08-01T10:51:39.028Z"
   },
   {
    "duration": 6164,
    "start_time": "2024-08-01T10:51:40.187Z"
   },
   {
    "duration": 5,
    "start_time": "2024-08-01T10:51:57.460Z"
   },
   {
    "duration": 4,
    "start_time": "2024-08-01T10:52:02.088Z"
   },
   {
    "duration": 3,
    "start_time": "2024-08-01T10:52:16.860Z"
   },
   {
    "duration": 19304,
    "start_time": "2024-08-01T10:52:19.687Z"
   },
   {
    "duration": 3,
    "start_time": "2024-08-01T10:52:46.763Z"
   },
   {
    "duration": 4,
    "start_time": "2024-08-01T10:52:48.900Z"
   },
   {
    "duration": 2,
    "start_time": "2024-08-01T10:52:57.935Z"
   },
   {
    "duration": 23428,
    "start_time": "2024-08-01T10:52:59.320Z"
   },
   {
    "duration": 4,
    "start_time": "2024-08-01T10:53:42.776Z"
   },
   {
    "duration": 3,
    "start_time": "2024-08-01T10:53:51.591Z"
   },
   {
    "duration": 11715,
    "start_time": "2024-08-01T10:53:53.271Z"
   },
   {
    "duration": 2,
    "start_time": "2024-08-01T10:54:13.075Z"
   },
   {
    "duration": 16699,
    "start_time": "2024-08-01T10:54:14.236Z"
   },
   {
    "duration": 3,
    "start_time": "2024-08-01T10:57:18.863Z"
   },
   {
    "duration": 19241,
    "start_time": "2024-08-01T10:57:19.252Z"
   },
   {
    "duration": 19872,
    "start_time": "2024-08-01T11:00:53.667Z"
   },
   {
    "duration": 3,
    "start_time": "2024-08-01T11:01:27.875Z"
   },
   {
    "duration": 13995,
    "start_time": "2024-08-01T11:01:29.795Z"
   },
   {
    "duration": 3,
    "start_time": "2024-08-01T11:02:01.672Z"
   },
   {
    "duration": 4,
    "start_time": "2024-08-01T11:02:04.011Z"
   },
   {
    "duration": 4,
    "start_time": "2024-08-01T11:02:07.684Z"
   },
   {
    "duration": 2,
    "start_time": "2024-08-01T11:02:27.528Z"
   },
   {
    "duration": 23494,
    "start_time": "2024-08-01T11:02:28.552Z"
   },
   {
    "duration": 23332,
    "start_time": "2024-08-01T11:02:59.465Z"
   },
   {
    "duration": 3,
    "start_time": "2024-08-01T11:03:22.801Z"
   },
   {
    "duration": 39,
    "start_time": "2024-08-01T11:03:22.805Z"
   },
   {
    "duration": 3,
    "start_time": "2024-08-01T11:03:30.481Z"
   },
   {
    "duration": 3,
    "start_time": "2024-08-01T11:03:31.706Z"
   },
   {
    "duration": 8,
    "start_time": "2024-08-01T11:05:41.734Z"
   },
   {
    "duration": 10,
    "start_time": "2024-08-01T11:05:51.706Z"
   },
   {
    "duration": 9,
    "start_time": "2024-08-01T11:06:40.262Z"
   },
   {
    "duration": 3,
    "start_time": "2024-08-01T11:06:52.826Z"
   },
   {
    "duration": 6,
    "start_time": "2024-08-01T11:06:53.271Z"
   },
   {
    "duration": 7,
    "start_time": "2024-08-01T11:11:24.176Z"
   },
   {
    "duration": 5,
    "start_time": "2024-08-01T11:11:44.092Z"
   },
   {
    "duration": 157,
    "start_time": "2024-08-01T11:11:46.180Z"
   },
   {
    "duration": 2207,
    "start_time": "2024-08-01T11:12:08.817Z"
   },
   {
    "duration": 17561,
    "start_time": "2024-08-01T11:12:16.644Z"
   },
   {
    "duration": 5470,
    "start_time": "2024-08-01T11:12:44.485Z"
   },
   {
    "duration": 1494,
    "start_time": "2024-08-01T11:13:11.047Z"
   },
   {
    "duration": 5768,
    "start_time": "2024-08-01T11:13:30.707Z"
   },
   {
    "duration": 1840,
    "start_time": "2024-08-01T11:13:46.515Z"
   },
   {
    "duration": 207494,
    "start_time": "2024-08-01T11:14:09.807Z"
   },
   {
    "duration": 1870,
    "start_time": "2024-08-01T11:17:50.402Z"
   },
   {
    "duration": 1794,
    "start_time": "2024-08-01T11:18:05.538Z"
   },
   {
    "duration": 2968,
    "start_time": "2024-08-01T11:18:07.333Z"
   },
   {
    "duration": 2663,
    "start_time": "2024-08-01T11:18:10.303Z"
   },
   {
    "duration": 5535,
    "start_time": "2024-08-01T11:18:12.968Z"
   },
   {
    "duration": 85,
    "start_time": "2024-08-01T11:18:18.505Z"
   },
   {
    "duration": 18,
    "start_time": "2024-08-01T11:18:18.592Z"
   },
   {
    "duration": 14,
    "start_time": "2024-08-01T11:18:18.611Z"
   },
   {
    "duration": 30,
    "start_time": "2024-08-01T11:18:18.626Z"
   },
   {
    "duration": 26,
    "start_time": "2024-08-01T11:18:18.657Z"
   },
   {
    "duration": 4,
    "start_time": "2024-08-01T11:18:18.686Z"
   },
   {
    "duration": 39,
    "start_time": "2024-08-01T11:18:18.692Z"
   },
   {
    "duration": 6,
    "start_time": "2024-08-01T11:18:18.733Z"
   },
   {
    "duration": 34,
    "start_time": "2024-08-01T11:18:18.740Z"
   },
   {
    "duration": 14,
    "start_time": "2024-08-01T11:18:18.775Z"
   },
   {
    "duration": 9,
    "start_time": "2024-08-01T11:18:18.790Z"
   },
   {
    "duration": 3,
    "start_time": "2024-08-01T11:18:18.800Z"
   },
   {
    "duration": 5,
    "start_time": "2024-08-01T11:18:18.805Z"
   },
   {
    "duration": 53,
    "start_time": "2024-08-01T11:18:18.811Z"
   },
   {
    "duration": 3,
    "start_time": "2024-08-01T11:18:18.866Z"
   },
   {
    "duration": 13,
    "start_time": "2024-08-01T11:18:18.871Z"
   },
   {
    "duration": 16,
    "start_time": "2024-08-01T11:18:18.885Z"
   },
   {
    "duration": 4202,
    "start_time": "2024-08-01T11:18:18.903Z"
   },
   {
    "duration": 862,
    "start_time": "2024-08-01T11:18:23.107Z"
   },
   {
    "duration": 958,
    "start_time": "2024-08-01T11:18:23.971Z"
   },
   {
    "duration": 6,
    "start_time": "2024-08-01T11:18:24.930Z"
   },
   {
    "duration": 917,
    "start_time": "2024-08-01T11:18:24.937Z"
   },
   {
    "duration": 195,
    "start_time": "2024-08-01T11:18:25.855Z"
   },
   {
    "duration": 868,
    "start_time": "2024-08-01T11:18:26.054Z"
   },
   {
    "duration": 223,
    "start_time": "2024-08-01T11:18:26.924Z"
   },
   {
    "duration": 860,
    "start_time": "2024-08-01T11:18:27.149Z"
   },
   {
    "duration": 51,
    "start_time": "2024-08-01T11:18:28.011Z"
   },
   {
    "duration": 23,
    "start_time": "2024-08-01T11:18:28.064Z"
   },
   {
    "duration": 26,
    "start_time": "2024-08-01T11:18:28.088Z"
   },
   {
    "duration": 27,
    "start_time": "2024-08-01T11:18:28.116Z"
   },
   {
    "duration": 672,
    "start_time": "2024-08-01T11:18:28.144Z"
   },
   {
    "duration": 8,
    "start_time": "2024-08-01T11:18:28.817Z"
   },
   {
    "duration": 572,
    "start_time": "2024-08-01T11:18:28.826Z"
   },
   {
    "duration": 8,
    "start_time": "2024-08-01T11:18:29.399Z"
   },
   {
    "duration": 583,
    "start_time": "2024-08-01T11:18:29.409Z"
   },
   {
    "duration": 1861,
    "start_time": "2024-08-01T11:18:29.993Z"
   },
   {
    "duration": 8,
    "start_time": "2024-08-01T11:18:31.857Z"
   },
   {
    "duration": 16,
    "start_time": "2024-08-01T11:18:31.866Z"
   },
   {
    "duration": 27,
    "start_time": "2024-08-01T11:18:31.883Z"
   },
   {
    "duration": 196,
    "start_time": "2024-08-01T11:18:31.911Z"
   },
   {
    "duration": 41,
    "start_time": "2024-08-01T11:18:32.109Z"
   },
   {
    "duration": 23,
    "start_time": "2024-08-01T11:18:32.152Z"
   },
   {
    "duration": 17,
    "start_time": "2024-08-01T11:18:32.176Z"
   },
   {
    "duration": 10,
    "start_time": "2024-08-01T11:18:32.195Z"
   },
   {
    "duration": 20,
    "start_time": "2024-08-01T11:18:32.206Z"
   },
   {
    "duration": 23503,
    "start_time": "2024-08-01T11:18:32.227Z"
   },
   {
    "duration": 3,
    "start_time": "2024-08-01T11:18:55.732Z"
   },
   {
    "duration": 22,
    "start_time": "2024-08-01T11:18:55.737Z"
   },
   {
    "duration": 16,
    "start_time": "2024-08-01T11:18:55.761Z"
   },
   {
    "duration": 29,
    "start_time": "2024-08-01T11:18:55.778Z"
   },
   {
    "duration": 38,
    "start_time": "2024-08-01T11:18:55.809Z"
   },
   {
    "duration": 61,
    "start_time": "2024-08-01T11:18:55.849Z"
   },
   {
    "duration": 135,
    "start_time": "2024-08-01T11:18:55.911Z"
   },
   {
    "duration": 43,
    "start_time": "2024-08-01T11:18:56.047Z"
   },
   {
    "duration": 36,
    "start_time": "2024-08-01T11:18:56.091Z"
   },
   {
    "duration": 461,
    "start_time": "2024-08-01T11:18:56.129Z"
   },
   {
    "duration": 11,
    "start_time": "2024-08-01T11:18:56.591Z"
   },
   {
    "duration": 50,
    "start_time": "2024-08-01T11:18:56.603Z"
   },
   {
    "duration": 13,
    "start_time": "2024-08-01T11:18:56.655Z"
   },
   {
    "duration": 41,
    "start_time": "2024-08-01T11:18:56.670Z"
   },
   {
    "duration": 107,
    "start_time": "2024-08-01T11:18:56.713Z"
   },
   {
    "duration": 19,
    "start_time": "2024-08-01T11:18:56.821Z"
   },
   {
    "duration": 9,
    "start_time": "2024-08-01T11:18:56.842Z"
   },
   {
    "duration": 59,
    "start_time": "2024-08-01T11:18:56.852Z"
   },
   {
    "duration": 23,
    "start_time": "2024-08-01T11:18:56.913Z"
   },
   {
    "duration": 7210,
    "start_time": "2024-08-01T11:18:56.938Z"
   },
   {
    "duration": 909,
    "start_time": "2024-08-01T11:19:04.149Z"
   },
   {
    "duration": 6,
    "start_time": "2024-08-01T11:19:05.060Z"
   },
   {
    "duration": 68,
    "start_time": "2024-08-01T11:19:05.068Z"
   },
   {
    "duration": 7731,
    "start_time": "2024-08-01T11:19:05.138Z"
   },
   {
    "duration": 981,
    "start_time": "2024-08-01T11:19:12.870Z"
   },
   {
    "duration": 4,
    "start_time": "2024-08-01T11:19:13.853Z"
   },
   {
    "duration": 50,
    "start_time": "2024-08-01T11:19:13.858Z"
   },
   {
    "duration": 70,
    "start_time": "2024-08-01T11:19:13.909Z"
   },
   {
    "duration": 7453,
    "start_time": "2024-08-01T11:19:13.980Z"
   },
   {
    "duration": 833,
    "start_time": "2024-08-01T11:19:21.435Z"
   },
   {
    "duration": 5,
    "start_time": "2024-08-01T11:22:50.586Z"
   },
   {
    "duration": 36,
    "start_time": "2024-08-01T11:22:52.003Z"
   },
   {
    "duration": 5,
    "start_time": "2024-08-01T11:23:01.830Z"
   },
   {
    "duration": 38,
    "start_time": "2024-08-01T11:23:03.489Z"
   },
   {
    "duration": 6,
    "start_time": "2024-08-01T11:23:36.089Z"
   },
   {
    "duration": 7134,
    "start_time": "2024-08-01T11:23:36.589Z"
   },
   {
    "duration": 5,
    "start_time": "2024-08-01T11:23:48.647Z"
   },
   {
    "duration": 37,
    "start_time": "2024-08-01T11:23:49.589Z"
   },
   {
    "duration": 4,
    "start_time": "2024-08-01T11:32:19.845Z"
   },
   {
    "duration": 17,
    "start_time": "2024-08-01T11:46:32.635Z"
   },
   {
    "duration": 5,
    "start_time": "2024-08-01T11:46:47.294Z"
   },
   {
    "duration": 8201,
    "start_time": "2024-08-01T11:47:21.096Z"
   },
   {
    "duration": 4,
    "start_time": "2024-08-01T11:49:24.095Z"
   },
   {
    "duration": 8435,
    "start_time": "2024-08-01T11:49:26.923Z"
   },
   {
    "duration": 406,
    "start_time": "2024-08-01T11:50:33.918Z"
   },
   {
    "duration": 4,
    "start_time": "2024-08-01T11:51:16.371Z"
   },
   {
    "duration": 1702,
    "start_time": "2024-08-01T11:51:18.783Z"
   },
   {
    "duration": 8406,
    "start_time": "2024-08-01T11:52:15.287Z"
   },
   {
    "duration": 303,
    "start_time": "2024-08-01T11:52:24.599Z"
   },
   {
    "duration": 312,
    "start_time": "2024-08-01T11:52:30.692Z"
   },
   {
    "duration": 1826,
    "start_time": "2024-08-01T11:52:46.415Z"
   },
   {
    "duration": 432,
    "start_time": "2024-08-01T11:52:53.063Z"
   },
   {
    "duration": 5,
    "start_time": "2024-08-01T11:53:51.779Z"
   },
   {
    "duration": 1632,
    "start_time": "2024-08-01T11:53:56.112Z"
   },
   {
    "duration": 1626,
    "start_time": "2024-08-01T11:54:04.591Z"
   },
   {
    "duration": 8468,
    "start_time": "2024-08-01T11:54:24.567Z"
   },
   {
    "duration": 1769,
    "start_time": "2024-08-01T11:54:35.668Z"
   },
   {
    "duration": 5,
    "start_time": "2024-08-01T12:04:30.492Z"
   },
   {
    "duration": 5,
    "start_time": "2024-08-01T12:04:35.871Z"
   },
   {
    "duration": 37,
    "start_time": "2024-08-01T12:04:37.876Z"
   },
   {
    "duration": 6,
    "start_time": "2024-08-01T12:04:43.180Z"
   },
   {
    "duration": 38,
    "start_time": "2024-08-01T12:04:44.420Z"
   },
   {
    "duration": 5,
    "start_time": "2024-08-01T12:04:50.872Z"
   },
   {
    "duration": 37,
    "start_time": "2024-08-01T12:04:52.428Z"
   },
   {
    "duration": 8262,
    "start_time": "2024-08-01T12:05:07.696Z"
   },
   {
    "duration": 1924,
    "start_time": "2024-08-01T12:07:53.402Z"
   },
   {
    "duration": 5,
    "start_time": "2024-08-01T12:09:30.065Z"
   },
   {
    "duration": 38,
    "start_time": "2024-08-01T12:09:36.029Z"
   },
   {
    "duration": 8255,
    "start_time": "2024-08-01T12:09:47.590Z"
   },
   {
    "duration": 1676,
    "start_time": "2024-08-01T12:10:12.057Z"
   },
   {
    "duration": 5,
    "start_time": "2024-08-01T12:13:02.730Z"
   },
   {
    "duration": 37,
    "start_time": "2024-08-01T12:13:04.610Z"
   },
   {
    "duration": 5,
    "start_time": "2024-08-01T12:13:08.182Z"
   },
   {
    "duration": 37,
    "start_time": "2024-08-01T12:13:10.246Z"
   },
   {
    "duration": 33,
    "start_time": "2024-08-01T12:14:08.598Z"
   },
   {
    "duration": 22,
    "start_time": "2024-08-01T12:14:18.803Z"
   },
   {
    "duration": 1835,
    "start_time": "2024-08-01T12:14:29.289Z"
   },
   {
    "duration": 2649,
    "start_time": "2024-08-01T12:14:31.125Z"
   },
   {
    "duration": 2620,
    "start_time": "2024-08-01T12:14:33.775Z"
   },
   {
    "duration": 5498,
    "start_time": "2024-08-01T12:14:36.398Z"
   },
   {
    "duration": 82,
    "start_time": "2024-08-01T12:14:41.898Z"
   },
   {
    "duration": 18,
    "start_time": "2024-08-01T12:14:41.982Z"
   },
   {
    "duration": 60,
    "start_time": "2024-08-01T12:14:42.001Z"
   },
   {
    "duration": 7,
    "start_time": "2024-08-01T12:14:42.062Z"
   },
   {
    "duration": 7,
    "start_time": "2024-08-01T12:14:42.070Z"
   },
   {
    "duration": 31,
    "start_time": "2024-08-01T12:14:42.079Z"
   },
   {
    "duration": 221,
    "start_time": "2024-08-01T12:14:42.111Z"
   },
   {
    "duration": 3,
    "start_time": "2024-08-01T12:14:42.333Z"
   },
   {
    "duration": 7,
    "start_time": "2024-08-01T12:14:42.337Z"
   },
   {
    "duration": 10,
    "start_time": "2024-08-01T12:14:42.345Z"
   },
   {
    "duration": 11,
    "start_time": "2024-08-01T12:14:42.356Z"
   },
   {
    "duration": 3,
    "start_time": "2024-08-01T12:14:42.368Z"
   },
   {
    "duration": 7,
    "start_time": "2024-08-01T12:14:42.373Z"
   },
   {
    "duration": 80,
    "start_time": "2024-08-01T12:14:42.381Z"
   },
   {
    "duration": 4,
    "start_time": "2024-08-01T12:14:42.462Z"
   },
   {
    "duration": 7,
    "start_time": "2024-08-01T12:14:42.467Z"
   },
   {
    "duration": 37,
    "start_time": "2024-08-01T12:14:42.475Z"
   },
   {
    "duration": 4301,
    "start_time": "2024-08-01T12:14:42.513Z"
   },
   {
    "duration": 847,
    "start_time": "2024-08-01T12:14:46.815Z"
   },
   {
    "duration": 959,
    "start_time": "2024-08-01T12:14:47.663Z"
   },
   {
    "duration": 5,
    "start_time": "2024-08-01T12:14:48.623Z"
   },
   {
    "duration": 966,
    "start_time": "2024-08-01T12:14:48.629Z"
   },
   {
    "duration": 240,
    "start_time": "2024-08-01T12:14:49.597Z"
   },
   {
    "duration": 891,
    "start_time": "2024-08-01T12:14:49.841Z"
   },
   {
    "duration": 218,
    "start_time": "2024-08-01T12:14:50.734Z"
   },
   {
    "duration": 943,
    "start_time": "2024-08-01T12:14:50.953Z"
   },
   {
    "duration": 55,
    "start_time": "2024-08-01T12:14:51.902Z"
   },
   {
    "duration": 14,
    "start_time": "2024-08-01T12:14:51.958Z"
   },
   {
    "duration": 101,
    "start_time": "2024-08-01T12:14:51.974Z"
   },
   {
    "duration": 30,
    "start_time": "2024-08-01T12:14:52.077Z"
   },
   {
    "duration": 912,
    "start_time": "2024-08-01T12:14:52.108Z"
   },
   {
    "duration": 9,
    "start_time": "2024-08-01T12:14:53.021Z"
   },
   {
    "duration": 747,
    "start_time": "2024-08-01T12:14:53.031Z"
   },
   {
    "duration": 8,
    "start_time": "2024-08-01T12:14:53.779Z"
   },
   {
    "duration": 678,
    "start_time": "2024-08-01T12:14:53.788Z"
   },
   {
    "duration": 1629,
    "start_time": "2024-08-01T12:14:54.468Z"
   },
   {
    "duration": 10,
    "start_time": "2024-08-01T12:14:56.098Z"
   },
   {
    "duration": 191,
    "start_time": "2024-08-01T12:14:56.109Z"
   },
   {
    "duration": 42,
    "start_time": "2024-08-01T12:14:56.301Z"
   },
   {
    "duration": 32,
    "start_time": "2024-08-01T12:14:56.344Z"
   },
   {
    "duration": 101,
    "start_time": "2024-08-01T12:14:56.378Z"
   },
   {
    "duration": 50,
    "start_time": "2024-08-01T12:14:56.480Z"
   },
   {
    "duration": 89,
    "start_time": "2024-08-01T12:14:56.532Z"
   },
   {
    "duration": 49,
    "start_time": "2024-08-01T12:14:56.622Z"
   },
   {
    "duration": 62,
    "start_time": "2024-08-01T12:14:56.672Z"
   },
   {
    "duration": 23547,
    "start_time": "2024-08-01T12:14:56.735Z"
   },
   {
    "duration": 3,
    "start_time": "2024-08-01T12:15:20.284Z"
   },
   {
    "duration": 48,
    "start_time": "2024-08-01T12:15:20.289Z"
   },
   {
    "duration": 31,
    "start_time": "2024-08-01T12:15:20.339Z"
   },
   {
    "duration": 19,
    "start_time": "2024-08-01T12:15:20.371Z"
   },
   {
    "duration": 46,
    "start_time": "2024-08-01T12:15:20.391Z"
   },
   {
    "duration": 18,
    "start_time": "2024-08-01T12:15:20.439Z"
   },
   {
    "duration": 34,
    "start_time": "2024-08-01T12:15:20.458Z"
   },
   {
    "duration": 55,
    "start_time": "2024-08-01T12:15:20.493Z"
   },
   {
    "duration": 27,
    "start_time": "2024-08-01T12:15:20.549Z"
   },
   {
    "duration": 496,
    "start_time": "2024-08-01T12:15:20.578Z"
   },
   {
    "duration": 4,
    "start_time": "2024-08-01T12:15:21.076Z"
   },
   {
    "duration": 26,
    "start_time": "2024-08-01T12:15:21.081Z"
   },
   {
    "duration": 95,
    "start_time": "2024-08-01T12:15:21.108Z"
   },
   {
    "duration": 5,
    "start_time": "2024-08-01T12:15:21.205Z"
   },
   {
    "duration": 103,
    "start_time": "2024-08-01T12:15:21.212Z"
   },
   {
    "duration": 21,
    "start_time": "2024-08-01T12:15:21.317Z"
   },
   {
    "duration": 22,
    "start_time": "2024-08-01T12:15:21.339Z"
   },
   {
    "duration": 27,
    "start_time": "2024-08-01T12:15:21.362Z"
   },
   {
    "duration": 43,
    "start_time": "2024-08-01T12:15:21.391Z"
   },
   {
    "duration": 59,
    "start_time": "2024-08-01T12:15:21.436Z"
   },
   {
    "duration": 11,
    "start_time": "2024-08-01T12:15:21.496Z"
   },
   {
    "duration": 8325,
    "start_time": "2024-08-01T12:15:21.509Z"
   },
   {
    "duration": 146,
    "start_time": "2024-08-01T12:15:29.836Z"
   },
   {
    "duration": 0,
    "start_time": "2024-08-01T12:15:29.984Z"
   },
   {
    "duration": 0,
    "start_time": "2024-08-01T12:15:29.985Z"
   },
   {
    "duration": 0,
    "start_time": "2024-08-01T12:15:29.986Z"
   },
   {
    "duration": 0,
    "start_time": "2024-08-01T12:15:29.987Z"
   },
   {
    "duration": 0,
    "start_time": "2024-08-01T12:15:30.002Z"
   },
   {
    "duration": 0,
    "start_time": "2024-08-01T12:15:30.003Z"
   },
   {
    "duration": 0,
    "start_time": "2024-08-01T12:15:30.004Z"
   },
   {
    "duration": 0,
    "start_time": "2024-08-01T12:15:30.005Z"
   },
   {
    "duration": 0,
    "start_time": "2024-08-01T12:15:30.005Z"
   },
   {
    "duration": 0,
    "start_time": "2024-08-01T12:15:30.006Z"
   },
   {
    "duration": 5,
    "start_time": "2024-08-01T12:15:53.074Z"
   },
   {
    "duration": 5,
    "start_time": "2024-08-01T12:15:56.578Z"
   },
   {
    "duration": 36,
    "start_time": "2024-08-01T12:15:57.086Z"
   },
   {
    "duration": 5,
    "start_time": "2024-08-01T12:15:57.550Z"
   },
   {
    "duration": 8264,
    "start_time": "2024-08-01T12:15:58.286Z"
   },
   {
    "duration": 1770,
    "start_time": "2024-08-01T12:16:06.552Z"
   },
   {
    "duration": 5,
    "start_time": "2024-08-01T12:16:13.950Z"
   },
   {
    "duration": 36,
    "start_time": "2024-08-01T12:16:14.434Z"
   },
   {
    "duration": 8638,
    "start_time": "2024-08-01T12:16:14.894Z"
   },
   {
    "duration": 1788,
    "start_time": "2024-08-01T12:16:23.534Z"
   },
   {
    "duration": 5,
    "start_time": "2024-08-01T12:16:25.323Z"
   },
   {
    "duration": 7,
    "start_time": "2024-08-01T12:16:25.329Z"
   },
   {
    "duration": 18,
    "start_time": "2024-08-01T12:16:25.337Z"
   },
   {
    "duration": 43,
    "start_time": "2024-08-01T12:16:25.356Z"
   },
   {
    "duration": 8445,
    "start_time": "2024-08-01T12:16:25.400Z"
   },
   {
    "duration": 1873,
    "start_time": "2024-08-01T12:16:33.846Z"
   }
  ],
  "colab": {
   "provenance": []
  },
  "kernelspec": {
   "display_name": "Python 3 (ipykernel)",
   "language": "python",
   "name": "python3"
  },
  "language_info": {
   "codemirror_mode": {
    "name": "ipython",
    "version": 3
   },
   "file_extension": ".py",
   "mimetype": "text/x-python",
   "name": "python",
   "nbconvert_exporter": "python",
   "pygments_lexer": "ipython3",
   "version": "3.9.12"
  },
  "toc": {
   "base_numbering": 1,
   "nav_menu": {},
   "number_sections": true,
   "sideBar": true,
   "skip_h1_title": true,
   "title_cell": "Table of Contents",
   "title_sidebar": "Contents",
   "toc_cell": false,
   "toc_position": {
    "height": "calc(100% - 180px)",
    "left": "10px",
    "top": "150px",
    "width": "306.182px"
   },
   "toc_section_display": true,
   "toc_window_display": true
  }
 },
 "nbformat": 4,
 "nbformat_minor": 1
}
